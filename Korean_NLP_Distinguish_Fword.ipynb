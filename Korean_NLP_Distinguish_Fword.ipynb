{
  "nbformat": 4,
  "nbformat_minor": 0,
  "metadata": {
    "colab": {
      "name": "Korean_NLP_Distinguish_Fword.ipynb",
      "provenance": [],
      "collapsed_sections": [],
      "authorship_tag": "ABX9TyMCzFEej4vvHPKKIHOcLmCH"
    },
    "kernelspec": {
      "name": "python3",
      "display_name": "Python 3"
    },
    "language_info": {
      "name": "python"
    },
    "widgets": {
      "application/vnd.jupyter.widget-state+json": {
        "57657ccea84f4c01a58414ef3339433e": {
          "model_module": "@jupyter-widgets/controls",
          "model_name": "HBoxModel",
          "model_module_version": "1.5.0",
          "state": {
            "_dom_classes": [],
            "_model_module": "@jupyter-widgets/controls",
            "_model_module_version": "1.5.0",
            "_model_name": "HBoxModel",
            "_view_count": null,
            "_view_module": "@jupyter-widgets/controls",
            "_view_module_version": "1.5.0",
            "_view_name": "HBoxView",
            "box_style": "",
            "children": [
              "IPY_MODEL_e0d2354335ef4e8b8518b360eec1db6b",
              "IPY_MODEL_aebc3ecf35984994820c6e45c7ad496e",
              "IPY_MODEL_04f95c6668104e1aa84bc6c16f3150f5"
            ],
            "layout": "IPY_MODEL_36e5693911df4bbebeae726f77f2b2b0"
          }
        },
        "e0d2354335ef4e8b8518b360eec1db6b": {
          "model_module": "@jupyter-widgets/controls",
          "model_name": "HTMLModel",
          "model_module_version": "1.5.0",
          "state": {
            "_dom_classes": [],
            "_model_module": "@jupyter-widgets/controls",
            "_model_module_version": "1.5.0",
            "_model_name": "HTMLModel",
            "_view_count": null,
            "_view_module": "@jupyter-widgets/controls",
            "_view_module_version": "1.5.0",
            "_view_name": "HTMLView",
            "description": "",
            "description_tooltip": null,
            "layout": "IPY_MODEL_12bb6d5897d04fff9c672623bce4244a",
            "placeholder": "​",
            "style": "IPY_MODEL_28a0e8ad99894133aae43bbd94b97ed5",
            "value": "100%"
          }
        },
        "aebc3ecf35984994820c6e45c7ad496e": {
          "model_module": "@jupyter-widgets/controls",
          "model_name": "FloatProgressModel",
          "model_module_version": "1.5.0",
          "state": {
            "_dom_classes": [],
            "_model_module": "@jupyter-widgets/controls",
            "_model_module_version": "1.5.0",
            "_model_name": "FloatProgressModel",
            "_view_count": null,
            "_view_module": "@jupyter-widgets/controls",
            "_view_module_version": "1.5.0",
            "_view_name": "ProgressView",
            "bar_style": "success",
            "description": "",
            "description_tooltip": null,
            "layout": "IPY_MODEL_9d98efae852d4134ab47f43f24c2e7ac",
            "max": 14282,
            "min": 0,
            "orientation": "horizontal",
            "style": "IPY_MODEL_aa6ab1b8bd7a4d38a80906d04e297005",
            "value": 14282
          }
        },
        "04f95c6668104e1aa84bc6c16f3150f5": {
          "model_module": "@jupyter-widgets/controls",
          "model_name": "HTMLModel",
          "model_module_version": "1.5.0",
          "state": {
            "_dom_classes": [],
            "_model_module": "@jupyter-widgets/controls",
            "_model_module_version": "1.5.0",
            "_model_name": "HTMLModel",
            "_view_count": null,
            "_view_module": "@jupyter-widgets/controls",
            "_view_module_version": "1.5.0",
            "_view_name": "HTMLView",
            "description": "",
            "description_tooltip": null,
            "layout": "IPY_MODEL_badbaade301f4115b3b78113f5004fee",
            "placeholder": "​",
            "style": "IPY_MODEL_68d5cf74a44b4de2a34cfdbae9242fbc",
            "value": " 14282/14282 [00:08&lt;00:00, 2620.15it/s]"
          }
        },
        "36e5693911df4bbebeae726f77f2b2b0": {
          "model_module": "@jupyter-widgets/base",
          "model_name": "LayoutModel",
          "model_module_version": "1.2.0",
          "state": {
            "_model_module": "@jupyter-widgets/base",
            "_model_module_version": "1.2.0",
            "_model_name": "LayoutModel",
            "_view_count": null,
            "_view_module": "@jupyter-widgets/base",
            "_view_module_version": "1.2.0",
            "_view_name": "LayoutView",
            "align_content": null,
            "align_items": null,
            "align_self": null,
            "border": null,
            "bottom": null,
            "display": null,
            "flex": null,
            "flex_flow": null,
            "grid_area": null,
            "grid_auto_columns": null,
            "grid_auto_flow": null,
            "grid_auto_rows": null,
            "grid_column": null,
            "grid_gap": null,
            "grid_row": null,
            "grid_template_areas": null,
            "grid_template_columns": null,
            "grid_template_rows": null,
            "height": null,
            "justify_content": null,
            "justify_items": null,
            "left": null,
            "margin": null,
            "max_height": null,
            "max_width": null,
            "min_height": null,
            "min_width": null,
            "object_fit": null,
            "object_position": null,
            "order": null,
            "overflow": null,
            "overflow_x": null,
            "overflow_y": null,
            "padding": null,
            "right": null,
            "top": null,
            "visibility": null,
            "width": null
          }
        },
        "12bb6d5897d04fff9c672623bce4244a": {
          "model_module": "@jupyter-widgets/base",
          "model_name": "LayoutModel",
          "model_module_version": "1.2.0",
          "state": {
            "_model_module": "@jupyter-widgets/base",
            "_model_module_version": "1.2.0",
            "_model_name": "LayoutModel",
            "_view_count": null,
            "_view_module": "@jupyter-widgets/base",
            "_view_module_version": "1.2.0",
            "_view_name": "LayoutView",
            "align_content": null,
            "align_items": null,
            "align_self": null,
            "border": null,
            "bottom": null,
            "display": null,
            "flex": null,
            "flex_flow": null,
            "grid_area": null,
            "grid_auto_columns": null,
            "grid_auto_flow": null,
            "grid_auto_rows": null,
            "grid_column": null,
            "grid_gap": null,
            "grid_row": null,
            "grid_template_areas": null,
            "grid_template_columns": null,
            "grid_template_rows": null,
            "height": null,
            "justify_content": null,
            "justify_items": null,
            "left": null,
            "margin": null,
            "max_height": null,
            "max_width": null,
            "min_height": null,
            "min_width": null,
            "object_fit": null,
            "object_position": null,
            "order": null,
            "overflow": null,
            "overflow_x": null,
            "overflow_y": null,
            "padding": null,
            "right": null,
            "top": null,
            "visibility": null,
            "width": null
          }
        },
        "28a0e8ad99894133aae43bbd94b97ed5": {
          "model_module": "@jupyter-widgets/controls",
          "model_name": "DescriptionStyleModel",
          "model_module_version": "1.5.0",
          "state": {
            "_model_module": "@jupyter-widgets/controls",
            "_model_module_version": "1.5.0",
            "_model_name": "DescriptionStyleModel",
            "_view_count": null,
            "_view_module": "@jupyter-widgets/base",
            "_view_module_version": "1.2.0",
            "_view_name": "StyleView",
            "description_width": ""
          }
        },
        "9d98efae852d4134ab47f43f24c2e7ac": {
          "model_module": "@jupyter-widgets/base",
          "model_name": "LayoutModel",
          "model_module_version": "1.2.0",
          "state": {
            "_model_module": "@jupyter-widgets/base",
            "_model_module_version": "1.2.0",
            "_model_name": "LayoutModel",
            "_view_count": null,
            "_view_module": "@jupyter-widgets/base",
            "_view_module_version": "1.2.0",
            "_view_name": "LayoutView",
            "align_content": null,
            "align_items": null,
            "align_self": null,
            "border": null,
            "bottom": null,
            "display": null,
            "flex": null,
            "flex_flow": null,
            "grid_area": null,
            "grid_auto_columns": null,
            "grid_auto_flow": null,
            "grid_auto_rows": null,
            "grid_column": null,
            "grid_gap": null,
            "grid_row": null,
            "grid_template_areas": null,
            "grid_template_columns": null,
            "grid_template_rows": null,
            "height": null,
            "justify_content": null,
            "justify_items": null,
            "left": null,
            "margin": null,
            "max_height": null,
            "max_width": null,
            "min_height": null,
            "min_width": null,
            "object_fit": null,
            "object_position": null,
            "order": null,
            "overflow": null,
            "overflow_x": null,
            "overflow_y": null,
            "padding": null,
            "right": null,
            "top": null,
            "visibility": null,
            "width": null
          }
        },
        "aa6ab1b8bd7a4d38a80906d04e297005": {
          "model_module": "@jupyter-widgets/controls",
          "model_name": "ProgressStyleModel",
          "model_module_version": "1.5.0",
          "state": {
            "_model_module": "@jupyter-widgets/controls",
            "_model_module_version": "1.5.0",
            "_model_name": "ProgressStyleModel",
            "_view_count": null,
            "_view_module": "@jupyter-widgets/base",
            "_view_module_version": "1.2.0",
            "_view_name": "StyleView",
            "bar_color": null,
            "description_width": ""
          }
        },
        "badbaade301f4115b3b78113f5004fee": {
          "model_module": "@jupyter-widgets/base",
          "model_name": "LayoutModel",
          "model_module_version": "1.2.0",
          "state": {
            "_model_module": "@jupyter-widgets/base",
            "_model_module_version": "1.2.0",
            "_model_name": "LayoutModel",
            "_view_count": null,
            "_view_module": "@jupyter-widgets/base",
            "_view_module_version": "1.2.0",
            "_view_name": "LayoutView",
            "align_content": null,
            "align_items": null,
            "align_self": null,
            "border": null,
            "bottom": null,
            "display": null,
            "flex": null,
            "flex_flow": null,
            "grid_area": null,
            "grid_auto_columns": null,
            "grid_auto_flow": null,
            "grid_auto_rows": null,
            "grid_column": null,
            "grid_gap": null,
            "grid_row": null,
            "grid_template_areas": null,
            "grid_template_columns": null,
            "grid_template_rows": null,
            "height": null,
            "justify_content": null,
            "justify_items": null,
            "left": null,
            "margin": null,
            "max_height": null,
            "max_width": null,
            "min_height": null,
            "min_width": null,
            "object_fit": null,
            "object_position": null,
            "order": null,
            "overflow": null,
            "overflow_x": null,
            "overflow_y": null,
            "padding": null,
            "right": null,
            "top": null,
            "visibility": null,
            "width": null
          }
        },
        "68d5cf74a44b4de2a34cfdbae9242fbc": {
          "model_module": "@jupyter-widgets/controls",
          "model_name": "DescriptionStyleModel",
          "model_module_version": "1.5.0",
          "state": {
            "_model_module": "@jupyter-widgets/controls",
            "_model_module_version": "1.5.0",
            "_model_name": "DescriptionStyleModel",
            "_view_count": null,
            "_view_module": "@jupyter-widgets/base",
            "_view_module_version": "1.2.0",
            "_view_name": "StyleView",
            "description_width": ""
          }
        },
        "adeeb7015a4d4e7f9cb4928c1e02d87b": {
          "model_module": "@jupyter-widgets/controls",
          "model_name": "HBoxModel",
          "model_module_version": "1.5.0",
          "state": {
            "_dom_classes": [],
            "_model_module": "@jupyter-widgets/controls",
            "_model_module_version": "1.5.0",
            "_model_name": "HBoxModel",
            "_view_count": null,
            "_view_module": "@jupyter-widgets/controls",
            "_view_module_version": "1.5.0",
            "_view_name": "HBoxView",
            "box_style": "",
            "children": [
              "IPY_MODEL_1ce9522ab058422484796bc145cfa649",
              "IPY_MODEL_e77c73254a604b3a83fe4cccd6e52db0",
              "IPY_MODEL_ba27685ddbda494bbb2087f3c33d0d74"
            ],
            "layout": "IPY_MODEL_5df80dee3d4f4c90bd1d8b7ec3411c83"
          }
        },
        "1ce9522ab058422484796bc145cfa649": {
          "model_module": "@jupyter-widgets/controls",
          "model_name": "HTMLModel",
          "model_module_version": "1.5.0",
          "state": {
            "_dom_classes": [],
            "_model_module": "@jupyter-widgets/controls",
            "_model_module_version": "1.5.0",
            "_model_name": "HTMLModel",
            "_view_count": null,
            "_view_module": "@jupyter-widgets/controls",
            "_view_module_version": "1.5.0",
            "_view_name": "HTMLView",
            "description": "",
            "description_tooltip": null,
            "layout": "IPY_MODEL_b8dcf957f9a546068af4570069228aea",
            "placeholder": "​",
            "style": "IPY_MODEL_aa9db3b79c3642c2a362f72e6e99c72c",
            "value": "100%"
          }
        },
        "e77c73254a604b3a83fe4cccd6e52db0": {
          "model_module": "@jupyter-widgets/controls",
          "model_name": "FloatProgressModel",
          "model_module_version": "1.5.0",
          "state": {
            "_dom_classes": [],
            "_model_module": "@jupyter-widgets/controls",
            "_model_module_version": "1.5.0",
            "_model_name": "FloatProgressModel",
            "_view_count": null,
            "_view_module": "@jupyter-widgets/controls",
            "_view_module_version": "1.5.0",
            "_view_name": "ProgressView",
            "bar_style": "success",
            "description": "",
            "description_tooltip": null,
            "layout": "IPY_MODEL_5e946e2b64fd46819af413286fd91ff8",
            "max": 3600,
            "min": 0,
            "orientation": "horizontal",
            "style": "IPY_MODEL_34dfd16111eb499d82d3439f44f843c5",
            "value": 3600
          }
        },
        "ba27685ddbda494bbb2087f3c33d0d74": {
          "model_module": "@jupyter-widgets/controls",
          "model_name": "HTMLModel",
          "model_module_version": "1.5.0",
          "state": {
            "_dom_classes": [],
            "_model_module": "@jupyter-widgets/controls",
            "_model_module_version": "1.5.0",
            "_model_name": "HTMLModel",
            "_view_count": null,
            "_view_module": "@jupyter-widgets/controls",
            "_view_module_version": "1.5.0",
            "_view_name": "HTMLView",
            "description": "",
            "description_tooltip": null,
            "layout": "IPY_MODEL_44f3f72c0a984a3c9e575b6e856b20fe",
            "placeholder": "​",
            "style": "IPY_MODEL_c8d4072e529f484187bceb734fef02ad",
            "value": " 3600/3600 [00:01&lt;00:00, 2639.34it/s]"
          }
        },
        "5df80dee3d4f4c90bd1d8b7ec3411c83": {
          "model_module": "@jupyter-widgets/base",
          "model_name": "LayoutModel",
          "model_module_version": "1.2.0",
          "state": {
            "_model_module": "@jupyter-widgets/base",
            "_model_module_version": "1.2.0",
            "_model_name": "LayoutModel",
            "_view_count": null,
            "_view_module": "@jupyter-widgets/base",
            "_view_module_version": "1.2.0",
            "_view_name": "LayoutView",
            "align_content": null,
            "align_items": null,
            "align_self": null,
            "border": null,
            "bottom": null,
            "display": null,
            "flex": null,
            "flex_flow": null,
            "grid_area": null,
            "grid_auto_columns": null,
            "grid_auto_flow": null,
            "grid_auto_rows": null,
            "grid_column": null,
            "grid_gap": null,
            "grid_row": null,
            "grid_template_areas": null,
            "grid_template_columns": null,
            "grid_template_rows": null,
            "height": null,
            "justify_content": null,
            "justify_items": null,
            "left": null,
            "margin": null,
            "max_height": null,
            "max_width": null,
            "min_height": null,
            "min_width": null,
            "object_fit": null,
            "object_position": null,
            "order": null,
            "overflow": null,
            "overflow_x": null,
            "overflow_y": null,
            "padding": null,
            "right": null,
            "top": null,
            "visibility": null,
            "width": null
          }
        },
        "b8dcf957f9a546068af4570069228aea": {
          "model_module": "@jupyter-widgets/base",
          "model_name": "LayoutModel",
          "model_module_version": "1.2.0",
          "state": {
            "_model_module": "@jupyter-widgets/base",
            "_model_module_version": "1.2.0",
            "_model_name": "LayoutModel",
            "_view_count": null,
            "_view_module": "@jupyter-widgets/base",
            "_view_module_version": "1.2.0",
            "_view_name": "LayoutView",
            "align_content": null,
            "align_items": null,
            "align_self": null,
            "border": null,
            "bottom": null,
            "display": null,
            "flex": null,
            "flex_flow": null,
            "grid_area": null,
            "grid_auto_columns": null,
            "grid_auto_flow": null,
            "grid_auto_rows": null,
            "grid_column": null,
            "grid_gap": null,
            "grid_row": null,
            "grid_template_areas": null,
            "grid_template_columns": null,
            "grid_template_rows": null,
            "height": null,
            "justify_content": null,
            "justify_items": null,
            "left": null,
            "margin": null,
            "max_height": null,
            "max_width": null,
            "min_height": null,
            "min_width": null,
            "object_fit": null,
            "object_position": null,
            "order": null,
            "overflow": null,
            "overflow_x": null,
            "overflow_y": null,
            "padding": null,
            "right": null,
            "top": null,
            "visibility": null,
            "width": null
          }
        },
        "aa9db3b79c3642c2a362f72e6e99c72c": {
          "model_module": "@jupyter-widgets/controls",
          "model_name": "DescriptionStyleModel",
          "model_module_version": "1.5.0",
          "state": {
            "_model_module": "@jupyter-widgets/controls",
            "_model_module_version": "1.5.0",
            "_model_name": "DescriptionStyleModel",
            "_view_count": null,
            "_view_module": "@jupyter-widgets/base",
            "_view_module_version": "1.2.0",
            "_view_name": "StyleView",
            "description_width": ""
          }
        },
        "5e946e2b64fd46819af413286fd91ff8": {
          "model_module": "@jupyter-widgets/base",
          "model_name": "LayoutModel",
          "model_module_version": "1.2.0",
          "state": {
            "_model_module": "@jupyter-widgets/base",
            "_model_module_version": "1.2.0",
            "_model_name": "LayoutModel",
            "_view_count": null,
            "_view_module": "@jupyter-widgets/base",
            "_view_module_version": "1.2.0",
            "_view_name": "LayoutView",
            "align_content": null,
            "align_items": null,
            "align_self": null,
            "border": null,
            "bottom": null,
            "display": null,
            "flex": null,
            "flex_flow": null,
            "grid_area": null,
            "grid_auto_columns": null,
            "grid_auto_flow": null,
            "grid_auto_rows": null,
            "grid_column": null,
            "grid_gap": null,
            "grid_row": null,
            "grid_template_areas": null,
            "grid_template_columns": null,
            "grid_template_rows": null,
            "height": null,
            "justify_content": null,
            "justify_items": null,
            "left": null,
            "margin": null,
            "max_height": null,
            "max_width": null,
            "min_height": null,
            "min_width": null,
            "object_fit": null,
            "object_position": null,
            "order": null,
            "overflow": null,
            "overflow_x": null,
            "overflow_y": null,
            "padding": null,
            "right": null,
            "top": null,
            "visibility": null,
            "width": null
          }
        },
        "34dfd16111eb499d82d3439f44f843c5": {
          "model_module": "@jupyter-widgets/controls",
          "model_name": "ProgressStyleModel",
          "model_module_version": "1.5.0",
          "state": {
            "_model_module": "@jupyter-widgets/controls",
            "_model_module_version": "1.5.0",
            "_model_name": "ProgressStyleModel",
            "_view_count": null,
            "_view_module": "@jupyter-widgets/base",
            "_view_module_version": "1.2.0",
            "_view_name": "StyleView",
            "bar_color": null,
            "description_width": ""
          }
        },
        "44f3f72c0a984a3c9e575b6e856b20fe": {
          "model_module": "@jupyter-widgets/base",
          "model_name": "LayoutModel",
          "model_module_version": "1.2.0",
          "state": {
            "_model_module": "@jupyter-widgets/base",
            "_model_module_version": "1.2.0",
            "_model_name": "LayoutModel",
            "_view_count": null,
            "_view_module": "@jupyter-widgets/base",
            "_view_module_version": "1.2.0",
            "_view_name": "LayoutView",
            "align_content": null,
            "align_items": null,
            "align_self": null,
            "border": null,
            "bottom": null,
            "display": null,
            "flex": null,
            "flex_flow": null,
            "grid_area": null,
            "grid_auto_columns": null,
            "grid_auto_flow": null,
            "grid_auto_rows": null,
            "grid_column": null,
            "grid_gap": null,
            "grid_row": null,
            "grid_template_areas": null,
            "grid_template_columns": null,
            "grid_template_rows": null,
            "height": null,
            "justify_content": null,
            "justify_items": null,
            "left": null,
            "margin": null,
            "max_height": null,
            "max_width": null,
            "min_height": null,
            "min_width": null,
            "object_fit": null,
            "object_position": null,
            "order": null,
            "overflow": null,
            "overflow_x": null,
            "overflow_y": null,
            "padding": null,
            "right": null,
            "top": null,
            "visibility": null,
            "width": null
          }
        },
        "c8d4072e529f484187bceb734fef02ad": {
          "model_module": "@jupyter-widgets/controls",
          "model_name": "DescriptionStyleModel",
          "model_module_version": "1.5.0",
          "state": {
            "_model_module": "@jupyter-widgets/controls",
            "_model_module_version": "1.5.0",
            "_model_name": "DescriptionStyleModel",
            "_view_count": null,
            "_view_module": "@jupyter-widgets/base",
            "_view_module_version": "1.2.0",
            "_view_name": "StyleView",
            "description_width": ""
          }
        }
      }
    }
  },
  "cells": [
    {
      "cell_type": "markdown",
      "source": [
        "**필요한 패키지 설치**"
      ],
      "metadata": {
        "id": "fPg2QSxL8QLw"
      }
    },
    {
      "cell_type": "code",
      "source": [
        "pip install konlpy"
      ],
      "metadata": {
        "id": "jj9NVnFKzoGL"
      },
      "execution_count": null,
      "outputs": []
    },
    {
      "cell_type": "code",
      "source": [
        "pip install fasttext"
      ],
      "metadata": {
        "id": "Wn55u_5Gz0Y8"
      },
      "execution_count": null,
      "outputs": []
    },
    {
      "cell_type": "code",
      "source": [
        "pip install jamo"
      ],
      "metadata": {
        "id": "cjzTlb3kyYWb"
      },
      "execution_count": null,
      "outputs": []
    },
    {
      "cell_type": "code",
      "source": [
        "pip install tqdm"
      ],
      "metadata": {
        "id": "JyhjWZ640Pzm"
      },
      "execution_count": null,
      "outputs": []
    },
    {
      "cell_type": "code",
      "source": [
        "pip install pyyaml h5py"
      ],
      "metadata": {
        "id": "P-Du5ki60LJ3"
      },
      "execution_count": null,
      "outputs": []
    },
    {
      "cell_type": "code",
      "execution_count": 7,
      "metadata": {
        "id": "gy4ehVxvt9lh"
      },
      "outputs": [],
      "source": [
        "import pandas as pd\n",
        "import numpy as np\n",
        "import matplotlib.pyplot as plt\n",
        "from sklearn.model_selection import train_test_split    # train, test로 나누기 위한 패키지\n",
        "from konlpy.tag import *  # 한국어 처리를 위한 패키지\n",
        "import re # 정규표현식 패키지\n",
        "\n",
        "import fasttext\n",
        "from tqdm import tqdm_notebook\n",
        "from keras.layers import LSTM, Activation, Dropout, Dense, Input,Bidirectional\n",
        "from keras.layers.embeddings import Embedding\n",
        "from keras.models import Model\n",
        "from keras import layers\n",
        "from keras.callbacks import EarlyStopping\n",
        "import keras\n",
        "from keras.models import Sequential"
      ]
    },
    {
      "cell_type": "code",
      "source": [
        "data = pd.read_csv('/content/data.csv')\n",
        "data.Sentence = data.Sentence.astype(str) # Sentence칼럼 값들을 str로 변환\n",
        "data.head(6)"
      ],
      "metadata": {
        "colab": {
          "base_uri": "https://localhost:8080/",
          "height": 237
        },
        "id": "VNgewZRruIza",
        "outputId": "729852c2-7bdf-4d83-ece6-19d84ab46bf4"
      },
      "execution_count": 8,
      "outputs": [
        {
          "output_type": "execute_result",
          "data": {
            "text/plain": [
              "   Unnamed: 0                                           Sentence label_word  \\\n",
              "0           0         홍진영 언니 연기 잘 해 얼굴두 이쁘구 노래두 잘 부르구 끼도 많음 나는 퍽         긍정   \n",
              "1           1  그동안 열심히 앞만 보면서 묵묵히 살아왔는데 건강이 많이 안 좋다고 하네 열심히 살...         부정   \n",
              "2           2                     나를 떨리게 하나요 부터 완전 끌림 장범준 노래 멋져요         긍정   \n",
              "3           3                                    도움이 되었습니다 감사합니다         긍정   \n",
              "4           4                                            똥이 묻었노          욕설   \n",
              "5           5  저런 새 기들 땜에 얼마 전에 문 신충한테 쳐 맞은 택시 기사도 잘 쳐 맞았다는 소...         욕설   \n",
              "\n",
              "   label  \n",
              "0      0  \n",
              "1      1  \n",
              "2      0  \n",
              "3      0  \n",
              "4      2  \n",
              "5      2  "
            ],
            "text/html": [
              "\n",
              "  <div id=\"df-da508c81-a01b-4dcf-817d-0f8417b58399\">\n",
              "    <div class=\"colab-df-container\">\n",
              "      <div>\n",
              "<style scoped>\n",
              "    .dataframe tbody tr th:only-of-type {\n",
              "        vertical-align: middle;\n",
              "    }\n",
              "\n",
              "    .dataframe tbody tr th {\n",
              "        vertical-align: top;\n",
              "    }\n",
              "\n",
              "    .dataframe thead th {\n",
              "        text-align: right;\n",
              "    }\n",
              "</style>\n",
              "<table border=\"1\" class=\"dataframe\">\n",
              "  <thead>\n",
              "    <tr style=\"text-align: right;\">\n",
              "      <th></th>\n",
              "      <th>Unnamed: 0</th>\n",
              "      <th>Sentence</th>\n",
              "      <th>label_word</th>\n",
              "      <th>label</th>\n",
              "    </tr>\n",
              "  </thead>\n",
              "  <tbody>\n",
              "    <tr>\n",
              "      <th>0</th>\n",
              "      <td>0</td>\n",
              "      <td>홍진영 언니 연기 잘 해 얼굴두 이쁘구 노래두 잘 부르구 끼도 많음 나는 퍽</td>\n",
              "      <td>긍정</td>\n",
              "      <td>0</td>\n",
              "    </tr>\n",
              "    <tr>\n",
              "      <th>1</th>\n",
              "      <td>1</td>\n",
              "      <td>그동안 열심히 앞만 보면서 묵묵히 살아왔는데 건강이 많이 안 좋다고 하네 열심히 살...</td>\n",
              "      <td>부정</td>\n",
              "      <td>1</td>\n",
              "    </tr>\n",
              "    <tr>\n",
              "      <th>2</th>\n",
              "      <td>2</td>\n",
              "      <td>나를 떨리게 하나요 부터 완전 끌림 장범준 노래 멋져요</td>\n",
              "      <td>긍정</td>\n",
              "      <td>0</td>\n",
              "    </tr>\n",
              "    <tr>\n",
              "      <th>3</th>\n",
              "      <td>3</td>\n",
              "      <td>도움이 되었습니다 감사합니다</td>\n",
              "      <td>긍정</td>\n",
              "      <td>0</td>\n",
              "    </tr>\n",
              "    <tr>\n",
              "      <th>4</th>\n",
              "      <td>4</td>\n",
              "      <td>똥이 묻었노</td>\n",
              "      <td>욕설</td>\n",
              "      <td>2</td>\n",
              "    </tr>\n",
              "    <tr>\n",
              "      <th>5</th>\n",
              "      <td>5</td>\n",
              "      <td>저런 새 기들 땜에 얼마 전에 문 신충한테 쳐 맞은 택시 기사도 잘 쳐 맞았다는 소...</td>\n",
              "      <td>욕설</td>\n",
              "      <td>2</td>\n",
              "    </tr>\n",
              "  </tbody>\n",
              "</table>\n",
              "</div>\n",
              "      <button class=\"colab-df-convert\" onclick=\"convertToInteractive('df-da508c81-a01b-4dcf-817d-0f8417b58399')\"\n",
              "              title=\"Convert this dataframe to an interactive table.\"\n",
              "              style=\"display:none;\">\n",
              "        \n",
              "  <svg xmlns=\"http://www.w3.org/2000/svg\" height=\"24px\"viewBox=\"0 0 24 24\"\n",
              "       width=\"24px\">\n",
              "    <path d=\"M0 0h24v24H0V0z\" fill=\"none\"/>\n",
              "    <path d=\"M18.56 5.44l.94 2.06.94-2.06 2.06-.94-2.06-.94-.94-2.06-.94 2.06-2.06.94zm-11 1L8.5 8.5l.94-2.06 2.06-.94-2.06-.94L8.5 2.5l-.94 2.06-2.06.94zm10 10l.94 2.06.94-2.06 2.06-.94-2.06-.94-.94-2.06-.94 2.06-2.06.94z\"/><path d=\"M17.41 7.96l-1.37-1.37c-.4-.4-.92-.59-1.43-.59-.52 0-1.04.2-1.43.59L10.3 9.45l-7.72 7.72c-.78.78-.78 2.05 0 2.83L4 21.41c.39.39.9.59 1.41.59.51 0 1.02-.2 1.41-.59l7.78-7.78 2.81-2.81c.8-.78.8-2.07 0-2.86zM5.41 20L4 18.59l7.72-7.72 1.47 1.35L5.41 20z\"/>\n",
              "  </svg>\n",
              "      </button>\n",
              "      \n",
              "  <style>\n",
              "    .colab-df-container {\n",
              "      display:flex;\n",
              "      flex-wrap:wrap;\n",
              "      gap: 12px;\n",
              "    }\n",
              "\n",
              "    .colab-df-convert {\n",
              "      background-color: #E8F0FE;\n",
              "      border: none;\n",
              "      border-radius: 50%;\n",
              "      cursor: pointer;\n",
              "      display: none;\n",
              "      fill: #1967D2;\n",
              "      height: 32px;\n",
              "      padding: 0 0 0 0;\n",
              "      width: 32px;\n",
              "    }\n",
              "\n",
              "    .colab-df-convert:hover {\n",
              "      background-color: #E2EBFA;\n",
              "      box-shadow: 0px 1px 2px rgba(60, 64, 67, 0.3), 0px 1px 3px 1px rgba(60, 64, 67, 0.15);\n",
              "      fill: #174EA6;\n",
              "    }\n",
              "\n",
              "    [theme=dark] .colab-df-convert {\n",
              "      background-color: #3B4455;\n",
              "      fill: #D2E3FC;\n",
              "    }\n",
              "\n",
              "    [theme=dark] .colab-df-convert:hover {\n",
              "      background-color: #434B5C;\n",
              "      box-shadow: 0px 1px 3px 1px rgba(0, 0, 0, 0.15);\n",
              "      filter: drop-shadow(0px 1px 2px rgba(0, 0, 0, 0.3));\n",
              "      fill: #FFFFFF;\n",
              "    }\n",
              "  </style>\n",
              "\n",
              "      <script>\n",
              "        const buttonEl =\n",
              "          document.querySelector('#df-da508c81-a01b-4dcf-817d-0f8417b58399 button.colab-df-convert');\n",
              "        buttonEl.style.display =\n",
              "          google.colab.kernel.accessAllowed ? 'block' : 'none';\n",
              "\n",
              "        async function convertToInteractive(key) {\n",
              "          const element = document.querySelector('#df-da508c81-a01b-4dcf-817d-0f8417b58399');\n",
              "          const dataTable =\n",
              "            await google.colab.kernel.invokeFunction('convertToInteractive',\n",
              "                                                     [key], {});\n",
              "          if (!dataTable) return;\n",
              "\n",
              "          const docLinkHtml = 'Like what you see? Visit the ' +\n",
              "            '<a target=\"_blank\" href=https://colab.research.google.com/notebooks/data_table.ipynb>data table notebook</a>'\n",
              "            + ' to learn more about interactive tables.';\n",
              "          element.innerHTML = '';\n",
              "          dataTable['output_type'] = 'display_data';\n",
              "          await google.colab.output.renderOutput(dataTable, element);\n",
              "          const docLink = document.createElement('div');\n",
              "          docLink.innerHTML = docLinkHtml;\n",
              "          element.appendChild(docLink);\n",
              "        }\n",
              "      </script>\n",
              "    </div>\n",
              "  </div>\n",
              "  "
            ]
          },
          "metadata": {},
          "execution_count": 8
        }
      ]
    },
    {
      "cell_type": "markdown",
      "source": [
        "**train / test 분류** "
      ],
      "metadata": {
        "id": "vNHAbO1T-oGg"
      }
    },
    {
      "cell_type": "code",
      "source": [
        "sentence_train, sentence_test, label_train, label_test = train_test_split(data['Sentence'], data['label'], test_size = 0.2, shuffle = False)    "
      ],
      "metadata": {
        "id": "4AFzLm912I4W"
      },
      "execution_count": 9,
      "outputs": []
    },
    {
      "cell_type": "markdown",
      "source": [
        "**데이터프레임으로 만들기**"
      ],
      "metadata": {
        "id": "mfSvZ9v0-zVY"
      }
    },
    {
      "cell_type": "code",
      "source": [
        "lis1 =[]\n",
        "lis2 = []\n",
        "lis3 =[]\n",
        "lis4 = []\n",
        "\n",
        "for i in sentence_train:\n",
        "  lis1.append(i)\n",
        "\n",
        "for i in label_train:\n",
        "  lis2.append(i)\n",
        "\n",
        "for i in sentence_test:\n",
        "  lis3.append(i)\n",
        "\n",
        "for i in label_test:\n",
        "  lis4.append(i)"
      ],
      "metadata": {
        "id": "X72j8pRr7CcZ"
      },
      "execution_count": 10,
      "outputs": []
    },
    {
      "cell_type": "code",
      "source": [
        "train_df = pd.DataFrame((zip(lis1, lis2)), columns = ['Sentence', 'label'])\n",
        "test_df = pd.DataFrame((zip(lis3, lis4)), columns = ['Sentence', 'label'])"
      ],
      "metadata": {
        "id": "HakoYC4I9tKP"
      },
      "execution_count": 11,
      "outputs": []
    },
    {
      "cell_type": "code",
      "source": [
        "train_df"
      ],
      "metadata": {
        "colab": {
          "base_uri": "https://localhost:8080/",
          "height": 424
        },
        "id": "dBgWAupb91DM",
        "outputId": "a0a54cda-a6c4-450f-823e-44d9056b7ec9"
      },
      "execution_count": 12,
      "outputs": [
        {
          "output_type": "execute_result",
          "data": {
            "text/plain": [
              "                                                Sentence  label\n",
              "0             홍진영 언니 연기 잘 해 얼굴두 이쁘구 노래두 잘 부르구 끼도 많음 나는 퍽      0\n",
              "1      그동안 열심히 앞만 보면서 묵묵히 살아왔는데 건강이 많이 안 좋다고 하네 열심히 살...      1\n",
              "2                         나를 떨리게 하나요 부터 완전 끌림 장범준 노래 멋져요      0\n",
              "3                                        도움이 되었습니다 감사합니다      0\n",
              "4                                                똥이 묻었노       2\n",
              "...                                                  ...    ...\n",
              "19785                                     니가 민폐인걸 지금 알앗니      2\n",
              "19786                                          웃고 간다 병신아      2\n",
              "19787                아직도 건강이 나빠지는 게 걱정 돼서 영 양제를 챙겨 먹고 있어      1\n",
              "19788          예쁘고 노래도 좋고 춤도 멋지고 구독 눌르고 갑니다 진짜로 노래 넘 좋당       0\n",
              "19789              기침이 잦아서 병원에 가니 만성 기침 진단을 받아 빨리 낫기 힘들대      1\n",
              "\n",
              "[19790 rows x 2 columns]"
            ],
            "text/html": [
              "\n",
              "  <div id=\"df-9ac7fe6c-e8d1-459c-ae42-be84eccdf3f3\">\n",
              "    <div class=\"colab-df-container\">\n",
              "      <div>\n",
              "<style scoped>\n",
              "    .dataframe tbody tr th:only-of-type {\n",
              "        vertical-align: middle;\n",
              "    }\n",
              "\n",
              "    .dataframe tbody tr th {\n",
              "        vertical-align: top;\n",
              "    }\n",
              "\n",
              "    .dataframe thead th {\n",
              "        text-align: right;\n",
              "    }\n",
              "</style>\n",
              "<table border=\"1\" class=\"dataframe\">\n",
              "  <thead>\n",
              "    <tr style=\"text-align: right;\">\n",
              "      <th></th>\n",
              "      <th>Sentence</th>\n",
              "      <th>label</th>\n",
              "    </tr>\n",
              "  </thead>\n",
              "  <tbody>\n",
              "    <tr>\n",
              "      <th>0</th>\n",
              "      <td>홍진영 언니 연기 잘 해 얼굴두 이쁘구 노래두 잘 부르구 끼도 많음 나는 퍽</td>\n",
              "      <td>0</td>\n",
              "    </tr>\n",
              "    <tr>\n",
              "      <th>1</th>\n",
              "      <td>그동안 열심히 앞만 보면서 묵묵히 살아왔는데 건강이 많이 안 좋다고 하네 열심히 살...</td>\n",
              "      <td>1</td>\n",
              "    </tr>\n",
              "    <tr>\n",
              "      <th>2</th>\n",
              "      <td>나를 떨리게 하나요 부터 완전 끌림 장범준 노래 멋져요</td>\n",
              "      <td>0</td>\n",
              "    </tr>\n",
              "    <tr>\n",
              "      <th>3</th>\n",
              "      <td>도움이 되었습니다 감사합니다</td>\n",
              "      <td>0</td>\n",
              "    </tr>\n",
              "    <tr>\n",
              "      <th>4</th>\n",
              "      <td>똥이 묻었노</td>\n",
              "      <td>2</td>\n",
              "    </tr>\n",
              "    <tr>\n",
              "      <th>...</th>\n",
              "      <td>...</td>\n",
              "      <td>...</td>\n",
              "    </tr>\n",
              "    <tr>\n",
              "      <th>19785</th>\n",
              "      <td>니가 민폐인걸 지금 알앗니</td>\n",
              "      <td>2</td>\n",
              "    </tr>\n",
              "    <tr>\n",
              "      <th>19786</th>\n",
              "      <td>웃고 간다 병신아</td>\n",
              "      <td>2</td>\n",
              "    </tr>\n",
              "    <tr>\n",
              "      <th>19787</th>\n",
              "      <td>아직도 건강이 나빠지는 게 걱정 돼서 영 양제를 챙겨 먹고 있어</td>\n",
              "      <td>1</td>\n",
              "    </tr>\n",
              "    <tr>\n",
              "      <th>19788</th>\n",
              "      <td>예쁘고 노래도 좋고 춤도 멋지고 구독 눌르고 갑니다 진짜로 노래 넘 좋당</td>\n",
              "      <td>0</td>\n",
              "    </tr>\n",
              "    <tr>\n",
              "      <th>19789</th>\n",
              "      <td>기침이 잦아서 병원에 가니 만성 기침 진단을 받아 빨리 낫기 힘들대</td>\n",
              "      <td>1</td>\n",
              "    </tr>\n",
              "  </tbody>\n",
              "</table>\n",
              "<p>19790 rows × 2 columns</p>\n",
              "</div>\n",
              "      <button class=\"colab-df-convert\" onclick=\"convertToInteractive('df-9ac7fe6c-e8d1-459c-ae42-be84eccdf3f3')\"\n",
              "              title=\"Convert this dataframe to an interactive table.\"\n",
              "              style=\"display:none;\">\n",
              "        \n",
              "  <svg xmlns=\"http://www.w3.org/2000/svg\" height=\"24px\"viewBox=\"0 0 24 24\"\n",
              "       width=\"24px\">\n",
              "    <path d=\"M0 0h24v24H0V0z\" fill=\"none\"/>\n",
              "    <path d=\"M18.56 5.44l.94 2.06.94-2.06 2.06-.94-2.06-.94-.94-2.06-.94 2.06-2.06.94zm-11 1L8.5 8.5l.94-2.06 2.06-.94-2.06-.94L8.5 2.5l-.94 2.06-2.06.94zm10 10l.94 2.06.94-2.06 2.06-.94-2.06-.94-.94-2.06-.94 2.06-2.06.94z\"/><path d=\"M17.41 7.96l-1.37-1.37c-.4-.4-.92-.59-1.43-.59-.52 0-1.04.2-1.43.59L10.3 9.45l-7.72 7.72c-.78.78-.78 2.05 0 2.83L4 21.41c.39.39.9.59 1.41.59.51 0 1.02-.2 1.41-.59l7.78-7.78 2.81-2.81c.8-.78.8-2.07 0-2.86zM5.41 20L4 18.59l7.72-7.72 1.47 1.35L5.41 20z\"/>\n",
              "  </svg>\n",
              "      </button>\n",
              "      \n",
              "  <style>\n",
              "    .colab-df-container {\n",
              "      display:flex;\n",
              "      flex-wrap:wrap;\n",
              "      gap: 12px;\n",
              "    }\n",
              "\n",
              "    .colab-df-convert {\n",
              "      background-color: #E8F0FE;\n",
              "      border: none;\n",
              "      border-radius: 50%;\n",
              "      cursor: pointer;\n",
              "      display: none;\n",
              "      fill: #1967D2;\n",
              "      height: 32px;\n",
              "      padding: 0 0 0 0;\n",
              "      width: 32px;\n",
              "    }\n",
              "\n",
              "    .colab-df-convert:hover {\n",
              "      background-color: #E2EBFA;\n",
              "      box-shadow: 0px 1px 2px rgba(60, 64, 67, 0.3), 0px 1px 3px 1px rgba(60, 64, 67, 0.15);\n",
              "      fill: #174EA6;\n",
              "    }\n",
              "\n",
              "    [theme=dark] .colab-df-convert {\n",
              "      background-color: #3B4455;\n",
              "      fill: #D2E3FC;\n",
              "    }\n",
              "\n",
              "    [theme=dark] .colab-df-convert:hover {\n",
              "      background-color: #434B5C;\n",
              "      box-shadow: 0px 1px 3px 1px rgba(0, 0, 0, 0.15);\n",
              "      filter: drop-shadow(0px 1px 2px rgba(0, 0, 0, 0.3));\n",
              "      fill: #FFFFFF;\n",
              "    }\n",
              "  </style>\n",
              "\n",
              "      <script>\n",
              "        const buttonEl =\n",
              "          document.querySelector('#df-9ac7fe6c-e8d1-459c-ae42-be84eccdf3f3 button.colab-df-convert');\n",
              "        buttonEl.style.display =\n",
              "          google.colab.kernel.accessAllowed ? 'block' : 'none';\n",
              "\n",
              "        async function convertToInteractive(key) {\n",
              "          const element = document.querySelector('#df-9ac7fe6c-e8d1-459c-ae42-be84eccdf3f3');\n",
              "          const dataTable =\n",
              "            await google.colab.kernel.invokeFunction('convertToInteractive',\n",
              "                                                     [key], {});\n",
              "          if (!dataTable) return;\n",
              "\n",
              "          const docLinkHtml = 'Like what you see? Visit the ' +\n",
              "            '<a target=\"_blank\" href=https://colab.research.google.com/notebooks/data_table.ipynb>data table notebook</a>'\n",
              "            + ' to learn more about interactive tables.';\n",
              "          element.innerHTML = '';\n",
              "          dataTable['output_type'] = 'display_data';\n",
              "          await google.colab.output.renderOutput(dataTable, element);\n",
              "          const docLink = document.createElement('div');\n",
              "          docLink.innerHTML = docLinkHtml;\n",
              "          element.appendChild(docLink);\n",
              "        }\n",
              "      </script>\n",
              "    </div>\n",
              "  </div>\n",
              "  "
            ]
          },
          "metadata": {},
          "execution_count": 12
        }
      ]
    },
    {
      "cell_type": "code",
      "source": [
        "test_df"
      ],
      "metadata": {
        "colab": {
          "base_uri": "https://localhost:8080/",
          "height": 424
        },
        "id": "F612eYcP93xa",
        "outputId": "6341bb75-5e97-400c-fa8d-fd2c0d888406"
      },
      "execution_count": 13,
      "outputs": [
        {
          "output_type": "execute_result",
          "data": {
            "text/plain": [
              "                                               Sentence  label\n",
              "0     이 지 지배 젖을 잘라 버리든지 해야지 미성년 자식 키우는 부모 입장에서 애 볼까 ...      2\n",
              "1          대리 때문에 항상 당황 스러워 왜 꼭 새로 들어온 여 사원들에게만 관심이 많은지      1\n",
              "2                   평생 가족을 위해 희생 했는데 이제 남은건 여러가지 병들 뿐이야      1\n",
              "3              지인이 이혼 해서 혼자 살다가 고독 사했대 갑자기 들은 거라 당황 스러워      1\n",
              "4        아 이분 영상 몇번 봣 엇 는 뎅  이 영 상보고 바로 구독 눌러 드려용 멋지십니다      0\n",
              "...                                                 ...    ...\n",
              "4943                         활기찬 하루를 보내려고 해도 기운이 없어 힘들어      1\n",
              "4944  요리를 하다가 칼에 손이 많이 베여서 병원에 갔는데 다행히 인대는 안 다쳤데 얼마나...      0\n",
              "4945                             아직 한국 여자랑 결혼 하는 등신이 있냐      2\n",
              "4946                           하다하다 데이트 폭력 범을 방송에 소환 하니      2\n",
              "4947                         아빠 사업에 문제가 생겼다고 하네 많이 불안하다      1\n",
              "\n",
              "[4948 rows x 2 columns]"
            ],
            "text/html": [
              "\n",
              "  <div id=\"df-352391dd-5b7a-4c03-83e1-7c84a0d34225\">\n",
              "    <div class=\"colab-df-container\">\n",
              "      <div>\n",
              "<style scoped>\n",
              "    .dataframe tbody tr th:only-of-type {\n",
              "        vertical-align: middle;\n",
              "    }\n",
              "\n",
              "    .dataframe tbody tr th {\n",
              "        vertical-align: top;\n",
              "    }\n",
              "\n",
              "    .dataframe thead th {\n",
              "        text-align: right;\n",
              "    }\n",
              "</style>\n",
              "<table border=\"1\" class=\"dataframe\">\n",
              "  <thead>\n",
              "    <tr style=\"text-align: right;\">\n",
              "      <th></th>\n",
              "      <th>Sentence</th>\n",
              "      <th>label</th>\n",
              "    </tr>\n",
              "  </thead>\n",
              "  <tbody>\n",
              "    <tr>\n",
              "      <th>0</th>\n",
              "      <td>이 지 지배 젖을 잘라 버리든지 해야지 미성년 자식 키우는 부모 입장에서 애 볼까 ...</td>\n",
              "      <td>2</td>\n",
              "    </tr>\n",
              "    <tr>\n",
              "      <th>1</th>\n",
              "      <td>대리 때문에 항상 당황 스러워 왜 꼭 새로 들어온 여 사원들에게만 관심이 많은지</td>\n",
              "      <td>1</td>\n",
              "    </tr>\n",
              "    <tr>\n",
              "      <th>2</th>\n",
              "      <td>평생 가족을 위해 희생 했는데 이제 남은건 여러가지 병들 뿐이야</td>\n",
              "      <td>1</td>\n",
              "    </tr>\n",
              "    <tr>\n",
              "      <th>3</th>\n",
              "      <td>지인이 이혼 해서 혼자 살다가 고독 사했대 갑자기 들은 거라 당황 스러워</td>\n",
              "      <td>1</td>\n",
              "    </tr>\n",
              "    <tr>\n",
              "      <th>4</th>\n",
              "      <td>아 이분 영상 몇번 봣 엇 는 뎅  이 영 상보고 바로 구독 눌러 드려용 멋지십니다</td>\n",
              "      <td>0</td>\n",
              "    </tr>\n",
              "    <tr>\n",
              "      <th>...</th>\n",
              "      <td>...</td>\n",
              "      <td>...</td>\n",
              "    </tr>\n",
              "    <tr>\n",
              "      <th>4943</th>\n",
              "      <td>활기찬 하루를 보내려고 해도 기운이 없어 힘들어</td>\n",
              "      <td>1</td>\n",
              "    </tr>\n",
              "    <tr>\n",
              "      <th>4944</th>\n",
              "      <td>요리를 하다가 칼에 손이 많이 베여서 병원에 갔는데 다행히 인대는 안 다쳤데 얼마나...</td>\n",
              "      <td>0</td>\n",
              "    </tr>\n",
              "    <tr>\n",
              "      <th>4945</th>\n",
              "      <td>아직 한국 여자랑 결혼 하는 등신이 있냐</td>\n",
              "      <td>2</td>\n",
              "    </tr>\n",
              "    <tr>\n",
              "      <th>4946</th>\n",
              "      <td>하다하다 데이트 폭력 범을 방송에 소환 하니</td>\n",
              "      <td>2</td>\n",
              "    </tr>\n",
              "    <tr>\n",
              "      <th>4947</th>\n",
              "      <td>아빠 사업에 문제가 생겼다고 하네 많이 불안하다</td>\n",
              "      <td>1</td>\n",
              "    </tr>\n",
              "  </tbody>\n",
              "</table>\n",
              "<p>4948 rows × 2 columns</p>\n",
              "</div>\n",
              "      <button class=\"colab-df-convert\" onclick=\"convertToInteractive('df-352391dd-5b7a-4c03-83e1-7c84a0d34225')\"\n",
              "              title=\"Convert this dataframe to an interactive table.\"\n",
              "              style=\"display:none;\">\n",
              "        \n",
              "  <svg xmlns=\"http://www.w3.org/2000/svg\" height=\"24px\"viewBox=\"0 0 24 24\"\n",
              "       width=\"24px\">\n",
              "    <path d=\"M0 0h24v24H0V0z\" fill=\"none\"/>\n",
              "    <path d=\"M18.56 5.44l.94 2.06.94-2.06 2.06-.94-2.06-.94-.94-2.06-.94 2.06-2.06.94zm-11 1L8.5 8.5l.94-2.06 2.06-.94-2.06-.94L8.5 2.5l-.94 2.06-2.06.94zm10 10l.94 2.06.94-2.06 2.06-.94-2.06-.94-.94-2.06-.94 2.06-2.06.94z\"/><path d=\"M17.41 7.96l-1.37-1.37c-.4-.4-.92-.59-1.43-.59-.52 0-1.04.2-1.43.59L10.3 9.45l-7.72 7.72c-.78.78-.78 2.05 0 2.83L4 21.41c.39.39.9.59 1.41.59.51 0 1.02-.2 1.41-.59l7.78-7.78 2.81-2.81c.8-.78.8-2.07 0-2.86zM5.41 20L4 18.59l7.72-7.72 1.47 1.35L5.41 20z\"/>\n",
              "  </svg>\n",
              "      </button>\n",
              "      \n",
              "  <style>\n",
              "    .colab-df-container {\n",
              "      display:flex;\n",
              "      flex-wrap:wrap;\n",
              "      gap: 12px;\n",
              "    }\n",
              "\n",
              "    .colab-df-convert {\n",
              "      background-color: #E8F0FE;\n",
              "      border: none;\n",
              "      border-radius: 50%;\n",
              "      cursor: pointer;\n",
              "      display: none;\n",
              "      fill: #1967D2;\n",
              "      height: 32px;\n",
              "      padding: 0 0 0 0;\n",
              "      width: 32px;\n",
              "    }\n",
              "\n",
              "    .colab-df-convert:hover {\n",
              "      background-color: #E2EBFA;\n",
              "      box-shadow: 0px 1px 2px rgba(60, 64, 67, 0.3), 0px 1px 3px 1px rgba(60, 64, 67, 0.15);\n",
              "      fill: #174EA6;\n",
              "    }\n",
              "\n",
              "    [theme=dark] .colab-df-convert {\n",
              "      background-color: #3B4455;\n",
              "      fill: #D2E3FC;\n",
              "    }\n",
              "\n",
              "    [theme=dark] .colab-df-convert:hover {\n",
              "      background-color: #434B5C;\n",
              "      box-shadow: 0px 1px 3px 1px rgba(0, 0, 0, 0.15);\n",
              "      filter: drop-shadow(0px 1px 2px rgba(0, 0, 0, 0.3));\n",
              "      fill: #FFFFFF;\n",
              "    }\n",
              "  </style>\n",
              "\n",
              "      <script>\n",
              "        const buttonEl =\n",
              "          document.querySelector('#df-352391dd-5b7a-4c03-83e1-7c84a0d34225 button.colab-df-convert');\n",
              "        buttonEl.style.display =\n",
              "          google.colab.kernel.accessAllowed ? 'block' : 'none';\n",
              "\n",
              "        async function convertToInteractive(key) {\n",
              "          const element = document.querySelector('#df-352391dd-5b7a-4c03-83e1-7c84a0d34225');\n",
              "          const dataTable =\n",
              "            await google.colab.kernel.invokeFunction('convertToInteractive',\n",
              "                                                     [key], {});\n",
              "          if (!dataTable) return;\n",
              "\n",
              "          const docLinkHtml = 'Like what you see? Visit the ' +\n",
              "            '<a target=\"_blank\" href=https://colab.research.google.com/notebooks/data_table.ipynb>data table notebook</a>'\n",
              "            + ' to learn more about interactive tables.';\n",
              "          element.innerHTML = '';\n",
              "          dataTable['output_type'] = 'display_data';\n",
              "          await google.colab.output.renderOutput(dataTable, element);\n",
              "          const docLink = document.createElement('div');\n",
              "          docLink.innerHTML = docLinkHtml;\n",
              "          element.appendChild(docLink);\n",
              "        }\n",
              "      </script>\n",
              "    </div>\n",
              "  </div>\n",
              "  "
            ]
          },
          "metadata": {},
          "execution_count": 13
        }
      ]
    },
    {
      "cell_type": "markdown",
      "source": [
        "\n",
        "\n",
        "\n",
        "-------------------------------------------------------------------------------\n",
        "\n",
        "\n",
        "\n",
        "\n",
        "\n",
        "\n",
        "\n",
        "**지표**"
      ],
      "metadata": {
        "id": "Hqdcfk4EAZxI"
      }
    },
    {
      "cell_type": "code",
      "source": [
        "train_df['Sentence'].nunique(), train_df['label'].nunique()"
      ],
      "metadata": {
        "colab": {
          "base_uri": "https://localhost:8080/"
        },
        "id": "ORGZMBEx-BKb",
        "outputId": "7c9e89e0-205c-4338-fdb6-c6f6d7b1d263"
      },
      "execution_count": 14,
      "outputs": [
        {
          "output_type": "execute_result",
          "data": {
            "text/plain": [
              "(19161, 3)"
            ]
          },
          "metadata": {},
          "execution_count": 14
        }
      ]
    },
    {
      "cell_type": "code",
      "source": [
        "train_df.drop_duplicates(subset=['Sentence'], inplace=True)"
      ],
      "metadata": {
        "id": "4JjY01_A-XaI"
      },
      "execution_count": 15,
      "outputs": []
    },
    {
      "cell_type": "code",
      "source": [
        "print('총 샘플의 수 :',len(train_df))"
      ],
      "metadata": {
        "colab": {
          "base_uri": "https://localhost:8080/"
        },
        "id": "7n3398wE-Xvt",
        "outputId": "fb5a0314-2973-4f94-c388-e310760a6317"
      },
      "execution_count": 16,
      "outputs": [
        {
          "output_type": "stream",
          "name": "stdout",
          "text": [
            "총 샘플의 수 : 19161\n"
          ]
        }
      ]
    },
    {
      "cell_type": "code",
      "source": [
        "train_df['label'].value_counts().plot(kind = 'bar')"
      ],
      "metadata": {
        "colab": {
          "base_uri": "https://localhost:8080/",
          "height": 280
        },
        "id": "MmtA62s1-bKO",
        "outputId": "d5c8e70c-9cde-4720-a644-6e51b5ac6906"
      },
      "execution_count": 17,
      "outputs": [
        {
          "output_type": "execute_result",
          "data": {
            "text/plain": [
              "<matplotlib.axes._subplots.AxesSubplot at 0x7fbeb9431bd0>"
            ]
          },
          "metadata": {},
          "execution_count": 17
        },
        {
          "output_type": "display_data",
          "data": {
            "text/plain": [
              "<Figure size 432x288 with 1 Axes>"
            ],
            "image/png": "[encoded data removed]"
          },
          "metadata": {
            "needs_background": "light"
          }
        }
      ]
    },
    {
      "cell_type": "code",
      "source": [
        "print(train_df.groupby('label').size().reset_index(name = 'count'))"
      ],
      "metadata": {
        "colab": {
          "base_uri": "https://localhost:8080/"
        },
        "id": "vlD2qddG-830",
        "outputId": "377b8f76-c80b-4ae7-bcda-0619c3b954d5"
      },
      "execution_count": 18,
      "outputs": [
        {
          "output_type": "stream",
          "name": "stdout",
          "text": [
            "   label  count\n",
            "0      0   6195\n",
            "1      1   6550\n",
            "2      2   6416\n"
          ]
        }
      ]
    },
    {
      "cell_type": "markdown",
      "source": [
        "\n",
        "\n",
        "---\n",
        "**전처리 & 토큰화**"
      ],
      "metadata": {
        "id": "EENVHaHEAxLM"
      }
    },
    {
      "cell_type": "code",
      "source": [
        "okt = Okt()"
      ],
      "metadata": {
        "id": "tjklA-f9K5i5"
      },
      "execution_count": 20,
      "outputs": []
    },
    {
      "cell_type": "markdown",
      "source": [
        "**train_df 전처리 & test_df 전처리**"
      ],
      "metadata": {
        "id": "rNbkJbYvl093"
      }
    },
    {
      "cell_type": "code",
      "source": [
        "# 특수문자, 이모티콘 제거\n",
        "temp_list=[]\n",
        "\n",
        "for i in train_df.Sentence:\n",
        "  s = ' '.join(re.compile('[가-힣]+').findall(i))\n",
        "  temp_list.append(s)\n",
        "\n",
        "train_df.Sentence = temp_list\n",
        "\n",
        "# 한글자 단어 제거 ex) 그, 너, 또...\n",
        "temp_list=[]\n",
        "\n",
        "for i in train_df.Sentence:\n",
        "  li = []\n",
        "  for index in range(len(i.split())):\n",
        "    if len(i.split()[index]) > 1:\n",
        "      li.append(i.split()[index])\n",
        "  \n",
        "  s = \" \".join(li)\n",
        "  temp_list.append(s)\n",
        "\n",
        "train_df.Sentence = temp_list"
      ],
      "metadata": {
        "id": "CmFPz3RBKjRZ"
      },
      "execution_count": 21,
      "outputs": []
    },
    {
      "cell_type": "code",
      "source": [
        "def word_split(x):\n",
        "  return len(x.split())\n",
        "\n",
        "train_df['word_count'] = train_df['Sentence'].apply(word_split)\n",
        "train_df = train_df[train_df.word_count>=5]"
      ],
      "metadata": {
        "id": "j3zkuA80uQWh"
      },
      "execution_count": 22,
      "outputs": []
    },
    {
      "cell_type": "code",
      "source": [
        "train_df"
      ],
      "metadata": {
        "colab": {
          "base_uri": "https://localhost:8080/",
          "height": 424
        },
        "id": "qxJig0M9ulBD",
        "outputId": "d55542f1-50e8-4077-d2f4-8ca0513b34a1"
      },
      "execution_count": 23,
      "outputs": [
        {
          "output_type": "execute_result",
          "data": {
            "text/plain": [
              "                                                Sentence  label  word_count\n",
              "0                     홍진영 언니 연기 얼굴두 이쁘구 노래두 부르구 끼도 많음 나는      0          10\n",
              "1      그동안 열심히 앞만 보면서 묵묵히 살아왔는데 건강이 많이 좋다고 하네 열심히 살아온...      1          15\n",
              "2                         나를 떨리게 하나요 부터 완전 끌림 장범준 노래 멋져요      0           9\n",
              "5           저런 기들 땜에 얼마 전에 신충한테 맞은 택시 기사도 맞았다는 소리가 나오는거다      2          12\n",
              "6      모르지 떨군 고개 환한 조명이 어딜 비추는지 가사가 특히 좋더라구요 위로 받는 듯한...      0          19\n",
              "...                                                  ...    ...         ...\n",
              "19783               좌파 종북 정권의 민낮 영영꺼 지지 않는 유황 기름 솥에 떨어질것      2          11\n",
              "19784             끼들이 어떻게 무너지고 남은 인생과 주변이 끝장 나는지 지켜본다 시발      2          10\n",
              "19787                    아직도 건강이 나빠지는 걱정 돼서 양제를 챙겨 먹고 있어      1           9\n",
              "19788             예쁘고 노래도 좋고 춤도 멋지고 구독 눌르고 갑니다 진짜로 노래 좋당      0          11\n",
              "19789              기침이 잦아서 병원에 가니 만성 기침 진단을 받아 빨리 낫기 힘들대      1          11\n",
              "\n",
              "[14913 rows x 3 columns]"
            ],
            "text/html": [
              "\n",
              "  <div id=\"df-5f1225b3-e5a1-40d4-b7ff-526a731c9f5b\">\n",
              "    <div class=\"colab-df-container\">\n",
              "      <div>\n",
              "<style scoped>\n",
              "    .dataframe tbody tr th:only-of-type {\n",
              "        vertical-align: middle;\n",
              "    }\n",
              "\n",
              "    .dataframe tbody tr th {\n",
              "        vertical-align: top;\n",
              "    }\n",
              "\n",
              "    .dataframe thead th {\n",
              "        text-align: right;\n",
              "    }\n",
              "</style>\n",
              "<table border=\"1\" class=\"dataframe\">\n",
              "  <thead>\n",
              "    <tr style=\"text-align: right;\">\n",
              "      <th></th>\n",
              "      <th>Sentence</th>\n",
              "      <th>label</th>\n",
              "      <th>word_count</th>\n",
              "    </tr>\n",
              "  </thead>\n",
              "  <tbody>\n",
              "    <tr>\n",
              "      <th>0</th>\n",
              "      <td>홍진영 언니 연기 얼굴두 이쁘구 노래두 부르구 끼도 많음 나는</td>\n",
              "      <td>0</td>\n",
              "      <td>10</td>\n",
              "    </tr>\n",
              "    <tr>\n",
              "      <th>1</th>\n",
              "      <td>그동안 열심히 앞만 보면서 묵묵히 살아왔는데 건강이 많이 좋다고 하네 열심히 살아온...</td>\n",
              "      <td>1</td>\n",
              "      <td>15</td>\n",
              "    </tr>\n",
              "    <tr>\n",
              "      <th>2</th>\n",
              "      <td>나를 떨리게 하나요 부터 완전 끌림 장범준 노래 멋져요</td>\n",
              "      <td>0</td>\n",
              "      <td>9</td>\n",
              "    </tr>\n",
              "    <tr>\n",
              "      <th>5</th>\n",
              "      <td>저런 기들 땜에 얼마 전에 신충한테 맞은 택시 기사도 맞았다는 소리가 나오는거다</td>\n",
              "      <td>2</td>\n",
              "      <td>12</td>\n",
              "    </tr>\n",
              "    <tr>\n",
              "      <th>6</th>\n",
              "      <td>모르지 떨군 고개 환한 조명이 어딜 비추는지 가사가 특히 좋더라구요 위로 받는 듯한...</td>\n",
              "      <td>0</td>\n",
              "      <td>19</td>\n",
              "    </tr>\n",
              "    <tr>\n",
              "      <th>...</th>\n",
              "      <td>...</td>\n",
              "      <td>...</td>\n",
              "      <td>...</td>\n",
              "    </tr>\n",
              "    <tr>\n",
              "      <th>19783</th>\n",
              "      <td>좌파 종북 정권의 민낮 영영꺼 지지 않는 유황 기름 솥에 떨어질것</td>\n",
              "      <td>2</td>\n",
              "      <td>11</td>\n",
              "    </tr>\n",
              "    <tr>\n",
              "      <th>19784</th>\n",
              "      <td>끼들이 어떻게 무너지고 남은 인생과 주변이 끝장 나는지 지켜본다 시발</td>\n",
              "      <td>2</td>\n",
              "      <td>10</td>\n",
              "    </tr>\n",
              "    <tr>\n",
              "      <th>19787</th>\n",
              "      <td>아직도 건강이 나빠지는 걱정 돼서 양제를 챙겨 먹고 있어</td>\n",
              "      <td>1</td>\n",
              "      <td>9</td>\n",
              "    </tr>\n",
              "    <tr>\n",
              "      <th>19788</th>\n",
              "      <td>예쁘고 노래도 좋고 춤도 멋지고 구독 눌르고 갑니다 진짜로 노래 좋당</td>\n",
              "      <td>0</td>\n",
              "      <td>11</td>\n",
              "    </tr>\n",
              "    <tr>\n",
              "      <th>19789</th>\n",
              "      <td>기침이 잦아서 병원에 가니 만성 기침 진단을 받아 빨리 낫기 힘들대</td>\n",
              "      <td>1</td>\n",
              "      <td>11</td>\n",
              "    </tr>\n",
              "  </tbody>\n",
              "</table>\n",
              "<p>14913 rows × 3 columns</p>\n",
              "</div>\n",
              "      <button class=\"colab-df-convert\" onclick=\"convertToInteractive('df-5f1225b3-e5a1-40d4-b7ff-526a731c9f5b')\"\n",
              "              title=\"Convert this dataframe to an interactive table.\"\n",
              "              style=\"display:none;\">\n",
              "        \n",
              "  <svg xmlns=\"http://www.w3.org/2000/svg\" height=\"24px\"viewBox=\"0 0 24 24\"\n",
              "       width=\"24px\">\n",
              "    <path d=\"M0 0h24v24H0V0z\" fill=\"none\"/>\n",
              "    <path d=\"M18.56 5.44l.94 2.06.94-2.06 2.06-.94-2.06-.94-.94-2.06-.94 2.06-2.06.94zm-11 1L8.5 8.5l.94-2.06 2.06-.94-2.06-.94L8.5 2.5l-.94 2.06-2.06.94zm10 10l.94 2.06.94-2.06 2.06-.94-2.06-.94-.94-2.06-.94 2.06-2.06.94z\"/><path d=\"M17.41 7.96l-1.37-1.37c-.4-.4-.92-.59-1.43-.59-.52 0-1.04.2-1.43.59L10.3 9.45l-7.72 7.72c-.78.78-.78 2.05 0 2.83L4 21.41c.39.39.9.59 1.41.59.51 0 1.02-.2 1.41-.59l7.78-7.78 2.81-2.81c.8-.78.8-2.07 0-2.86zM5.41 20L4 18.59l7.72-7.72 1.47 1.35L5.41 20z\"/>\n",
              "  </svg>\n",
              "      </button>\n",
              "      \n",
              "  <style>\n",
              "    .colab-df-container {\n",
              "      display:flex;\n",
              "      flex-wrap:wrap;\n",
              "      gap: 12px;\n",
              "    }\n",
              "\n",
              "    .colab-df-convert {\n",
              "      background-color: #E8F0FE;\n",
              "      border: none;\n",
              "      border-radius: 50%;\n",
              "      cursor: pointer;\n",
              "      display: none;\n",
              "      fill: #1967D2;\n",
              "      height: 32px;\n",
              "      padding: 0 0 0 0;\n",
              "      width: 32px;\n",
              "    }\n",
              "\n",
              "    .colab-df-convert:hover {\n",
              "      background-color: #E2EBFA;\n",
              "      box-shadow: 0px 1px 2px rgba(60, 64, 67, 0.3), 0px 1px 3px 1px rgba(60, 64, 67, 0.15);\n",
              "      fill: #174EA6;\n",
              "    }\n",
              "\n",
              "    [theme=dark] .colab-df-convert {\n",
              "      background-color: #3B4455;\n",
              "      fill: #D2E3FC;\n",
              "    }\n",
              "\n",
              "    [theme=dark] .colab-df-convert:hover {\n",
              "      background-color: #434B5C;\n",
              "      box-shadow: 0px 1px 3px 1px rgba(0, 0, 0, 0.15);\n",
              "      filter: drop-shadow(0px 1px 2px rgba(0, 0, 0, 0.3));\n",
              "      fill: #FFFFFF;\n",
              "    }\n",
              "  </style>\n",
              "\n",
              "      <script>\n",
              "        const buttonEl =\n",
              "          document.querySelector('#df-5f1225b3-e5a1-40d4-b7ff-526a731c9f5b button.colab-df-convert');\n",
              "        buttonEl.style.display =\n",
              "          google.colab.kernel.accessAllowed ? 'block' : 'none';\n",
              "\n",
              "        async function convertToInteractive(key) {\n",
              "          const element = document.querySelector('#df-5f1225b3-e5a1-40d4-b7ff-526a731c9f5b');\n",
              "          const dataTable =\n",
              "            await google.colab.kernel.invokeFunction('convertToInteractive',\n",
              "                                                     [key], {});\n",
              "          if (!dataTable) return;\n",
              "\n",
              "          const docLinkHtml = 'Like what you see? Visit the ' +\n",
              "            '<a target=\"_blank\" href=https://colab.research.google.com/notebooks/data_table.ipynb>data table notebook</a>'\n",
              "            + ' to learn more about interactive tables.';\n",
              "          element.innerHTML = '';\n",
              "          dataTable['output_type'] = 'display_data';\n",
              "          await google.colab.output.renderOutput(dataTable, element);\n",
              "          const docLink = document.createElement('div');\n",
              "          docLink.innerHTML = docLinkHtml;\n",
              "          element.appendChild(docLink);\n",
              "        }\n",
              "      </script>\n",
              "    </div>\n",
              "  </div>\n",
              "  "
            ]
          },
          "metadata": {},
          "execution_count": 23
        }
      ]
    },
    {
      "cell_type": "code",
      "source": [
        "train_df = train_df[train_df.word_count<=25]"
      ],
      "metadata": {
        "id": "vxEfgOpsv1Tt"
      },
      "execution_count": 24,
      "outputs": []
    },
    {
      "cell_type": "code",
      "source": [
        "from jamo import h2j, j2hcj\n",
        "\n",
        "temp_list = []\n",
        "for i in train_df.Sentence:\n",
        "  i = j2hcj(h2j(i)) + ' '\n",
        "  temp_list.append(i)\n",
        "\n",
        "train_df.Sentence = temp_list"
      ],
      "metadata": {
        "id": "qDTldCmu4ftB"
      },
      "execution_count": null,
      "outputs": []
    },
    {
      "cell_type": "code",
      "source": [
        "train_df"
      ],
      "metadata": {
        "colab": {
          "base_uri": "https://localhost:8080/",
          "height": 424
        },
        "id": "cz9ViMVTsg1k",
        "outputId": "43ed0a2e-0b26-4cac-8721-55a344d9cd87"
      },
      "execution_count": 26,
      "outputs": [
        {
          "output_type": "execute_result",
          "data": {
            "text/plain": [
              "                                                Sentence  label  word_count\n",
              "0      ㅎㅗㅇㅈㅣㄴㅇㅕㅇ ㅇㅓㄴㄴㅣ ㅇㅕㄴㄱㅣ ㅇㅓㄹㄱㅜㄹㄷㅜ ㅇㅣㅃㅡㄱㅜ ㄴㅗㄹㅐㄷㅜ ㅂ...      0          10\n",
              "1      ㄱㅡㄷㅗㅇㅇㅏㄴ ㅇㅕㄹㅅㅣㅁㅎㅣ ㅇㅏㅍㅁㅏㄴ ㅂㅗㅁㅕㄴㅅㅓ ㅁㅜㄱㅁㅜㄱㅎㅣ ㅅㅏㄹㅇ...      1          15\n",
              "2      ㄴㅏㄹㅡㄹ ㄸㅓㄹㄹㅣㄱㅔ ㅎㅏㄴㅏㅇㅛ ㅂㅜㅌㅓ ㅇㅘㄴㅈㅓㄴ ㄲㅡㄹㄹㅣㅁ ㅈㅏㅇㅂㅓㅁ...      0           9\n",
              "5      ㅈㅓㄹㅓㄴ ㄱㅣㄷㅡㄹ ㄸㅐㅁㅇㅔ ㅇㅓㄹㅁㅏ ㅈㅓㄴㅇㅔ ㅅㅣㄴㅊㅜㅇㅎㅏㄴㅌㅔ ㅁㅏㅈㅇ...      2          12\n",
              "6      ㅁㅗㄹㅡㅈㅣ ㄸㅓㄹㄱㅜㄴ ㄱㅗㄱㅐ ㅎㅘㄴㅎㅏㄴ ㅈㅗㅁㅕㅇㅇㅣ ㅇㅓㄷㅣㄹ ㅂㅣㅊㅜㄴㅡ...      0          19\n",
              "...                                                  ...    ...         ...\n",
              "19783  ㅈㅘㅍㅏ ㅈㅗㅇㅂㅜㄱ ㅈㅓㅇㄱㅝㄴㅇㅢ ㅁㅣㄴㄴㅏㅈ ㅇㅕㅇㅇㅕㅇㄲㅓ ㅈㅣㅈㅣ ㅇㅏㄶㄴ...      2          11\n",
              "19784  ㄲㅣㄷㅡㄹㅇㅣ ㅇㅓㄸㅓㅎㄱㅔ ㅁㅜㄴㅓㅈㅣㄱㅗ ㄴㅏㅁㅇㅡㄴ ㅇㅣㄴㅅㅐㅇㄱㅘ ㅈㅜㅂㅕㄴ...      2          10\n",
              "19787  ㅇㅏㅈㅣㄱㄷㅗ ㄱㅓㄴㄱㅏㅇㅇㅣ ㄴㅏㅃㅏㅈㅣㄴㅡㄴ ㄱㅓㄱㅈㅓㅇ ㄷㅙㅅㅓ ㅇㅑㅇㅈㅔㄹㅡ...      1           9\n",
              "19788  ㅇㅖㅃㅡㄱㅗ ㄴㅗㄹㅐㄷㅗ ㅈㅗㅎㄱㅗ ㅊㅜㅁㄷㅗ ㅁㅓㅅㅈㅣㄱㅗ ㄱㅜㄷㅗㄱ ㄴㅜㄹㄹㅡㄱ...      0          11\n",
              "19789  ㄱㅣㅊㅣㅁㅇㅣ ㅈㅏㅈㅇㅏㅅㅓ ㅂㅕㅇㅇㅝㄴㅇㅔ ㄱㅏㄴㅣ ㅁㅏㄴㅅㅓㅇ ㄱㅣㅊㅣㅁ ㅈㅣㄴ...      1          11\n",
              "\n",
              "[14282 rows x 3 columns]"
            ],
            "text/html": [
              "\n",
              "  <div id=\"df-535480d2-0306-4756-8d78-74366539e971\">\n",
              "    <div class=\"colab-df-container\">\n",
              "      <div>\n",
              "<style scoped>\n",
              "    .dataframe tbody tr th:only-of-type {\n",
              "        vertical-align: middle;\n",
              "    }\n",
              "\n",
              "    .dataframe tbody tr th {\n",
              "        vertical-align: top;\n",
              "    }\n",
              "\n",
              "    .dataframe thead th {\n",
              "        text-align: right;\n",
              "    }\n",
              "</style>\n",
              "<table border=\"1\" class=\"dataframe\">\n",
              "  <thead>\n",
              "    <tr style=\"text-align: right;\">\n",
              "      <th></th>\n",
              "      <th>Sentence</th>\n",
              "      <th>label</th>\n",
              "      <th>word_count</th>\n",
              "    </tr>\n",
              "  </thead>\n",
              "  <tbody>\n",
              "    <tr>\n",
              "      <th>0</th>\n",
              "      <td>ㅎㅗㅇㅈㅣㄴㅇㅕㅇ ㅇㅓㄴㄴㅣ ㅇㅕㄴㄱㅣ ㅇㅓㄹㄱㅜㄹㄷㅜ ㅇㅣㅃㅡㄱㅜ ㄴㅗㄹㅐㄷㅜ ㅂ...</td>\n",
              "      <td>0</td>\n",
              "      <td>10</td>\n",
              "    </tr>\n",
              "    <tr>\n",
              "      <th>1</th>\n",
              "      <td>ㄱㅡㄷㅗㅇㅇㅏㄴ ㅇㅕㄹㅅㅣㅁㅎㅣ ㅇㅏㅍㅁㅏㄴ ㅂㅗㅁㅕㄴㅅㅓ ㅁㅜㄱㅁㅜㄱㅎㅣ ㅅㅏㄹㅇ...</td>\n",
              "      <td>1</td>\n",
              "      <td>15</td>\n",
              "    </tr>\n",
              "    <tr>\n",
              "      <th>2</th>\n",
              "      <td>ㄴㅏㄹㅡㄹ ㄸㅓㄹㄹㅣㄱㅔ ㅎㅏㄴㅏㅇㅛ ㅂㅜㅌㅓ ㅇㅘㄴㅈㅓㄴ ㄲㅡㄹㄹㅣㅁ ㅈㅏㅇㅂㅓㅁ...</td>\n",
              "      <td>0</td>\n",
              "      <td>9</td>\n",
              "    </tr>\n",
              "    <tr>\n",
              "      <th>5</th>\n",
              "      <td>ㅈㅓㄹㅓㄴ ㄱㅣㄷㅡㄹ ㄸㅐㅁㅇㅔ ㅇㅓㄹㅁㅏ ㅈㅓㄴㅇㅔ ㅅㅣㄴㅊㅜㅇㅎㅏㄴㅌㅔ ㅁㅏㅈㅇ...</td>\n",
              "      <td>2</td>\n",
              "      <td>12</td>\n",
              "    </tr>\n",
              "    <tr>\n",
              "      <th>6</th>\n",
              "      <td>ㅁㅗㄹㅡㅈㅣ ㄸㅓㄹㄱㅜㄴ ㄱㅗㄱㅐ ㅎㅘㄴㅎㅏㄴ ㅈㅗㅁㅕㅇㅇㅣ ㅇㅓㄷㅣㄹ ㅂㅣㅊㅜㄴㅡ...</td>\n",
              "      <td>0</td>\n",
              "      <td>19</td>\n",
              "    </tr>\n",
              "    <tr>\n",
              "      <th>...</th>\n",
              "      <td>...</td>\n",
              "      <td>...</td>\n",
              "      <td>...</td>\n",
              "    </tr>\n",
              "    <tr>\n",
              "      <th>19783</th>\n",
              "      <td>ㅈㅘㅍㅏ ㅈㅗㅇㅂㅜㄱ ㅈㅓㅇㄱㅝㄴㅇㅢ ㅁㅣㄴㄴㅏㅈ ㅇㅕㅇㅇㅕㅇㄲㅓ ㅈㅣㅈㅣ ㅇㅏㄶㄴ...</td>\n",
              "      <td>2</td>\n",
              "      <td>11</td>\n",
              "    </tr>\n",
              "    <tr>\n",
              "      <th>19784</th>\n",
              "      <td>ㄲㅣㄷㅡㄹㅇㅣ ㅇㅓㄸㅓㅎㄱㅔ ㅁㅜㄴㅓㅈㅣㄱㅗ ㄴㅏㅁㅇㅡㄴ ㅇㅣㄴㅅㅐㅇㄱㅘ ㅈㅜㅂㅕㄴ...</td>\n",
              "      <td>2</td>\n",
              "      <td>10</td>\n",
              "    </tr>\n",
              "    <tr>\n",
              "      <th>19787</th>\n",
              "      <td>ㅇㅏㅈㅣㄱㄷㅗ ㄱㅓㄴㄱㅏㅇㅇㅣ ㄴㅏㅃㅏㅈㅣㄴㅡㄴ ㄱㅓㄱㅈㅓㅇ ㄷㅙㅅㅓ ㅇㅑㅇㅈㅔㄹㅡ...</td>\n",
              "      <td>1</td>\n",
              "      <td>9</td>\n",
              "    </tr>\n",
              "    <tr>\n",
              "      <th>19788</th>\n",
              "      <td>ㅇㅖㅃㅡㄱㅗ ㄴㅗㄹㅐㄷㅗ ㅈㅗㅎㄱㅗ ㅊㅜㅁㄷㅗ ㅁㅓㅅㅈㅣㄱㅗ ㄱㅜㄷㅗㄱ ㄴㅜㄹㄹㅡㄱ...</td>\n",
              "      <td>0</td>\n",
              "      <td>11</td>\n",
              "    </tr>\n",
              "    <tr>\n",
              "      <th>19789</th>\n",
              "      <td>ㄱㅣㅊㅣㅁㅇㅣ ㅈㅏㅈㅇㅏㅅㅓ ㅂㅕㅇㅇㅝㄴㅇㅔ ㄱㅏㄴㅣ ㅁㅏㄴㅅㅓㅇ ㄱㅣㅊㅣㅁ ㅈㅣㄴ...</td>\n",
              "      <td>1</td>\n",
              "      <td>11</td>\n",
              "    </tr>\n",
              "  </tbody>\n",
              "</table>\n",
              "<p>14282 rows × 3 columns</p>\n",
              "</div>\n",
              "      <button class=\"colab-df-convert\" onclick=\"convertToInteractive('df-535480d2-0306-4756-8d78-74366539e971')\"\n",
              "              title=\"Convert this dataframe to an interactive table.\"\n",
              "              style=\"display:none;\">\n",
              "        \n",
              "  <svg xmlns=\"http://www.w3.org/2000/svg\" height=\"24px\"viewBox=\"0 0 24 24\"\n",
              "       width=\"24px\">\n",
              "    <path d=\"M0 0h24v24H0V0z\" fill=\"none\"/>\n",
              "    <path d=\"M18.56 5.44l.94 2.06.94-2.06 2.06-.94-2.06-.94-.94-2.06-.94 2.06-2.06.94zm-11 1L8.5 8.5l.94-2.06 2.06-.94-2.06-.94L8.5 2.5l-.94 2.06-2.06.94zm10 10l.94 2.06.94-2.06 2.06-.94-2.06-.94-.94-2.06-.94 2.06-2.06.94z\"/><path d=\"M17.41 7.96l-1.37-1.37c-.4-.4-.92-.59-1.43-.59-.52 0-1.04.2-1.43.59L10.3 9.45l-7.72 7.72c-.78.78-.78 2.05 0 2.83L4 21.41c.39.39.9.59 1.41.59.51 0 1.02-.2 1.41-.59l7.78-7.78 2.81-2.81c.8-.78.8-2.07 0-2.86zM5.41 20L4 18.59l7.72-7.72 1.47 1.35L5.41 20z\"/>\n",
              "  </svg>\n",
              "      </button>\n",
              "      \n",
              "  <style>\n",
              "    .colab-df-container {\n",
              "      display:flex;\n",
              "      flex-wrap:wrap;\n",
              "      gap: 12px;\n",
              "    }\n",
              "\n",
              "    .colab-df-convert {\n",
              "      background-color: #E8F0FE;\n",
              "      border: none;\n",
              "      border-radius: 50%;\n",
              "      cursor: pointer;\n",
              "      display: none;\n",
              "      fill: #1967D2;\n",
              "      height: 32px;\n",
              "      padding: 0 0 0 0;\n",
              "      width: 32px;\n",
              "    }\n",
              "\n",
              "    .colab-df-convert:hover {\n",
              "      background-color: #E2EBFA;\n",
              "      box-shadow: 0px 1px 2px rgba(60, 64, 67, 0.3), 0px 1px 3px 1px rgba(60, 64, 67, 0.15);\n",
              "      fill: #174EA6;\n",
              "    }\n",
              "\n",
              "    [theme=dark] .colab-df-convert {\n",
              "      background-color: #3B4455;\n",
              "      fill: #D2E3FC;\n",
              "    }\n",
              "\n",
              "    [theme=dark] .colab-df-convert:hover {\n",
              "      background-color: #434B5C;\n",
              "      box-shadow: 0px 1px 3px 1px rgba(0, 0, 0, 0.15);\n",
              "      filter: drop-shadow(0px 1px 2px rgba(0, 0, 0, 0.3));\n",
              "      fill: #FFFFFF;\n",
              "    }\n",
              "  </style>\n",
              "\n",
              "      <script>\n",
              "        const buttonEl =\n",
              "          document.querySelector('#df-535480d2-0306-4756-8d78-74366539e971 button.colab-df-convert');\n",
              "        buttonEl.style.display =\n",
              "          google.colab.kernel.accessAllowed ? 'block' : 'none';\n",
              "\n",
              "        async function convertToInteractive(key) {\n",
              "          const element = document.querySelector('#df-535480d2-0306-4756-8d78-74366539e971');\n",
              "          const dataTable =\n",
              "            await google.colab.kernel.invokeFunction('convertToInteractive',\n",
              "                                                     [key], {});\n",
              "          if (!dataTable) return;\n",
              "\n",
              "          const docLinkHtml = 'Like what you see? Visit the ' +\n",
              "            '<a target=\"_blank\" href=https://colab.research.google.com/notebooks/data_table.ipynb>data table notebook</a>'\n",
              "            + ' to learn more about interactive tables.';\n",
              "          element.innerHTML = '';\n",
              "          dataTable['output_type'] = 'display_data';\n",
              "          await google.colab.output.renderOutput(dataTable, element);\n",
              "          const docLink = document.createElement('div');\n",
              "          docLink.innerHTML = docLinkHtml;\n",
              "          element.appendChild(docLink);\n",
              "        }\n",
              "      </script>\n",
              "    </div>\n",
              "  </div>\n",
              "  "
            ]
          },
          "metadata": {},
          "execution_count": 26
        }
      ]
    },
    {
      "cell_type": "code",
      "source": [
        "# 특수문자, 이모티콘 제거\n",
        "temp_list=[]\n",
        "\n",
        "for i in test_df.Sentence:\n",
        "  s = ' '.join(re.compile('[가-힣]+').findall(i))\n",
        "  temp_list.append(s)\n",
        "\n",
        "test_df.Sentence = temp_list\n",
        "\n",
        "# 한글자 단어 제거 ex) 그, 너, 또...\n",
        "temp_list=[]\n",
        "\n",
        "for i in test_df.Sentence:\n",
        "  li = []\n",
        "  for index in range(len(i.split())):\n",
        "    if len(i.split()[index]) > 1:\n",
        "      li.append(i.split()[index])\n",
        "  \n",
        "  s = \" \".join(li)\n",
        "  temp_list.append(s)\n",
        "\n",
        "test_df.Sentence = temp_list"
      ],
      "metadata": {
        "id": "g_ZEEAt8w4Fh"
      },
      "execution_count": 27,
      "outputs": []
    },
    {
      "cell_type": "code",
      "source": [
        "test_df['word_count'] = test_df['Sentence'].apply(word_split)\n",
        "test_df = test_df[test_df.word_count>=5]"
      ],
      "metadata": {
        "id": "3e5X9gupxBnM"
      },
      "execution_count": 28,
      "outputs": []
    },
    {
      "cell_type": "code",
      "source": [
        "test_df = test_df[test_df.word_count<=25]"
      ],
      "metadata": {
        "id": "GrLaAp-TxH1S"
      },
      "execution_count": 29,
      "outputs": []
    },
    {
      "cell_type": "code",
      "source": [
        "temp_list = []\n",
        "for i in test_df.Sentence:\n",
        "  i = j2hcj(h2j(i)) + ' '\n",
        "  temp_list.append(i)\n",
        "\n",
        "test_df.Sentence = temp_list"
      ],
      "metadata": {
        "id": "CfuuW0JL55MR"
      },
      "execution_count": 30,
      "outputs": []
    },
    {
      "cell_type": "code",
      "source": [
        "test_df"
      ],
      "metadata": {
        "colab": {
          "base_uri": "https://localhost:8080/",
          "height": 424
        },
        "id": "VGkNtOjbSe_p",
        "outputId": "534d572c-4d6d-455b-9f96-f8bf4a045f18"
      },
      "execution_count": 31,
      "outputs": [
        {
          "output_type": "execute_result",
          "data": {
            "text/plain": [
              "                                               Sentence  label  word_count\n",
              "0     ㅈㅣㅂㅐ ㅈㅓㅈㅇㅡㄹ ㅈㅏㄹㄹㅏ ㅂㅓㄹㅣㄷㅡㄴㅈㅣ ㅎㅐㅇㅑㅈㅣ ㅁㅣㅅㅓㅇㄴㅕㄴ ㅈㅏ...      2          18\n",
              "1     ㄷㅐㄹㅣ ㄸㅐㅁㅜㄴㅇㅔ ㅎㅏㅇㅅㅏㅇ ㄷㅏㅇㅎㅘㅇ ㅅㅡㄹㅓㅇㅝ ㅅㅐㄹㅗ ㄷㅡㄹㅇㅓㅇㅗ...      1          10\n",
              "2     ㅍㅕㅇㅅㅐㅇ ㄱㅏㅈㅗㄱㅇㅡㄹ ㅇㅟㅎㅐ ㅎㅢㅅㅐㅇ ㅎㅐㅆㄴㅡㄴㄷㅔ ㅇㅣㅈㅔ ㄴㅏㅁㅇㅡ...      1          10\n",
              "3     ㅈㅣㅇㅣㄴㅇㅣ ㅇㅣㅎㅗㄴ ㅎㅐㅅㅓ ㅎㅗㄴㅈㅏ ㅅㅏㄹㄷㅏㄱㅏ ㄱㅗㄷㅗㄱ ㅅㅏㅎㅐㅆㄷㅐ...      1          12\n",
              "4     ㅇㅣㅂㅜㄴ ㅇㅕㅇㅅㅏㅇ ㅁㅕㅊㅂㅓㄴ ㅅㅏㅇㅂㅗㄱㅗ ㅂㅏㄹㅗ ㄱㅜㄷㅗㄱ ㄴㅜㄹㄹㅓ ㄷ...      0           9\n",
              "...                                                 ...    ...         ...\n",
              "4943  ㅎㅘㄹㄱㅣㅊㅏㄴ ㅎㅏㄹㅜㄹㅡㄹ ㅂㅗㄴㅐㄹㅕㄱㅗ ㅎㅐㄷㅗ ㄱㅣㅇㅜㄴㅇㅣ ㅇㅓㅄㅇㅓ ㅎ...      1           7\n",
              "4944  ㅇㅛㄹㅣㄹㅡㄹ ㅎㅏㄷㅏㄱㅏ ㅋㅏㄹㅇㅔ ㅅㅗㄴㅇㅣ ㅁㅏㄶㅇㅣ ㅂㅔㅇㅕㅅㅓ ㅂㅕㅇㅇㅝㄴ...      0          13\n",
              "4945  ㅇㅏㅈㅣㄱ ㅎㅏㄴㄱㅜㄱ ㅇㅕㅈㅏㄹㅏㅇ ㄱㅕㄹㅎㅗㄴ ㅎㅏㄴㅡㄴ ㄷㅡㅇㅅㅣㄴㅇㅣ ㅇㅣㅆㄴㅑ       2           7\n",
              "4946  ㅎㅏㄷㅏㅎㅏㄷㅏ ㄷㅔㅇㅣㅌㅡ ㅍㅗㄱㄹㅕㄱ ㅂㅓㅁㅇㅡㄹ ㅂㅏㅇㅅㅗㅇㅇㅔ ㅅㅗㅎㅘㄴ ㅎ...      2           7\n",
              "4947  ㅇㅏㅃㅏ ㅅㅏㅇㅓㅂㅇㅔ ㅁㅜㄴㅈㅔㄱㅏ ㅅㅐㅇㄱㅕㅆㄷㅏㄱㅗ ㅎㅏㄴㅔ ㅁㅏㄶㅇㅣ ㅂㅜㄹ...      1           7\n",
              "\n",
              "[3600 rows x 3 columns]"
            ],
            "text/html": [
              "\n",
              "  <div id=\"df-008a91cd-c65c-4788-9b64-d401df329e36\">\n",
              "    <div class=\"colab-df-container\">\n",
              "      <div>\n",
              "<style scoped>\n",
              "    .dataframe tbody tr th:only-of-type {\n",
              "        vertical-align: middle;\n",
              "    }\n",
              "\n",
              "    .dataframe tbody tr th {\n",
              "        vertical-align: top;\n",
              "    }\n",
              "\n",
              "    .dataframe thead th {\n",
              "        text-align: right;\n",
              "    }\n",
              "</style>\n",
              "<table border=\"1\" class=\"dataframe\">\n",
              "  <thead>\n",
              "    <tr style=\"text-align: right;\">\n",
              "      <th></th>\n",
              "      <th>Sentence</th>\n",
              "      <th>label</th>\n",
              "      <th>word_count</th>\n",
              "    </tr>\n",
              "  </thead>\n",
              "  <tbody>\n",
              "    <tr>\n",
              "      <th>0</th>\n",
              "      <td>ㅈㅣㅂㅐ ㅈㅓㅈㅇㅡㄹ ㅈㅏㄹㄹㅏ ㅂㅓㄹㅣㄷㅡㄴㅈㅣ ㅎㅐㅇㅑㅈㅣ ㅁㅣㅅㅓㅇㄴㅕㄴ ㅈㅏ...</td>\n",
              "      <td>2</td>\n",
              "      <td>18</td>\n",
              "    </tr>\n",
              "    <tr>\n",
              "      <th>1</th>\n",
              "      <td>ㄷㅐㄹㅣ ㄸㅐㅁㅜㄴㅇㅔ ㅎㅏㅇㅅㅏㅇ ㄷㅏㅇㅎㅘㅇ ㅅㅡㄹㅓㅇㅝ ㅅㅐㄹㅗ ㄷㅡㄹㅇㅓㅇㅗ...</td>\n",
              "      <td>1</td>\n",
              "      <td>10</td>\n",
              "    </tr>\n",
              "    <tr>\n",
              "      <th>2</th>\n",
              "      <td>ㅍㅕㅇㅅㅐㅇ ㄱㅏㅈㅗㄱㅇㅡㄹ ㅇㅟㅎㅐ ㅎㅢㅅㅐㅇ ㅎㅐㅆㄴㅡㄴㄷㅔ ㅇㅣㅈㅔ ㄴㅏㅁㅇㅡ...</td>\n",
              "      <td>1</td>\n",
              "      <td>10</td>\n",
              "    </tr>\n",
              "    <tr>\n",
              "      <th>3</th>\n",
              "      <td>ㅈㅣㅇㅣㄴㅇㅣ ㅇㅣㅎㅗㄴ ㅎㅐㅅㅓ ㅎㅗㄴㅈㅏ ㅅㅏㄹㄷㅏㄱㅏ ㄱㅗㄷㅗㄱ ㅅㅏㅎㅐㅆㄷㅐ...</td>\n",
              "      <td>1</td>\n",
              "      <td>12</td>\n",
              "    </tr>\n",
              "    <tr>\n",
              "      <th>4</th>\n",
              "      <td>ㅇㅣㅂㅜㄴ ㅇㅕㅇㅅㅏㅇ ㅁㅕㅊㅂㅓㄴ ㅅㅏㅇㅂㅗㄱㅗ ㅂㅏㄹㅗ ㄱㅜㄷㅗㄱ ㄴㅜㄹㄹㅓ ㄷ...</td>\n",
              "      <td>0</td>\n",
              "      <td>9</td>\n",
              "    </tr>\n",
              "    <tr>\n",
              "      <th>...</th>\n",
              "      <td>...</td>\n",
              "      <td>...</td>\n",
              "      <td>...</td>\n",
              "    </tr>\n",
              "    <tr>\n",
              "      <th>4943</th>\n",
              "      <td>ㅎㅘㄹㄱㅣㅊㅏㄴ ㅎㅏㄹㅜㄹㅡㄹ ㅂㅗㄴㅐㄹㅕㄱㅗ ㅎㅐㄷㅗ ㄱㅣㅇㅜㄴㅇㅣ ㅇㅓㅄㅇㅓ ㅎ...</td>\n",
              "      <td>1</td>\n",
              "      <td>7</td>\n",
              "    </tr>\n",
              "    <tr>\n",
              "      <th>4944</th>\n",
              "      <td>ㅇㅛㄹㅣㄹㅡㄹ ㅎㅏㄷㅏㄱㅏ ㅋㅏㄹㅇㅔ ㅅㅗㄴㅇㅣ ㅁㅏㄶㅇㅣ ㅂㅔㅇㅕㅅㅓ ㅂㅕㅇㅇㅝㄴ...</td>\n",
              "      <td>0</td>\n",
              "      <td>13</td>\n",
              "    </tr>\n",
              "    <tr>\n",
              "      <th>4945</th>\n",
              "      <td>ㅇㅏㅈㅣㄱ ㅎㅏㄴㄱㅜㄱ ㅇㅕㅈㅏㄹㅏㅇ ㄱㅕㄹㅎㅗㄴ ㅎㅏㄴㅡㄴ ㄷㅡㅇㅅㅣㄴㅇㅣ ㅇㅣㅆㄴㅑ</td>\n",
              "      <td>2</td>\n",
              "      <td>7</td>\n",
              "    </tr>\n",
              "    <tr>\n",
              "      <th>4946</th>\n",
              "      <td>ㅎㅏㄷㅏㅎㅏㄷㅏ ㄷㅔㅇㅣㅌㅡ ㅍㅗㄱㄹㅕㄱ ㅂㅓㅁㅇㅡㄹ ㅂㅏㅇㅅㅗㅇㅇㅔ ㅅㅗㅎㅘㄴ ㅎ...</td>\n",
              "      <td>2</td>\n",
              "      <td>7</td>\n",
              "    </tr>\n",
              "    <tr>\n",
              "      <th>4947</th>\n",
              "      <td>ㅇㅏㅃㅏ ㅅㅏㅇㅓㅂㅇㅔ ㅁㅜㄴㅈㅔㄱㅏ ㅅㅐㅇㄱㅕㅆㄷㅏㄱㅗ ㅎㅏㄴㅔ ㅁㅏㄶㅇㅣ ㅂㅜㄹ...</td>\n",
              "      <td>1</td>\n",
              "      <td>7</td>\n",
              "    </tr>\n",
              "  </tbody>\n",
              "</table>\n",
              "<p>3600 rows × 3 columns</p>\n",
              "</div>\n",
              "      <button class=\"colab-df-convert\" onclick=\"convertToInteractive('df-008a91cd-c65c-4788-9b64-d401df329e36')\"\n",
              "              title=\"Convert this dataframe to an interactive table.\"\n",
              "              style=\"display:none;\">\n",
              "        \n",
              "  <svg xmlns=\"http://www.w3.org/2000/svg\" height=\"24px\"viewBox=\"0 0 24 24\"\n",
              "       width=\"24px\">\n",
              "    <path d=\"M0 0h24v24H0V0z\" fill=\"none\"/>\n",
              "    <path d=\"M18.56 5.44l.94 2.06.94-2.06 2.06-.94-2.06-.94-.94-2.06-.94 2.06-2.06.94zm-11 1L8.5 8.5l.94-2.06 2.06-.94-2.06-.94L8.5 2.5l-.94 2.06-2.06.94zm10 10l.94 2.06.94-2.06 2.06-.94-2.06-.94-.94-2.06-.94 2.06-2.06.94z\"/><path d=\"M17.41 7.96l-1.37-1.37c-.4-.4-.92-.59-1.43-.59-.52 0-1.04.2-1.43.59L10.3 9.45l-7.72 7.72c-.78.78-.78 2.05 0 2.83L4 21.41c.39.39.9.59 1.41.59.51 0 1.02-.2 1.41-.59l7.78-7.78 2.81-2.81c.8-.78.8-2.07 0-2.86zM5.41 20L4 18.59l7.72-7.72 1.47 1.35L5.41 20z\"/>\n",
              "  </svg>\n",
              "      </button>\n",
              "      \n",
              "  <style>\n",
              "    .colab-df-container {\n",
              "      display:flex;\n",
              "      flex-wrap:wrap;\n",
              "      gap: 12px;\n",
              "    }\n",
              "\n",
              "    .colab-df-convert {\n",
              "      background-color: #E8F0FE;\n",
              "      border: none;\n",
              "      border-radius: 50%;\n",
              "      cursor: pointer;\n",
              "      display: none;\n",
              "      fill: #1967D2;\n",
              "      height: 32px;\n",
              "      padding: 0 0 0 0;\n",
              "      width: 32px;\n",
              "    }\n",
              "\n",
              "    .colab-df-convert:hover {\n",
              "      background-color: #E2EBFA;\n",
              "      box-shadow: 0px 1px 2px rgba(60, 64, 67, 0.3), 0px 1px 3px 1px rgba(60, 64, 67, 0.15);\n",
              "      fill: #174EA6;\n",
              "    }\n",
              "\n",
              "    [theme=dark] .colab-df-convert {\n",
              "      background-color: #3B4455;\n",
              "      fill: #D2E3FC;\n",
              "    }\n",
              "\n",
              "    [theme=dark] .colab-df-convert:hover {\n",
              "      background-color: #434B5C;\n",
              "      box-shadow: 0px 1px 3px 1px rgba(0, 0, 0, 0.15);\n",
              "      filter: drop-shadow(0px 1px 2px rgba(0, 0, 0, 0.3));\n",
              "      fill: #FFFFFF;\n",
              "    }\n",
              "  </style>\n",
              "\n",
              "      <script>\n",
              "        const buttonEl =\n",
              "          document.querySelector('#df-008a91cd-c65c-4788-9b64-d401df329e36 button.colab-df-convert');\n",
              "        buttonEl.style.display =\n",
              "          google.colab.kernel.accessAllowed ? 'block' : 'none';\n",
              "\n",
              "        async function convertToInteractive(key) {\n",
              "          const element = document.querySelector('#df-008a91cd-c65c-4788-9b64-d401df329e36');\n",
              "          const dataTable =\n",
              "            await google.colab.kernel.invokeFunction('convertToInteractive',\n",
              "                                                     [key], {});\n",
              "          if (!dataTable) return;\n",
              "\n",
              "          const docLinkHtml = 'Like what you see? Visit the ' +\n",
              "            '<a target=\"_blank\" href=https://colab.research.google.com/notebooks/data_table.ipynb>data table notebook</a>'\n",
              "            + ' to learn more about interactive tables.';\n",
              "          element.innerHTML = '';\n",
              "          dataTable['output_type'] = 'display_data';\n",
              "          await google.colab.output.renderOutput(dataTable, element);\n",
              "          const docLink = document.createElement('div');\n",
              "          docLink.innerHTML = docLinkHtml;\n",
              "          element.appendChild(docLink);\n",
              "        }\n",
              "      </script>\n",
              "    </div>\n",
              "  </div>\n",
              "  "
            ]
          },
          "metadata": {},
          "execution_count": 31
        }
      ]
    },
    {
      "cell_type": "markdown",
      "source": [
        "**fasttext이용해 단어를 벡터로 변환**"
      ],
      "metadata": {
        "id": "biTVrq_4QMRM"
      }
    },
    {
      "cell_type": "code",
      "source": [
        "train_df.Sentence.to_csv('data_train.txt')\n",
        "test_df.Sentence.to_csv('data_test.txt')"
      ],
      "metadata": {
        "id": "FTcifS9Wab_L"
      },
      "execution_count": 32,
      "outputs": []
    },
    {
      "cell_type": "code",
      "source": [
        "ft_model = fasttext.train_unsupervised(input='/content/data_train.txt', model = 'skipgram', lr = 0.05, dim = 100, ws = 5, epoch = 50, minn = 1, wordNgrams = 5)\n",
        "# model = skipgram\n",
        "# lr = learning rate\n",
        "# dim = dimension\n",
        "# ws = window size\n",
        "# minn = 최소 character ngram\n",
        "# wordNgrams = \tmax length of word ngram"
      ],
      "metadata": {
        "id": "k9mTwILS6QXV"
      },
      "execution_count": 33,
      "outputs": []
    },
    {
      "cell_type": "code",
      "source": [
        "ft_model.save_model('ft_model.bin')"
      ],
      "metadata": {
        "id": "-VXmwZrIhwhE"
      },
      "execution_count": 34,
      "outputs": []
    },
    {
      "cell_type": "code",
      "source": [
        "words = ft_model.get_words()\n",
        "print(words)"
      ],
      "metadata": {
        "colab": {
          "base_uri": "https://localhost:8080/"
        },
        "id": "HTyadxpBraOh",
        "outputId": "3a2f3229-b5b8-4f83-e917-53485718c7af"
      },
      "execution_count": 35,
      "outputs": [
        {
          "output_type": "stream",
          "name": "stdout",
          "text": [
            "['</s>', 'ㅎㅏㄴㅡㄴ', 'ㅎㅐㅅㅓ', 'ㄱㅏㅌㅇㅏ', 'ㄴㅐㄱㅏ', 'ㅎㅐㅆㄴㅡㄴㄷㅔ', 'ㄴㅏㄹㅡㄹ', 'ㅁㅏㄶㅇㅣ', 'ㅎㅐㅆㅇㅓ', 'ㅊㅣㄴㄱㅜㄱㅏ', 'ㅈㅗㅎㅇㅡㄴ', 'ㅎㅏㄱㅗ', 'ㅅㅐㅇㄱㅏㄱ', 'ㄸㅐㅁㅜㄴㅇㅔ', 'ㅂㅗㄱㅗ', 'ㄱㅏㅁㅅㅏㅎㅏㅂㄴㅣㄷㅏ', 'ㅎㅏㅈㅣ', 'ㅇㅣㅆㄴㅡㄴ', 'ㅅㅡㄹㅍㅓ', 'ㄷㅏㅇㅎㅘㅇ', 'ㅎㅘㄱㅏ', 'ㅅㅡㄹㅓㅇㅝ', 'ㅎㅏㄴㅡㄴㄷㅔ', 'ㄴㅗㄹㅐ', 'ㅇㅣㅆㅇㅓ', 'ㅈㅗㅎㅇㅏㅇㅛ', 'ㅎㅏㅁㅕㄴ', 'ㄱㅏㅌㅇㅡㄴ', 'ㅈㅗㅎㅇㅏ', 'ㅅㅏㄹㅏㅇ', 'ㅇㅏㄶㅇㅏ', 'ㅎㅏㅂㄴㅣㄷㅏ', 'ㅇㅣㅆㄴㅡㄴㄷㅔ', 'ㅇㅓㅄㅇㅓ', 'ㄱㅏㅌㅇㅏㅅㅓ', 'ㅇㅜㄹㅣ', 'ㅇㅣㄹㅓㅎㄱㅔ', 'ㅈㅗㄴㄴㅏ', 'ㅇㅓㅄㄴㅡㄴ', 'ㅇㅣㄹㅓㄴ', 'ㅇㅓㄸㅓㅎㄱㅔ', 'ㄷㅏㄹㅡㄴ', 'ㄴㅏㄴㅡㄴ', 'ㄷㅡㄹㅇㅓ', 'ㅁㅏㅇㅡㅁㅇㅣ', 'ㅂㅜㄹㅇㅏㄴㅎㅐ', 'ㄱㅖㅅㅗㄱ', 'ㅎㅐㅇㅑ', 'ㅅㅏㄹㅏㅁㅇㅣ', 'ㅁㅏㄹㅇㅡㄹ', 'ㅈㅏㄲㅜ', 'ㄱㅣㅂㅜㄴㅇㅣ', 'ㄱㅣㅃㅓ', 'ㅂㅗㄴㅣ', 'ㅎㅏㅇㅅㅏㅇ', 'ㄱㅏㅂㅈㅏㄱㅣ', 'ㅂㅗㅁㅕㄴ', 'ㄱㅓㄱㅈㅓㅇ', 'ㅇㅣㅂㄴㅣㄷㅏ', 'ㄱㅏㅌㅇㅣ', 'ㅅㅗㄱㅅㅏㅇㅎㅐ', 'ㄴㅏㄷㅗ', 'ㅇㅣㅆㅇㅓㅅㅓ', 'ㄴㅏㅎㅏㄴㅌㅔ', 'ㅎㅏㄴㅔ', 'ㅎㅣㅁㄷㅡㄹㅇㅓ', 'ㅇㅓㅄㅇㅓㅅㅓ', 'ㅈㅗㅎㄷㅏ', 'ㅎㅏㄱㅔ', 'ㅎㅐㄷㅗ', 'ㅁㅜㅅㅡㄴ', 'ㅈㅗㄴㄱㅕㅇ', 'ㅇㅕㅇㅅㅏㅇ', 'ㄱㅜㄷㅗㄱ', 'ㅅㅏㄹㅏㅁ', 'ㅎㅗㄴㅈㅏ', 'ㅂㅏㄷㅇㅏㅆㅇㅓ', 'ㅈㅗㅎㅇㅏㅎㅏㄴㅡㄴ', 'ㅇㅓㅄㅇㅣ', 'ㄷㅚㄴㅡㄴ', 'ㅇㅛㅈㅡㅁ', 'ㅇㅕㅈㅏ', 'ㅇㅣㅈㅔ', 'ㅇㅣㄹㅇㅡㄹ', 'ㅁㅗㄹㅡㄱㅔㅆㅇㅓ', 'ㅇㅣㄹㅇㅣ', 'ㄱㅣㅂㅜ', 'ㅊㅣㄴㄱㅜㄷㅡㄹㅇㅣ', 'ㅇㅕㄹㅅㅣㅁㅎㅣ', 'ㅇㅏㄶㅇㅏㅅㅓ', 'ㅅㅐㄲㅣ', 'ㅅㅏㄹㅏㅁㄷㅡㄹㅇㅣ', 'ㅅㅐㄲㅣㄷㅡㄹ', 'ㄴㅏㅇㅔㄱㅔ', 'ㅎㅏㄴㅏ', 'ㅇㅓㄹㅁㅏㄴㅏ', 'ㅁㅏㄶㅇㅡㄴ', 'ㄱㅓㅅㄷㅗ', 'ㅇㅏㄴㅐㄱㅏ', 'ㅎㅏㅁㄲㅔ', 'ㄱㅕㄹㅎㅗㄴ', 'ㅅㅣㅍㅇㅓ', 'ㄴㅏㅁㅈㅏ', 'ㅇㅗㄴㅡㄹ', 'ㄱㅓㅅㅇㅡㄹ', 'ㅁㅓㄱㄱㅗ', 'ㅈㅗㅎㅇㅏㅅㅓ', 'ㄷㅏㅅㅣ', 'ㅅㅐㅇㄱㅏㄱㅇㅣ', 'ㅇㅟㅎㅐ', 'ㅈㅓㄴㅇㅔ', 'ㄱㅓㅅㅇㅣ', 'ㅎㅏㄴㅣ', 'ㄴㅏㅁㅏㄴ', 'ㄷㅡㄷㄱㅗ', 'ㄱㅗㅇㅂㅜ', 'ㅂㅕㅇㅇㅝㄴㅇㅔ', 'ㅈㅣㅂㅇㅔ', 'ㅁㅗㅁㅇㅣ', 'ㅁㅗㄷㅜ', 'ㅎㅏㅁㅕㄴㅅㅓ', 'ㅇㅡㅇㅇㅝㄴ', 'ㅇㅏㅁㅜ', 'ㅇㅏㅈㅜ', 'ㅁㅗㄱㅅㅗㄹㅣ', 'ㅎㅐㄹㅏ', 'ㅇㅏㄶㄱㅗ', 'ㄱㅓㄴㄱㅏㅇ', 'ㅈㅓㄹㅓㄴ', 'ㅈㅣㄱㅡㅁ', 'ㅇㅏㅁㅜㄷㅗ', 'ㄱㅡㄹㅣㄱㅗ', 'ㅇㅏㄴㅣㄹㅏ', 'ㅊㅣㄴㄱㅜㄹㅡㄹ', 'ㅅㅣㅍㅇㅡㄴㄷㅔ', 'ㄱㅏㅌㅇㅏㅇㅛ', 'ㅎㅏㄴㄷㅏㄱㅗ', 'ㅈㅔㅇㅣㄹ', 'ㅎㅗㄴㄹㅏㄴ', 'ㅍㅏㅂㄴㅣㅁ', 'ㄷㅡㄹㅏㅁㅏ', 'ㅆㅣㅂㅏㄹ', 'ㅎㅏㄹㅈㅣ', 'ㅁㅐㅇㅣㄹ', 'ㄱㅓㄱㅈㅓㅇㅇㅣㅇㅑ', 'ㄴㅏㅅㅓ', 'ㅎㅏㄴㄷㅏ', 'ㅂㅏㄷㄱㅗ', 'ㅈㅗㅎㄱㅗ', 'ㅎㅏㄴㅂㅓㄴ', 'ㄱㅡㄹㅓㄴ', 'ㄱㅏㅅㅓ', 'ㅊㅣㄴㄱㅜ', 'ㅂㅗㄴㅡㄴ', 'ㄱㅏㅂㄴㅣㄷㅏ', 'ㅎㅐㅆㄷㅓㄴ', 'ㅈㅣㄹㅏㄹ', 'ㄷㅚㅇㅓㅆㅇㅓ', 'ㅇㅘㅅㅓ', 'ㅇㅏㄷㅡㄹㅇㅣ', 'ㅇㅏㄹㄱㅗ', 'ㄱㅏㅌㅇㅡㄴㄷㅔ', 'ㄸㅐㅁㅏㄷㅏ', 'ㄷㅐㅎㅐ', 'ㄱㅡㄴㄷㅔ', 'ㅊㅚㄱㅗ', 'ㅇㅣㅂㅓㄴ', 'ㄱㅡㄹㅓㅎㄱㅔ', 'ㅇㅜㅇㅜㄹㅎㅐ', 'ㄴㅏㅇㅣ', 'ㅂㅏㄷㅇㅏ', 'ㅁㅏㄹㅇㅣ', 'ㄱㅏㅁㄷㅗㅇ', 'ㅇㅏㅍㅏ', 'ㅇㅗㄹㅐ', 'ㄷㅗㄴㅇㅡㄹ', 'ㅈㅗㅎㅈㅣ', 'ㅎㅏㄱㅣ', 'ㄷㅙㅅㅓ', 'ㅅㅣㅈㅏㄱ', 'ㄴㅜㄱㅏ', 'ㄷㅡㄹㅇㅣ', 'ㄱㅕㄹㄱㅘㄱㅏ', 'ㅅㅣㅂㅏㄹ', 'ㅅㅏㄴㅡㄴ', 'ㅇㅣㅆㅇㅡㄹ', 'ㄴㅏㅇㅘ', 'ㅂㅕㅇㅅㅣㄴ', 'ㅁㅜㅅㅣ', 'ㄱㅏㅈㅣㄱㅗ', 'ㅁㅗㄷㅡㄴ', 'ㅈㅓㅁㅈㅓㅁ', 'ㅈㅏㄱㅣ', 'ㅇㅓㅁㅁㅏㄱㅏ', 'ㄷㅚㄱㅗ', 'ㅎㅐㅇㅛ', 'ㄴㅜㄴㅁㅜㄹㅇㅣ', 'ㄴㅏㅂㅗㄷㅏ', 'ㅇㅓㅄㄱㅗ', 'ㅂㅏㄹㅗ', 'ㄷㅙㅆㅇㅓ', 'ㅎㅏㄱㄱㅛ', 'ㄱㅓㄴㅈㅣ', 'ㄷㅚㅇㅓ', 'ㄱㅗㅇㅂㅜㄹㅡㄹ', 'ㄷㅚㅇㅓㅅㅓ', 'ㅇㅘㅆㄴㅡㄴㄷㅔ', 'ㅇㅕㄱㅅㅣ', 'ㅇㅏㄴㅣㄱㅗ', 'ㄷㅜㄹㅕㅇㅝ', 'ㅇㅏㅈㅣㄱ', 'ㅂㅘㄷㅗ', 'ㅇㅏㅍㅇㅡㄹㅗ', 'ㅇㅏㄶㄴㅡㄴ', 'ㅇㅣㄴㅅㅐㅇ', 'ㄸㅏㄹㅇㅣ', 'ㅎㅏㄴㅡㄴㄱㅓ', 'ㄴㅐㄱㅔ', 'ㄷㅡㄹㅇㅓㅅㅓ', 'ㄴㅏㄹㅏㅇ', 'ㅅㅓㅇㅈㅓㄱㅇㅣ', 'ㅅㅣㅀㅇㅓ', 'ㅁㅓㄴㅈㅓ', 'ㄱㅏㅆㄴㅡㄴㄷㅔ', 'ㄷㅗㄴㅇㅣ', 'ㄱㅏㅈㅏㅇ', 'ㅃㅏㄹㄹㅣ', 'ㄱㅡㄹㅐㅅㅓ', 'ㅅㅣㅍㅇㅡㄴ', 'ㅇㅒㄱㅣ', 'ㅅㅜㄱㅏ', 'ㅇㅣㅆㅈㅣ', 'ㅇㅣㄱㅔ', 'ㅇㅓㅄㄷㅏ', 'ㅇㅏㅈㅣㄱㄷㅗ', 'ㅇㅏㄶㅇㅡㄴ', 'ㅇㅓㅄㄴㅔ', 'ㅈㅏㅈㅜ', 'ㄱㅚㄹㅗㅇㅝ', 'ㅇㅣㅆㅇㅓㅆㄴㅡㄴㄷㅔ', 'ㅇㅏㅍㅡㄴ', 'ㅂㅘㅆㄴㅡㄴㄷㅔ', 'ㅈㅔㄷㅐㄹㅗ', 'ㅈㅓㄹㅓㅎㄱㅔ', 'ㅇㅓㅁㅊㅓㅇ', 'ㄴㅗㄹㅐㄹㅡㄹ', 'ㅅㅗㄹㅣ', 'ㅎㅏㄷㅓㄴ', 'ㄱㅓㄴㄱㅏㅇㅇㅣ', 'ㅎㅚㅅㅏ', 'ㅇㅏㄹㅇㅏㅆㄴㅡㄴㄷㅔ', 'ㅇㅣㅅㅏㅇ', 'ㅇㅓㄸㅓㄴ', 'ㄱㅏㄴㅡㄴ', 'ㄱㅏㄱㅗ', 'ㄴㅏㅇㅘㅅㅓ', 'ㄴㅏㅁㅍㅕㄴㅇㅣ', 'ㄱㅏㅌㄷㅏ', 'ㅇㅐㄷㅡㄹㅇㅣ', 'ㅇㅐㄷㅡㄹ', 'ㅇㅘㄴㅈㅓㄴ', 'ㅂㅗㄱㅣ', 'ㅉㅏㅈㅡㅇㄴㅏ', 'ㅂㅏㄷㅇㅏㅆㄴㅡㄴㄷㅔ', 'ㅇㅐㄱㅏ', 'ㅎㅏㄴㅗ', 'ㅇㅓㄱㅇㅜㄹㅎㅐ', 'ㄱㅡㄱㅔ', 'ㄷㅐㅅㄱㅡㄹ', 'ㅅㅓㄴㅅㅐㅇㄴㅣㅁㅇㅣ', 'ㄷㅏㅎㅐㅇㅇㅣㅇㅑ', 'ㅇㅏㅃㅏㄱㅏ', 'ㅇㅓㅄㄴㅡㄴㄷㅔ', 'ㅎㅚㅈㅏㅇㄴㅣㅁ', 'ㄱㅣㅂㅜㄴ', 'ㄱㅓㄴㄱㅏㅇㅎㅏㄱㅔ', 'ㅈㅓㄹㄷㅐ', 'ㅎㅘㅇㅣㅌㅣㅇ', 'ㅅㅏㄹㅏㅁㄷㅡㄹ', 'ㅇㅣㄱㅣㅇㅑ', 'ㄴㅏㄹㅏ', 'ㅈㅣㅂㅇㅔㅅㅓ', 'ㅂㅏㄷㅇㅏㅅㅓ', 'ㅁㅏㄴㅇㅔ', 'ㅂㅓㄹㅕㅆㅇㅓ', 'ㅅㅏㅇㅊㅓ', 'ㅅㅣㄱㅏㄴ', 'ㅇㅏㅇㅣㅇㅠ', 'ㅊㅣㄴㄱㅜㅇㅔㄱㅔ', 'ㅊㅣㄴㄱㅜㅇㅘ', 'ㅇㅏㄴㅣㄴ', 'ㄴㅗㄹㅐㄱㅏ', 'ㅇㅘㅆㅇㅓ', 'ㄴㅏㅆㅇㅓ', 'ㅎㅏㄹㅕㄱㅗ', 'ㅊㅓㅇㅡㅁ', 'ㅇㅣㅂㅓㄴㅇㅔ', 'ㅇㅓㄹㅁㅏ', 'ㄱㅓㄱㅈㅓㅇㅇㅣ', 'ㅎㅏㄱㄱㅛㅇㅔㅅㅓ', 'ㄸㅏㄷㅗㄹㄹㅣㅁㅇㅡㄹ', 'ㅂㅜㅁㅗㄴㅣㅁㅇㅣ', 'ㅋㅡㄱㅔ', 'ㅇㅣㄴㅗ', 'ㅇㅣㅆㄷㅏㄱㅗ', 'ㅇㅚㄹㅗㅇㅝ', 'ㅁㅏㄹㄷㅗ', 'ㅎㅏㄴㅅㅣㅁㅎㅐ', 'ㅅㅐㄲㅣㄷㅡㄹㅇㅣ', 'ㅅㅏㅅㅣㄹㅇㅡㄹ', 'ㅎㅏㄴㅡㄴㄱㅔ', 'ㅇㅏㄴㅣㄴㄷㅔ', 'ㅎㅐㅆㄷㅏㄱㅗ', 'ㅎㅏㄴㄱㅜㄱ', 'ㅇㅏㄶㅇㅏㅆㅇㅓ', 'ㄲㅣㄹㅣ', 'ㄷㅡㄹㅇㅓㅆㅇㅓ', 'ㅇㅏㄹㄱㅔ', 'ㅁㅗㄹㄹㅐ', 'ㅇㅣㄱㅣ', 'ㅈㅏㅅㅣㄴㅇㅣ', 'ㅅㅣㄱㅏㄴㅇㅣ', 'ㅈㅜㅇㅇㅔ', 'ㅎㅏㄷㅏ', 'ㅈㅜㄴㅂㅣ', 'ㅎㅐㅆㄷㅓㄴㅣ', 'ㄱㅕㄹㄱㅜㄱ', 'ㅇㅜㄴㄷㅗㅇㅇㅡㄹ', 'ㄴㅏㅇㅣㄱㅏ', 'ㅁㅗㅅㅡㅂㅇㅡㄹ', 'ㅅㅣㅎㅓㅁ', 'ㅅㅏㄹㄱㅗ', 'ㅎㅚㅅㅏㅇㅔ', 'ㅂㅓㄹㅆㅓ', 'ㄴㅗㄹㅕㄱ', 'ㅈㅓㄷㅗ', 'ㅎㅏㄴㄷㅏㄴㅡㄴ', 'ㄷㅚㅁㅕㄴ', 'ㅂㅗㄴㅣㄲㅏ', 'ㅊㅣㄴㅎㅏㄴ', 'ㅁㅜㅅㅓㅇㅝ', 'ㅁㅝㅇㅑ', 'ㅇㅣㅆㄷㅏ', 'ㄸㅏㄹㅏ', 'ㅎㅏㄷㅏㄱㅏ', 'ㅇㅓㅁㅁㅏ', 'ㅇㅣㄴㅈㅓㅇ', 'ㅁㅝㄴㄱㅏ', 'ㅁㅗㅅㅎㅏㄴ', 'ㅅㅔㅅㅏㅇㅇㅡㄹ', 'ㄷㅓㄱㅂㅜㄴㅇㅔ', 'ㅊㅟㅇㅓㅂ', 'ㅅㅡㄹㅓㅇㅝㅆㅇㅓ', 'ㅂㅗㅇㅕ', 'ㄷㅏㄹㄹㅏㄱㅗ', 'ㅇㅓㄴㄴㅣ', 'ㅇㅏㄴㅣㅁ', 'ㅎㅐㅇㅂㅗㄱㅎㅐ', 'ㅇㅕㄴㄹㅏㄱㅇㅣ', 'ㅈㅗㅎㄷㅏㄱㅗ', 'ㅂㅕㄹㄹㅗ', 'ㅇㅏㅇㅣㄱㅏ', 'ㅅㅐㅇㄱㅣㄴ', 'ㄱㅏㅁㅇㅣ', 'ㅈㅓㅇㅅㅣㄴ', 'ㅂㅜㄴㅇㅣ', 'ㅇㅣㅆㅇㅓㅆㅇㅓ', 'ㄱㅣㅂㅜㄴㅇㅣㅇㅑ', 'ㅎㅏㅁㅕ', 'ㅎㅏㄴㅏㄷㅗ', 'ㅇㅗㄹㅐㅇㅗㄹㅐ', 'ㄷㅏㅇㅎㅏㄴㅡㄴ', 'ㄴㅏㅇㅢ', 'ㄱㅏㅁㅅㅏ', 'ㅎㅣㅁㅇㅣ', 'ㅇㅓㄹㄱㅜㄹ', 'ㅅㅣㄱㅏㄴㅇㅔ', 'ㅎㅏㄹㄲㅏ', 'ㅎㅕㅁㅇㅗ', 'ㅊㅣㄹㅛ', 'ㄱㅗㅅㅇㅣ', 'ㄷㅗㅇㅇㅏㄴ', 'ㅎㅏㅂㄱㅕㄱ', 'ㅊㅜㄱㅎㅏ', 'ㄱㅓㄹㅏㄱㅗ', 'ㄷㅚㅈㅣ', 'ㄱㅏㅆㅇㅓ', 'ㅁㅗㄹㅡㄱㅗ', 'ㅇㅣㅎㅗㄴ', 'ㄱㅟㅇㅕㅂㄷㅏ', 'ㅁㅓㅅㅇㅣㅆㄷㅏ', 'ㅅㅣㅍㄷㅏ', 'ㅈㅓㄴㅂㅜ', 'ㅁㅏㄶㅇㅏ', 'ㅂㅗㅁㅕㄴㅅㅓ', 'ㅇㅏㄴㅣㄴㅑ', 'ㅂㅕㅇㅇㅝㄴ', 'ㅇㅣㅆㄱㅗ', 'ㄱㅡㄱㅓㄹ', 'ㅇㅜㄴㄷㅗㅇ', 'ㄱㅓㅈㅣ', 'ㅎㅏㄱㄱㅛㅇㅔ', 'ㅂㅏㄴㄷㅐ', 'ㅁㅗㄹㅡㄴㅡㄴ', 'ㅇㅏㅍㅇㅡㄹㅗㄷㅗ', 'ㅍㅕㅇㅅㅐㅇ', 'ㄱㅓㄴㄱㅏㅇㅎㅏㅅㅔㅇㅛ', 'ㄱㅗㅅㅐㅇ', 'ㅇㅗㄹㅐㄴ', 'ㅇㅓㄴㅈㅔ', 'ㅅㅣㄴㄱㅕㅇ', 'ㅂㅘㄹㅏ', 'ㅅㅐㅇㅁㅕㅇㅇㅡㄹ', 'ㅈㅏㄹㅁㅗㅅ', 'ㄱㅓㄴㄱㅏ', 'ㅎㅏㄴㅣㄲㅏ', 'ㅎㅘㄹㅡㄹ', 'ㅇㅣㅆㄷㅏㄴㅡㄴ', 'ㅇㅏㅁㅜㄹㅣ', 'ㅈㅗㅎㄱㅔㅆㅇㅓ', 'ㅎㅚㅅㅏㅇㅔㅅㅓ', 'ㄱㅏㅌㅇㅡㅁ', 'ㅈㅣㄱㅈㅏㅇ', 'ㄲㅡㅌㄲㅏㅈㅣ', 'ㄱㅡㄹㅓㅁ', 'ㅅㅏㄹㅏㅁㅇㅡㄹ', 'ㅇㅓㄷㅣ', 'ㅅㅜㅈㅜㄴ', 'ㅁㅓㄱㄴㅡㄴ', 'ㅅㅡㅌㅡㄹㅔㅅㅡ', 'ㄱㅘㄴㄹㅣㄹㅡㄹ', 'ㅁㅗㅅㅎㅏㄱㅗ', 'ㄴㅏㅇㅘㅆㄴㅡㄴㄷㅔ', 'ㅁㅜㄴㅈㅔㄱㅏ', 'ㅁㅏㅇㅡㅁㅇㅔ', 'ㄷㅐㅎㅏㄴ', 'ㄱㅓㄴㄱㅏㅇㅇㅔ', 'ㅇㅟㅎㅐㅅㅓ', 'ㅅㅐㅇㄱㅏㄱㅇㅡㄹ', 'ㄱㅏㅁㅕㄴ', 'ㅎㅏㅅㅣㄴㅡㄴ', 'ㄱㅓㅁㅅㅏ', 'ㅎㅐㅈㅜㅅㅕㅅㅓ', 'ㄴㅡㄲㅣㅁㅇㅣㅇㅑ', 'ㄱㅓㄴㄱㅏㅇㅇㅡㄹ', 'ㄱㅓㄹㄲㅏ', 'ㅎㅜㅎㅚ', 'ㄴㅗㄹㅐㄷㅗ', 'ㅂㅏㅇㅅㅗㅇ', 'ㅇㅏㅍㅏㅅㅓ', 'ㄷㅡㄷㄴㅡㄴ', 'ㅅㅏㄹㅏㅁㅇㅡㄴ', 'ㅇㅗㅈㅣ', 'ㅇㅓㅄㅇㅡㅁ', 'ㅎㅏㅈㅣㅁㅏㄴ', 'ㅊㅣㄴㄱㅜㄴㅡㄴ', 'ㅉㅏㅈㅡㅇ', 'ㄱㅣㅅㅏ', 'ㅇㅣㅆㅇㅡㅁㅕㄴ', 'ㅁㅜㄴㅈㅔ', 'ㅇㅏㄴㅎㅏㄱㅗ', 'ㄱㅡㄹㅐㄷㅗ', 'ㅂㅗㄴㅡㄴㄷㅔ', 'ㅉㅏㅈㅡㅇㅇㅣ', 'ㅎㅏㅅㅕㅅㅓ', 'ㅂㅜㄲㅡㄹㅓㅇㅝ', 'ㅊㅣㄴㄱㅜㄷㅡㄹㄱㅘ', 'ㅇㅣㅇㅑㄱㅣ', 'ㅆㅡㄹㅔㄱㅣ', 'ㄴㅏㅇㅘㅆㅇㅓ', 'ㅂㅏㄷㄴㅡㄴ', 'ㅈㅔㅂㅏㄹ', 'ㅇㅏㄷㅡㄹ', 'ㅇㅕㅈㅏㄱㅏ', 'ㅇㅣㄱㅓㄴ', 'ㅁㅣㄷㄱㅗ', 'ㅇㅓㅄㄷㅏㄱㅗ', 'ㅇㅕㅈㅏㄷㅡㄹ', 'ㅇㅏㄴㅐㅇㅘ', 'ㅈㅜㄴㅡㄴ', 'ㅇㅣㅂㅇㅝㄴ', 'ㅎㅐㅆㅈㅣㅁㅏㄴ', 'ㅁㅓㄹㅣ', 'ㅁㅗㄹㅡㄱㅔ', 'ㅇㅓㅈㅔ', 'ㅅㅐㄲㅣㄱㅏ', 'ㅁㅏㄶㅇㅏㅅㅓ', 'ㅁㅏㅈㄴㅡㄴ', 'ㄱㅡㅁㅏㄴ', 'ㅇㅣㅎㅐ', 'ㄷㅚㄴㄷㅏ', 'ㅎㅏㄴㅡㄴㅈㅣ', 'ㅎㅗㅇㅈㅣㄴㅇㅕㅇ', 'ㄴㅡㄲㅣㅁ', 'ㅎㅏㄹㅜ', 'ㅅㅏㄹㅏㅁㄷㅡㄹㅇㅡㄴ', 'ㅇㅣㄹㅂㅔ', 'ㄱㅏㅈㅗㄱㄷㅡㄹㅇㅣ', 'ㅂㅗㄹㅓ', 'ㅅㅏㄹㅇㅣ', 'ㄱㅕㄹㅎㅗㄴㅇㅡㄹ', 'ㅎㅏㅅㅔㅇㅛ', 'ㄷㅜㄱㅗ', 'ㅊㅐㅇㄱㅕ', 'ㅈㅗㅎㄴㅔㅇㅛ', 'ㄷㅏㄴㅣㄴㅡㄴ', 'ㅁㅐㄴㄴㅏㄹ', 'ㅈㅗㅅㅣㅁㅅㅡㄹㅓㅇㅝ', 'ㅇㅒㄱㅣㄹㅡㄹ', 'ㅁㅏㄴㅇㅝㄴ', 'ㅇㅓㄹㅣㄴ', 'ㄱㅚㄹㅗㅂㅎㅣㄷㅓㄴ', 'ㅇㅣㄹㅉㅣㄱ', 'ㅇㅏㅇㅣㄹㅡㄹ', 'ㅊㅚㄱㅗㅇㅢ', 'ㄱㅘㄴㅅㅣㅁㅇㅣ', 'ㄷㅐㄷㅏㄴㅎㅏㅅㅣㅂㄴㅣㄷㅏ', 'ㅅㅣㅍㅈㅣ', 'ㅈㅏㅅㅣㄱㄷㅡㄹㅇㅣ', 'ㅅㅏㅇㅅㅏㄱㅏ', 'ㅇㅕㅈㅏㄴㅡㄴ', 'ㅁㅏㅇㅡㅁㅇㅡㄹ', 'ㄸㅏㄷㅗㄹㄹㅣㅁ', 'ㅂㅗㅈㅣ', 'ㄷㅏㅇㅎㅏㄱㅗ', 'ㄴㅡㄲㅕㅈㅕ', 'ㄴㅡㄲㅣㅁㅇㅣ', 'ㅎㅐㄱㅕㄹ', 'ㅇㅏㅍㅇㅔㅅㅓ', 'ㅇㅏㄴㅣㅁㅕㄴ', 'ㄱㅓㅅㅇㅡㄴ', 'ㅎㅐㅆㄷㅏ', 'ㅅㅣㅎㅓㅁㅇㅡㄹ', 'ㅂㅏㄷㅇㅡㄹ', 'ㅅㅡㄹㅓㅂㄴㅔ', 'ㅂㅘㅆㅅㅡㅂㄴㅣㄷㅏ', 'ㅇㅣㅁㅅㅣㄴ', 'ㅇㅣㅆㄱㅔ', 'ㄷㅚㄴㅔ', 'ㄱㅣㅁㅊㅣ', 'ㅂㅐㅅㅣㄴ', 'ㅈㅓㅇㄷㅗㄹㅗ', 'ㄴㅗㄹㄹㅓ', 'ㅁㅐㅇㅜ', 'ㅁㅏㅇㅡㅁ', 'ㅁㅗㅅㅡㅂ', 'ㅇㅣㅇㅓㅆㄴㅡㄴㄷㅔ', 'ㅇㅕㅎㅐㅇㅇㅡㄹ', 'ㅆㅡㄱㅗ', 'ㄷㅡㄹㅣㅂㄴㅣㄷㅏ', 'ㅅㅏㅇㅊㅓㄹㅡㄹ', 'ㄴㅣㄱㅏ', 'ㄴㅗㄹㄹㅏㅆㅇㅓ', 'ㄷㅡㄹㅇㅡㅁㅕㄴ', 'ㅎㅐㅆㅇㅡㅁㅕㄴ', 'ㅁㅣㅊㅣㄴ', 'ㅎㅐㅇㅑㅈㅣ', 'ㅎㅐㅈㅜㄴㅡㄴ', 'ㄸㅐㄴㅡㄴ', 'ㅈㅣㄴㅅㅣㅁ', 'ㄴㅜㄹㅡㄱㅗ', 'ㄷㅏㅂㄷㅏㅂㅎㅐ', 'ㅁㅓㅅㅈㅣㄴ', 'ㄴㅗㄹㅐㄴㅡㄴ', 'ㅇㅣㅆㄴㅔ', 'ㅇㅣㅆㅇㅡㅁ', 'ㅆㅡㄴㅡㄴ', 'ㅇㅣㅇㅑㄱㅣㄹㅡㄹ', 'ㅂㅏㄷㅇㅡㄴ', 'ㄸㅐㄱㅏ', 'ㅈㅜㄱㅇㅡㄹ', 'ㅇㅛㄱㅇㅡㄹ', 'ㅇㅣㅁㅕㄴ', 'ㄷㅡㄹㄱㅗ', 'ㅂㅗㅅㅗ', 'ㅈㅣㅂㅇㅡㄹ', 'ㄱㅘㄴㅅㅣㅁ', 'ㅍㅗㄱㅣ', 'ㅊㅣㄴㄱㅜㅎㅏㄴㅌㅔ', 'ㄱㅣㄱㅏ', 'ㅇㅓㄴㅡ', 'ㅁㅗㅅㅡㅂㅇㅣ', 'ㅁㅝㄱㅏ', 'ㄱㅙㄴㅎㅣ', 'ㅈㅓㄴㅎㅕ', 'ㄱㅓㄴㄱㅏㅇㄱㅓㅁㅈㅣㄴ', 'ㄷㅡㄷㅣㅇㅓ', 'ㅅㅜㄴㄱㅏㄴ', 'ㅌㅡㄱㅎㅣ', 'ㅇㅣㄹㄷㅗ', 'ㅈㅗㅎㄱㅔㅆㄷㅏ', 'ㅂㅗㄷㅏ', 'ㅎㅏㄴㅑ', 'ㄱㅏㅈㅣ', 'ㅈㅏㅊㅔㄱㅏ', 'ㅍㅛㅎㅕㄴ', 'ㅅㅗㄱㅐ', 'ㅈㅏㅅㅏㄹ', 'ㅅㅣㅍㅇㅓㅅㅓ', 'ㄷㅐㅎㅏㄱ', 'ㄱㅓㄹㄹㅕㅅㅓ', 'ㅈㅣㄴㄷㅏㄴㅇㅡㄹ', 'ㅇㅐㄷㅡㄹㅇㅡㄴ', 'ㄷㅡㄹㅇㅡㄴ', 'ㅁㅗㄱㅅㅗㄹㅣㄱㅏ', 'ㅅㅜㅅㅜㄹㅇㅡㄹ', 'ㅅㅓㄹㅗ', 'ㄴㅏㅁㅈㅏㄱㅏ', 'ㄱㅗㅁㅣㄴ', 'ㅇㅏㅃㅏ', 'ㅇㅑㄱㅇㅡㄹ', 'ㄴㅕㄴㅇㅣ', 'ㄱㅡㄹㅐ', 'ㄱㅏㅁㅅㅏㅎㅐ', 'ㄱㅡㄹㅓㄴㄷㅔ', 'ㅁㅗㄷㅜㄱㅏ', 'ㅇㅗㄴㅡㄴ', 'ㅅㅗㅅㅣㄱㅇㅡㄹ', 'ㅊㅏㅂㅕㄹ', 'ㅇㅣㅅㅏㅇㅎㅏㄴ', 'ㅎㅜㅎㅚㄱㅏ', 'ㅈㅜㅅㅕㅅㅓ', 'ㅈㅜㄱㄱㅗ', 'ㅎㅣㅁㄷㅡㄴ', 'ㅈㅜㄱㅗ', 'ㅅㅣㅋㅕ', 'ㅇㅣㅇㅠㄱㅏ', 'ㅅㅔㅅㅏㅇ', 'ㅂㅣㄱㅛ', 'ㅇㅏㅃㅏㄴㅡㄴ', 'ㄱㅚㄹㅗㅂㅎㅣㄴㅡㄴ', 'ㄱㅏㅁㅅㅏㅎㅐㅇㅛ', 'ㅈㅏㄹㅏㅇ', 'ㅇㅣㅇㅠㄹㅗ', 'ㅎㅝㄹㅆㅣㄴ', 'ㅅㅗㄹㅈㅣㄱㅎㅣ', 'ㄷㅗㅇㄹㅛㄱㅏ', 'ㅎㅏㄹㅓ', 'ㅇㅏㄴㅣㅇㅑ', 'ㅇㅏㅇㅣㄷㅡㄹㅇㅣ', 'ㅇㅏㄴㅡㄴ', 'ㄷㅗㅇㅅㅐㅇㅇㅣ', 'ㅁㅏㄶㅇㅡㄴㄷㅔ', 'ㅅㅐㄲㅣㄷㅡㄹㅇㅡㄴ', 'ㅅㅣㄹㅁㅏㅇ', 'ㄱㅏㅈㅗㄱ', 'ㄱㅏㅌㅈㅣ', 'ㄷㅓㄹㅏㄱㅗ', 'ㅇㅣㅃㅡㄱㅗ', 'ㅇㅓㅁㅁㅏㄴㅡㄴ', 'ㄷㅐㄷㅏㄴㅎㅏㄴ', 'ㅈㅓㅇㄷㅗ', 'ㅎㅣㅁㄷㅡㄹㄱㅔ', 'ㄸㅐㅂㅜㅌㅓ', 'ㄷㅓㅇㅜㄱ', 'ㅅㅜㄹㅇㅡㄹ', 'ㅂㅕㅇㅇㅣ', 'ㅂㅏㄴㅂㅗㄱ', 'ㅈㅏㄱㅗ', 'ㄱㅏㅌㄴㅔ', 'ㅎㅐㅈㅝㅅㅓ', 'ㅈㅜㄴㅂㅣㄹㅡㄹ', 'ㅁㅜㅈㅗㄱㅓㄴ', 'ㅂㅓㄹㅣㄱㅗ', 'ㅈㅏㅇㅂㅓㅁㅈㅜㄴ', 'ㅅㅔㅅㅏㅇㅇㅔ', 'ㄱㅣㄷㅗ', 'ㄴㅏㅁㅍㅕㄴ', 'ㄷㅚㄴㄷㅏㄱㅗ', 'ㅁㅏㄹㅇㅣㅇㅑ', 'ㅊㅣㄴㄱㅜㄷㅡㄹㅇㅡㄴ', 'ㄷㅐㅊㅔ', 'ㅁㅣㅇㅏㄴㅎㅐ', 'ㄱㅓㅇㅢ', 'ㅂㅏㄹㅏㅂㄴㅣㄷㅏ', 'ㅇㅏㄴㅣ', 'ㅅㅐㅇㄱㅏㄱㅂㅗㄷㅏ', 'ㄱㅗㅂㅐㄱ', 'ㅇㅣㅈㅔㄴㅡㄴ', 'ㄱㅘㄴㄹㅣ', 'ㄴㅏㅇㅗㅈㅣ', 'ㄱㅏㄲㅡㅁ', 'ㅇㅟㄹㅗ', 'ㅎㅐㅇㅂㅗㄱㅎㅏㄱㅔ', 'ㅇㅣㅆㅇㅓㅇㅛ', 'ㅅㅏㄹㅏㅁㄷㅗ', 'ㅅㅓㄴㅅㅐㅇㄴㅣㅁㄲㅔ', 'ㅈㅓㄴㅎㅘㄹㅡㄹ', 'ㅇㅣㅆㅇㅡㄹㄲㅏ', 'ㅁㅗㄹㄹㅏ', 'ㅎㅏㄷㅓㄹㅏ', 'ㄷㅡㄹㅇㅓㅆㄴㅡㄴㄷㅔ', 'ㅇㅗㅎㅣㄹㅕ', 'ㄷㅏㅁㅂㅐㄹㅡㄹ', 'ㄴㅏㄱㅗ', 'ㄷㅐㄷㅏㄴㅎㅏㅅㅔㅇㅛ', 'ㅇㅣㅁㅣ', 'ㄷㅐㅎㅐㅅㅓ', 'ㅇㅏㅁㅇㅔ', 'ㄱㅏㅇㅑ', 'ㄱㅡㄹㅓㄴㅈㅣ', 'ㅇㅏㄴㅣㄷㅏ', 'ㅊㅣㄹㅛㄹㅡㄹ', 'ㅎㅏㅈㅏ', 'ㄴㅏㄴㅔ', 'ㅂㅜㅌㅓ', 'ㄴㅏㅃㅏ', 'ㄱㅓㅅㅁㅏㄴ', 'ㅇㅣㅆㄷㅓㄴ', 'ㅎㅏㅅㅣㄱㅗ', 'ㄷㅐㅎㅏㄱㅇㅔ', 'ㅂㅣㄱㅏ', 'ㅈㅗㅎㄴㅔ', 'ㅈㅜㅇㅇㅣㄴㄷㅔ', 'ㅎㅏㅅㅕㅆㅇㅓ', 'ㅇㅏㄴㅐㅇㅔㄱㅔ', 'ㅎㅏㄱㅣㄹㅗ', 'ㅈㅗㄱㅡㅁ', 'ㅇㅢㅅㅏ', 'ㅈㅣㅇㅝㄴ', 'ㅎㅏㅈㅣㅁㅏㄹㄱㅗ', 'ㄲㅜㅈㅜㄴㅎㅣ', 'ㅇㅕㄹㅓ', 'ㅎㅐㅈㅜㅅㅔㅇㅛ', 'ㅇㅣㄹㅂㅜㄹㅓ', 'ㅊㅣㄴㄱㅜㄹㅏㅇ', 'ㅅㅜㅅㅜㄹ', 'ㅈㅏㄱㅣㄱㅏ', 'ㅊㅣㄴㄱㅜㄷㅡㄹㅇㅡㄹ', 'ㄷㅙㅆㄴㅡㄴㄷㅔ', 'ㅊㅣㄴㄱㅜㅇㅢ', 'ㅇㅏㄴㅐㄴㅡㄴ', 'ㄷㅐㄱㅏㄹㅣ', 'ㄴㅏㅁㅇㅡㄴ', 'ㅂㅗㄱㅔ', 'ㄴㅏㄱㅏㅅㅓ', 'ㄴㅏㅈㅜㅇㅇㅔ', 'ㄷㅏㅇㅎㅐㅅㅓ', 'ㅇㅓㅊㅏㅍㅣ', 'ㅎㅜㅇㅔ', 'ㅁㅓㅅㅈㅕㅇㅛ', 'ㅎㅐㅇㅂㅗㄱㅎㅏㄴ', 'ㅂㅘㅆㅇㅓ', 'ㅅㅡㄹㅓㅂㅅㅡㅂㄴㅣㄷㅏ', 'ㅎㅏㅅㅣㄴ', 'ㅇㅣㅅㅜㅇㅕㅇ', 'ㄱㅡㄷㅗㅇㅇㅏㄴ', 'ㅁㅓㅅㅈㅣㅅㅣㅂㄴㅣㄷㅏ', 'ㅎㅐㅆㅇㅓㅇㅛ', 'ㅇㅣㅆㅇㅡㄴㅣ', 'ㅇㅖㅃㅡㄴ', 'ㄴㅏㄴㅣ', 'ㄴㅡㄲㅕ', 'ㅊㅣㄴㄱㅜㄷㅡㄹ', 'ㅈㅓㄻㅇㅡㄴ', 'ㄸㅏㄹㅗ', 'ㄴㅏㅇㅗㄴㅡㄴ', 'ㅇㅣㅆㄴㅑ', 'ㅅㅐㅇㅎㅘㄹㅇㅡㄹ', 'ㅁㅏㅈㅈㅣ', 'ㄷㅚㄱㅔ', 'ㅂㅜㅁㅗㄴㅣㅁㄲㅔ', 'ㅇㅣㄹㅣ', 'ㄷㅏㄱㅏ', 'ㅅㅏㄹㅇㅏ', 'ㄴㅏㄴㄷㅏ', 'ㅁㅣㄹㅣ', 'ㅇㅣㅆㅇㅡㄹㅈㅣ', 'ㅇㅣㄹㅇㅔ', 'ㄱㅓㅁㅅㅏㄹㅡㄹ', 'ㅂㅏㄹㅏㅁ', 'ㅅㅓㄴㅁㅜㄹ', 'ㅈㅔㄱㅏ', 'ㄷㅜㄹㄷㅏ', 'ㅁㅏㄹㅆㅡㅁ', 'ㄸㅐㄲㅏㅈㅣ', 'ㅇㅏㄶㅇㅡㄹ', 'ㅅㅟㅂㅈㅣ', 'ㅁㅓㄱㅇㅡㄹ', 'ㅅㅏㄹㄹㅕㅈㅜㅅㅕㅅㅓ', 'ㄱㅓㄹㄹㅗ', 'ㅅㅏㅅㅣㄹ', 'ㅂㅘㅅㅓ', 'ㅈㅐㄱㅣ', 'ㅇㅝㄴㅎㅏㄴㅡㄴ', 'ㄱㅡㄹㅓㄹ', 'ㅈㅣㄱㅏ', 'ㄱㅡㄹㅣ', 'ㅅㅐㄹㅗㅇㅜㄴ', 'ㅂㅕㅇㅇㅝㄴㅇㅔㅅㅓ', 'ㅈㅗㅇㅇㅣㄹ', 'ㄷㅡㄹㅇㅓㄷㅗ', 'ㅇㅕㄴㄱㅣ', 'ㅅㅏㅇㅌㅐㄱㅏ', 'ㅈㅓㄴㄹㅏㄷㅗ', 'ㄷㅚㄴㅣ', 'ㅁㅏㄹㄹㅏㄱㅗ', 'ㅈㅗㅎㄱㅔ', 'ㅂㅜㄹㅓㅇㅝ', 'ㅈㅓㄱㅇㅣ', 'ㄴㅕㄴㄷㅡㄹ', 'ㅁㅕㄴㅅㅓ', 'ㄱㅜㄴㄷㅐ', 'ㅇㅏㄴㅣㄹㄲㅏ', 'ㅁㅏㄴㄴㅏㅅㅓ', 'ㅅㅜㅊㅣㄱㅏ', 'ㅂㅓㄹㅕㅅㅓ', 'ㅁㅗㄹㅡㄴ', 'ㅇㅝㄴㄹㅐ', 'ㄴㅐㅇㅣㄹ', 'ㅍㅡㄹㅗ', 'ㄷㅚㄴㅡㄴㄷㅔ', 'ㄷㅏㅇㅎㅐㅆㅇㅓ', 'ㅂㅣㄹㄹㅕ', 'ㅅㅣㄴㄱㅗ', 'ㅇㅕㅆㄴㅡㄴㄷㅔ', 'ㄴㅗㅁㄷㅡㄹ', 'ㄸㅐㄷㅗ', 'ㄴㅡㅈㄱㅔ', 'ㅅㅣㄱㅏㄴㅇㅡㄹ', 'ㅁㅓㄱㅇㅡㄴ', 'ㅎㅘㄹㄷㅗㅇ', 'ㅈㅐㅇㅏㅇ', 'ㅁㅜㄹㄱㅓㄴㅇㅡㄹ', 'ㅃㅐㄱㅗ', 'ㄱㅓㅂㄴㅣㄷㅏ', 'ㄱㅟㅊㅏㄶㅇㅏ', 'ㅎㅏㄹㅏㄱㅗ', 'ㄴㅗㅁㅇㅣ', 'ㅊㅓㄴㅅㅏ', 'ㅂㅕㅇㅅㅣㄴㅇㅏ', 'ㅎㅛㄱㅘㄱㅏ', 'ㅊㅓㅇㅡㅁㅇㅡㄹㅗ', 'ㅇㅕㄴㅇㅐ', 'ㅎㅏㅅㅕ', 'ㅅㅏㄹㅏㅇㅇㅡㄹ', 'ㅇㅕㄴㄹㅏㄱㅇㅡㄹ', 'ㄱㅓㄴㄱㅏㅇㄱㅓㅁㅈㅣㄴㅇㅡㄹ', 'ㅇㅚㄹㅗㅂㄱㅗ', 'ㅅㅐㅇㄱㅕㅅㅓ', 'ㅇㅜㄹㅣㄴㅏㄹㅏ', 'ㅁㅐㅂㅓㄴ', 'ㅇㅢㅅㅏㄱㅏ', 'ㄱㅏㅆㄷㅓㄴㅣ', 'ㄱㅗㅇㅑㅇㅇㅣ', 'ㅇㅓㄹㅕㅇㅜㄴ', 'ㅇㅕㄱㅣㅈㅓㄱㅣ', 'ㅊㅓㅂㅓㄹ', 'ㅎㅏㅈㅏㄱㅗ', 'ㅁㅓㄹㅣㄱㅏ', 'ㅇㅏㄶㄱㅔ', 'ㄱㅏㅌㅅㅡㅂㄴㅣㄷㅏ', 'ㅊㅜㅊㅓㄴ', 'ㄷㅚㅅㅓ', 'ㅇㅏㄴㅣㄴㄱㅏ', 'ㅇㅓㅄㅇㅡㄹ', 'ㅅㅓㅇㅈㅓㄱ', 'ㄱㅘㄴㄹㅕㄴ', 'ㄴㅏㅇㅗㄴ', 'ㅎㅏㄷㅏㄴㅣ', 'ㄱㅡㄹㅓㅎㄱㅗ', 'ㅍㅗㄱㄹㅕㄱ', 'ㄸㅓㄹㅇㅓㅈㅕㅅㅓ', 'ㅈㅏㅅㅣㄴㅇㅢ', 'ㅇㅣㅇㅛㅇ', 'ㅇㅏㅂㅓㄴㅣㅁ', 'ㄷㅗㄷㅐㅊㅔ', 'ㅂㅏㄷㄱㅔ', 'ㅈㅏㅁㅇㅣ', 'ㅂㅗㅇㅕㅅㅓ', 'ㅃㅏㄹㄱㅐㅇㅇㅣ', 'ㅅㅜㄷㅗ', 'ㄷㅚㄴㅔㅇㅛ', 'ㅎㅐㅆㄷㅏㄴㅡㄴ', 'ㄷㅐㅂㅏㄱ', 'ㅈㅣㄴㅅㅣㅁㅇㅡㄹㅗ', 'ㅈㅏㄱㅇㅡㄴ', 'ㅎㅣㅁㄷㅡㄹㄱㅗ', 'ㄱㅏㅁㅅㅏㅎㅏㄱㅗ', 'ㅇㅓㅉㅓㄹ', 'ㄱㅏㅅㅜ', 'ㄷㅏㅇㅡㅁ', 'ㄹㅏㅁㅕㄴ', 'ㄱㅗㅇㅑㅇㅇㅣㄹㅡㄹ', 'ㅇㅏㅍㅡㄴㄷㅔ', 'ㅇㅣㄹㄲㅏ', 'ㅅㅣㅁㅎㅏㄱㅔ', 'ㄱㅏㅈㅣㄴ', 'ㅇㅣㅂㄱㅗ', 'ㅇㅕㄱㅣ', 'ㄱㅏㄱㅔ', 'ㄱㅏㅁㅏㄴㅎㅣ', 'ㅈㅣㅂㅇㅣ', 'ㅊㅏㄱㅎㅏㄴ', 'ㅈㅝㅆㅇㅓ', 'ㅈㅓㅇㅅㅣㄴㅂㅕㅇㅈㅏ', 'ㅅㅏㅇㅣㄱㅏ', 'ㄱㅓㅁㅈㅣㄴ', 'ㅇㅓㅉㅣ', 'ㅈㅣㄱㅡㅁㅇㅡㄴ', 'ㄷㅐㅅㅣㄴ', 'ㅎㅏㄱㅔㅆㅅㅡㅂㄴㅣㄷㅏ', 'ㄴㅏㅃㅡㄴ', 'ㅊㅣㄴㄱㅜㄷㅡㄹㅇㅔㄱㅔ', 'ㅇㅣㅎㅐㄱㅏ', 'ㅊㅟㅇㅓㅂㅇㅡㄹ', 'ㅇㅜㅅㄱㅣㅁ', 'ㅉㅏㄱㅅㅏㄹㅏㅇ', 'ㄴㅗㅈㅐㅁ', 'ㄷㅐㄷㅏㄴㅎㅏㄷㅏ', 'ㅅㅓㅇㄱㅏㅅㅕ', 'ㅅㅏㅈㅣㄴ', 'ㅅㅗㅈㅜㅇㅎㅏㄴ', 'ㅇㅏㅍㅡㄱㅗ', 'ㅊㅣㅇㅊㅏㄴ', 'ㅎㅏㄱㅔㅆㅇㅓ', 'ㅇㅕㅎㅐㅇ', 'ㅇㅓㅄㅇㅓㅆㅇㅓ', 'ㅂㅏㄷㅈㅣ', 'ㅈㅜㅈㅣ', 'ㄱㅏㅁㅈㅓㅇㅇㅣ', 'ㅅㅣㄷㅐㅇㅔ', 'ㅅㅐㄲㅣㅇㅑ', 'ㅇㅓㄴㄴㅣㄱㅏ', 'ㄷㅡㄴㅡㄴ', 'ㅇㅓㅁㅁㅏㅎㅏㄴㅌㅔ', 'ㅇㅏㄶㅇㅡㄴㄷㅔ', 'ㅅㅣㅍㄷㅏㄱㅗ', 'ㄱㅓㅁㅈㅣㄴㅇㅡㄹ', 'ㅂㅗㅇㅣㄴㅡㄴ', 'ㅇㅏㅇㅣ', 'ㅇㅟㅎㅏㄴ', 'ㅊㅏㄹㅏㄹㅣ', 'ㅅㅣㄴㅂㅜㄴ', 'ㅂㅏㄴㅇㅔㅅㅓ', 'ㅅㅏㄹㄹㅕ', 'ㅎㅐㅆㄴㅔ', 'ㄷㅐㅎㅘ', 'ㄱㅡㄷㅐㄹㅗ', 'ㅇㅓㅄㅈㅣ', 'ㄴㅐㄱㅗ', 'ㅌㅡㄹㅗㅌㅡ', 'ㅇㅣㄹㅁㅏㄴ', 'ㄴㅡㄴㄷㅔ', 'ㅂㅘㅇㅑ', 'ㄱㅣㅂㅜㄹㅡㄹ', 'ㅇㅣㅃㅡㄴ', 'ㅇㅏㄶㄴㅔ', 'ㄱㅛㅇㅠㄱ', 'ㅇㅣㅇㅠ', 'ㄱㅘㄴㄱㅖㄱㅏ', 'ㅅㅡㄹㅓㅂㄱㅗ', 'ㅅㅏㄹㅏㅁㄷㅡㄹㄱㅘ', 'ㅁㅠㅂㅣ', 'ㅅㅟㅂㄱㅔ', 'ㅁㅏㄹㅏ', 'ㄱㅏㅇㅛ', 'ㄱㅓㅅㄷㅡㄹㅇㅣ', 'ㅁㅏㄴㄴㅏㄴㅡㄴ', 'ㅇㅏㄴㄷㅚㄴㅡㄴ', 'ㅎㅐㅆㄷㅐ', 'ㄱㅏㅈㅏㄱㅗ', 'ㅅㅏㄱㅗ', 'ㅇㅛㄱㅜ', 'ㅍㅔㅁㅣ', 'ㅆㅡㅇㅕ', 'ㄱㅏㅅㅡㅁㅇㅣ', 'ㄱㅏㅅㅏ', 'ㅊㅣㄴㄱㅜㄷㅡㄹㅇㅣㄹㅏㅇ', 'ㅇㅖㅈㅓㄴ', 'ㅇㅙㄹㅋㅔ', 'ㅂㅜㅁㅗㄴㅣㅁ', 'ㅈㅣㄱㅡㅁㄷㅗ', 'ㄴㅏㅁㅍㅕㄴㅇㅡㄴ', 'ㅈㅗㅎㅇㅏㅆㅇㅓ', 'ㄱㅗㅁㅏㅇㅝㅇㅛ', 'ㅇㅓㅄㅇㅡㅁㅕㄴ', 'ㄴㅣㄷㅡㄹ', 'ㅈㅣㄴㅉㅏ', 'ㄷㅚㄹㄲㅏ', 'ㅇㅓㅄㅇㅡㄴㅣ', 'ㄴㅜㄴㅏ', 'ㄱㅏㅈㅗㄱㅇㅡㄴ', 'ㅈㅜㅇㅇㅛㅎㅏㄴ', 'ㄴㅓㅁㅜㄴㅏ', 'ㅅㅣㄹㅁㅏㅇㅎㅐㅆㅇㅓ', 'ㅁㅏㅅㅣㄱㅗ', 'ㅍㅣㅎㅐ', 'ㄷㅗㄴㄷㅗ', 'ㄱㅓㄹㄹㅣㄴ', 'ㄸㅗㄱㄱㅏㅌㅇㅣ', 'ㄷㅜㄹㅇㅣ', 'ㅇㅏㄹㅇㅏㅆㅇㅓ', 'ㅅㅏㅎㅚ', 'ㅂㅜㄴㅁㅕㅇ', 'ㅎㅐㅆㅇㅓㅆㄴㅡㄴㄷㅔ', 'ㄴㅡㅇㄹㅕㄱ', 'ㅇㅏㄴㅐ', 'ㅇㅕㄴㅇㅖㅇㅣㄴ', 'ㅅㅏㅇㅎㅘㅇㅇㅣ', 'ㄱㅏㅈㅗㄱㄷㅡㄹㅇㅔㄱㅔ', 'ㅁㅗㄱㅅㅗㄹㅣㄷㅗ', 'ㅅㅣㅀㅇㅓㅅㅓ', 'ㅈㅣㅅㅇㅡㄹ', 'ㅇㅡㅁㅇㅏㄱ', 'ㅎㅕㅇㅇㅣ', 'ㅈㅜㅂㅕㄴ', 'ㅁㅏㄹㅎㅏㄱㅗ', 'ㄸㅗㄱㄱㅏㅌㅇㅡㄴ', 'ㄴㅏㅇㅗㅁㅕㄴ', 'ㅇㅏㄹㅇㅏㅅㅓ', 'ㅎㅗㄱㅅㅣ', 'ㅅㅐㅇㅎㅘㄹ', 'ㄱㅓㅅㄷㅡㄹ', 'ㄴㅐㅁㅅㅐ', 'ㄱㅗㄹㅣㅂ', 'ㅇㅛㅇㄷㅗㄴㅇㅡㄹ', 'ㄷㅡㄷㄱㅣ', 'ㄱㅏㅅㅡㅁ', 'ㄴㅜㄴㅊㅣ', 'ㅁㅗㅁㅇㅔ', 'ㅅㅐㅇㄱㅕㅆㅇㅓ', 'ㅎㅘㄱㅏㄴㅏ', 'ㄷㅚㅇㅓㅆㄴㅡㄴㄷㅔ', 'ㅎㅏㄱㅣㄱㅏ', 'ㅅㅣㄹㅅㅜㄹㅡㄹ', 'ㅂㅜㅌㅏㄱ', 'ㅎㅘㄱㅅㅣㄹㅎㅣ', 'ㅌㅏㄱㅗ', 'ㄱㅓㅂㄴㅏ', 'ㅇㅕㄴㄹㅏㄱ', 'ㅇㅓㅄㄴㅑ', 'ㅎㅐㅈㅝㅆㅇㅓ', 'ㅅㅓㄴㄷㅗㅇ', 'ㅅㅗㄱㅅㅏㅇㅎㅏㄱㅗ', 'ㅋㅗㄹㅗㄴㅏ', 'ㅇㅣㅆㄴㅏ', 'ㄹㅓㄴㄱㅏ', 'ㄷㅐㅎㅘㄹㅡㄹ', 'ㅂㅏㅂㅇㅡㄹ', 'ㄱㅜㄷㅗㄱㅎㅏㄱㅗ', 'ㅈㅣㄱㅡㅁㄲㅏㅈㅣ', 'ㅁㅏㄹㅇㅏㅆㅇㅓ', 'ㄷㅟㅇㅔ', 'ㅊㅗㅈㅗㅎㅐ', 'ㅎㅐㅂㅗㄴ', 'ㅁㅏㄴㄷㅡㄹㄱㅗ', 'ㅈㅗㅎㅇㅏㅎㅏㄴㅡㄴㄷㅔ', 'ㅈㅣㄹㅌㅜㄱㅏ', 'ㅅㅐㄹㅗ', 'ㅂㅏㄹㅏㅁㅇㅔ', 'ㅁㅏㄶㄴㅔ', 'ㅇㅘㄴㅊㅣ', 'ㅅㅐㅇㄱㅏㄱㄷㅗ', 'ㄱㅗㅁㅏㅇㅝ', 'ㄴㅏㅁㅈㅏㄷㅡㄹ', 'ㅍㅕㄴㅈㅣㅂ', 'ㅇㅣㅃㅓ', 'ㅅㅣㅈㅓㄹ', 'ㄱㅏㄹㅅㅜㄹㅗㄱ', 'ㄴㅐㅅㅓ', 'ㅇㅣㅆㅇㅓㄷㅗ', 'ㅈㅣㄴㅈㅓㅇㅎㅏㄴ', 'ㄷㅐㄹㅗ', 'ㅁㅏㅂㅣ', 'ㅁㅓㄱㅇㅓ', 'ㅇㅗㄴㅡㄹㄷㅗ', 'ㅇㅡㅁㅅㅣㄱ', 'ㅇㅏㄴㅣㄹㅏㄱㅗ', 'ㅈㅜㄱㅇㅡㅁㅇㅡㄹ', 'ㅇㅛㅈㅡㅁㅇㅡㄴ', 'ㄱㅓㄹㅣㄴㅡㄴ', 'ㅅㅗㄱㅇㅣ', 'ㄱㅏㅅㅏㄱㅏ', 'ㅈㅣㄴㅎㅐㅇ', 'ㅈㅝㅅㅓ', 'ㄷㅐㅎㅏㄱㅇㅡㄹ', 'ㅇㅣㅎㅗㄴㅇㅡㄹ', 'ㅁㅓㄱㅇㅓㅅㅓ', 'ㅂㅜㅂㅜㄴ', 'ㄷㅚㄴㄷㅏㄴㅡㄴ', 'ㄷㅐㅎㅏㄴㅁㅣㄴㄱㅜㄱ', 'ㅁㅏㅈㄱㅗ', 'ㄷㅏㅇㅎㅏㄴ', 'ㅊㅣㄴㅡㄴ', 'ㅎㅐㅈㅜㅈㅣ', 'ㄱㅏㄹㅏ', 'ㅅㅣㅀㅇㅓㅎㅏㄴㅡㄴ', 'ㅇㅏㄴㅣㄴㅗ', 'ㅅㅗㄹㅣㄹㅡㄹ', 'ㅇㅣㄴㄱㅣ', 'ㅁㅜㄴㅈㅐㅇㅣㄴ', 'ㄱㅣㅇㅓㄱ', 'ㅈㅓㄱㅔ', 'ㄷㅗㅇㅜㅁㅇㅡㄹ', 'ㅇㅜㄹㅣㄴㅡㄴ', 'ㅌㅚㅇㅝㄴ', 'ㄱㅡㅈㅓ', 'ㅂㅕㅇㅇㅔ', 'ㅅㅣㅀㄷㅏ', 'ㄱㅟㅇㅕㅇㅝ', 'ㅎㅏㄷㅓㄴㅣ', 'ㄷㅡㄷㄱㅔ', 'ㅈㅣㅂㄷㅏㄴ', 'ㄴㅏㅁㄷㅡㄹ', 'ㅋㅗㅋㅗ', 'ㅁㅣㅇㅝ', 'ㄴㅏㅁㅈㅏㄹㅡㄹ', 'ㅂㅏㄷㅇㅡㅅㅣㄹ', 'ㅇㅏㄱㅣ', 'ㅍㅣㄹㅇㅛㅎㅏㄴ', 'ㄴㅏㅇㅗㄹ', 'ㄴㅜㄴㅇㅣ', 'ㅂㅜㄹㅍㅕㄴㅎㅐ', 'ㄱㅏㅁㅈㅓㅇ', 'ㅎㅣㅁㄷㅡㄴㄷㅔ', 'ㄱㅗㅅㅇㅔ', 'ㅇㅏㄴㅑ', 'ㄴㅗㅍㅇㅡㄴ', 'ㅁㅏㄴㄴㅏㄹ', 'ㅇㅣㅆㅇㅡㄴㅣㄲㅏ', 'ㅇㅕㅍㅇㅔㅅㅓ', 'ㄱㅣㅃㅓㅆㅇㅓ', 'ㅈㅏㅈㅣ', 'ㅅㅣㅍㄴㅔㅇㅛ', 'ㄸㅏㄸㅡㅅㅎㅏㄴ', 'ㅎㅏㄴㅡㄹㅏ', 'ㅁㅜㄹㄹㅗㄴ', 'ㅂㅗㄴㅔ', 'ㄱㅏㅌㄷㅏㄱㅗ', 'ㅈㅗㅈㄴㅏ', 'ㅂㅏㄹㄱㅕㄴ', 'ㅈㅏㅅㅣㄱㅇㅣ', 'ㅁㅏㄱㅅㅏㅇ', 'ㄱㅓㄴㄱㅏㅇㅎㅏㄴ', 'ㅇㅏㄹㅡㅁㄷㅏㅇㅜㄴ', 'ㅇㅕㅇㅎㅘ', 'ㅇㅣㅅㅏㅇㅇㅣ', 'ㄱㅕㄹㄱㅘ', 'ㅇㅏㄴㅇㅔ', 'ㅅㅡㄹㅍㅡㄴ', 'ㄱㅗㅇㄱㅏㅁ', 'ㄱㅗㅁㅣㄴㅇㅣㅇㅑ', 'ㅂㅜㅁㅗㄴㅣㅁㅇㅡㄴ', 'ㅇㅣㄹㅓㄹ', 'ㅇㅐㄹㅡㄹ', 'ㅈㅣㄹㅌㅜ', 'ㄱㅓㅇㅣㅁ', 'ㅈㅗㅎㅇㅡㄴㄷㅔ', 'ㅆㅡㅈㅣ', 'ㅍㅗㄱㄹㅕㄱㅇㅡㄹ', 'ㅍㅏㄴㅈㅓㅇㅇㅡㄹ', 'ㅇㅑㅎㅏㅁ', 'ㄴㅣㄷㅏ', 'ㅇㅓㄷㅣㅅㅓ', 'ㅎㅏㄴㅁㅏㄷㅣ', 'ㅊㅟㄱㅡㅂ', 'ㅇㅕㅍㅇㅔ', 'ㅁㅝㄹㅏㄱㅗ', 'ㅇㅑㅎㅏㄴㄷㅏ', 'ㅂㅏㄱㅅㅡ', 'ㅈㅏㅇㄴㅏㄴ', 'ㄴㅐㅆㅇㅓ', 'ㄷㅡㄹㅇㅡㄹ', 'ㅂㅜㄹㅡㄴㅡㄴ', 'ㅇㅓㅇㅣㄱㅏ', 'ㅈㅜㅇㄱㅜㄱ', 'ㄴㅜㄴㅁㅜㄹ', 'ㄱㅗㅇㅑㅇㅇㅣㄱㅏ', 'ㅈㅣㅂㅇㅡㄴ', 'ㅁㅜㄹㅡㅍㅇㅣ', 'ㅅㅓㄴㅁㅜㄹㅇㅡㄹ', 'ㅎㅐㅈㅜㄴ', 'ㅇㅓㅄㅈㅣㅁㅏㄴ', 'ㅇㅏㄴㄷㅗ', 'ㅎㅠㄱㅏ', 'ㄱㅏㄴㅡㄴㄷㅔ', 'ㅁㅏㄴㄷㅡㄹㅇㅓ', 'ㅂㅗㄹㄸㅐㅁㅏㄷㅏ', 'ㄷㅏㅇㅎㅐ', 'ㅎㅏㄴㅡㄴㄱㅓㄴ', 'ㅇㅣㄹㅂㅗㄴ', 'ㅅㅔㅅㅏㅇㅇㅣ', 'ㄱㅏㅈㄱㅗ', 'ㅇㅕㄱㄱㅕㅂㄷㅏ', 'ㅈㅜㄱㅇㅡㄴ', 'ㅈㅏㅅㅣㄱㄷㅡㄹㅇㅡㄴ', 'ㅇㅛㅅㅐ', 'ㅍㅏㅇㅣㅌㅣㅇ', 'ㄴㅏㅁㅕㄴ', 'ㅂㅏㄹㅍㅛ', 'ㅇㅓㄴㅈㅔㄴㅏ', 'ㅇㅣㅆㅅㅡㅂㄴㅣㄷㅏ', 'ㄱㅘㅇㄱㅗ', 'ㅅㅏㄹㅇㅏㅇㅑ', 'ㅈㅜㄱㄴㅡㄴ', 'ㅂㅣㅆㅏㄴ', 'ㄱㅗㅁㅏㅂㅅㅡㅂㄴㅣㄷㅏ', 'ㅇㅣㅅㅡㅇㅇㅠㄴ', 'ㅇㅜㄹㅣㄱㅏ', 'ㅂㅣㅎㅐ', 'ㅇㅡㅁㅅㅣㄱㅇㅡㄹ', 'ㄱㅓㄴㄱㅏㅇㅎㅏㄱㅗ', 'ㅂㅏㄷㅇㅡㅅㅔㅇㅛ', 'ㄱㅏㅇㅇㅛ', 'ㄷㅏㅇㅎㅗㄱㅅㅡㄹㅓㅇㅝ', 'ㅁㅏㄹㅇㅔ', 'ㅅㅏㄻㅇㅡㄹ', 'ㅇㅣㅅㅣㅂ', 'ㅁㅜㄴㅈㅔㄹㅗ', 'ㅇㅣㅇㅓㅆㅇㅓ', 'ㅎㅏㅅㅣㄴㅔㅇㅛ', 'ㄴㅗㅎㄱㅗ', 'ㅎㅏㅈㅣㅁㅏㄹㅏ', 'ㅅㅓㄴㅅㅐㅇㄴㅣㅁ', 'ㅎㅏㄱㄱㅛㄹㅡㄹ', 'ㅇㅐㅇㅣㄴㅇㅣ', 'ㅎㅏㄴㅔㅇㅛ', 'ㅈㅜㅎㅐㅇ', 'ㅂㅜㅂㅜㄴㅇㅣ', 'ㅁㅗㅅㅡㅂㅇㅔ', 'ㄴㅏㅁㅍㅕㄴㄱㅘ', 'ㅊㅜㅇㄱㅕㄱ', 'ㄱㅟㅇㅕㅂㄱㅗ', 'ㅁㅝㄴㅑ', 'ㄷㅏㅇㅇㅕㄴㅎㅣ', 'ㅈㅓㅇㅁㅏㄹㄹㅗ', 'ㅁㅗㅁㄷㅗ', 'ㅌㅏㄹㄹㅏㄱ', 'ㅎㅐㅆㄷㅏㄱㅏ', 'ㅅㅏㅅㅣㄹㅇㅣ', 'ㅇㅏㅁㅜㄹㅓㄴ', 'ㅎㅘㄴㅏ', 'ㅇㅣㄴㅏ', 'ㅌㅣㅇㅝㄴ', 'ㅊㅟㅅㅗ', 'ㅎㅐㅈㅜㄹ', 'ㅇㅣㄴㅎㅐ', 'ㅇㅣㅃㅓㅇㅛ', 'ㄸㅓㄹㅇㅓㅈㅕ', 'ㅇㅐㄷㅡㄹㅇㅡㄹ', 'ㄱㅣㄴㅈㅏㅇ', 'ㅆㅓㅅㅓ', 'ㄱㅓㅈㅓㄹ', 'ㄱㅓㄹㅏ', 'ㄱㅏㅈㅗㄱㄷㅡㄹ', 'ㅇㅗㅅㅇㅡㄹ', 'ㅈㅗㄹㄹㅏ', 'ㅁㅏㄴㄴㅏㄴ', 'ㅈㅗㅎㄱㅔㅆㅅㅡㅂㄴㅣㄷㅏ', 'ㅁㅗㄹㄹㅏㅆㄴㅡㄴㄷㅔ', 'ㅈㅓㄴㅎㅘㄱㅏ', 'ㅈㅐㅁㅣㅆㄱㅔ', 'ㄴㅗㅁㅜ', 'ㅇㅏㅁㅜㄹㅐㄷㅗ', 'ㅈㅗㅎㄱㅔㅆㄴㅔㅇㅛ', 'ㅆㅏㅇㅝㅆㅇㅓ', 'ㅋㅡㄹㄹㅣㄱ', 'ㅁㅗㅁㅇㅡㄹ', 'ㅆㅏㅇㅜㄱㅗ', 'ㅇㅕㅆㅇㅓ', 'ㄷㅟㄹㅗ', 'ㄱㅓㄴㅑ', 'ㅁㅏㅇㅡㅁㅇㅡㄹㅗ', 'ㄴㅏㄹㅇㅣ', 'ㅁㅣㄷㅇㅓ', 'ㅁㅏㄶㅇㅡㅁ', 'ㄱㅏㅌㄷㅏㄴㅡㄴ', 'ㅎㅏㄹㅅㅜ', 'ㄱㅏㅈㅗㄱㄷㅡㄹㅇㅡㄴ', 'ㅇㅓㄹㄱㅜㄹㅇㅡㄹ', 'ㄸㅓㄴㅏㅆㅇㅓ', 'ㄸㅓㄹㅇㅓㅈㅕㅆㅇㅓ', 'ㅇㅓㅎㅠ', 'ㅅㅏㄻㅇㅣ', 'ㄱㅜㅇㅕㄱㅈㅣㄹㅇㅣ', 'ㄴㅏㅁㅈㅏㅇㅘ', 'ㅂㅗㄴㄷㅏ', 'ㄱㅚㅇㅈㅏㅇㅎㅣ', 'ㄱㅣㄴㅡㄴ', 'ㅇㅣㄴㅗㄹㅐ', 'ㄷㅚㄴㅑ', 'ㅈㅏㅅㅣㄴ', 'ㅇㅏㄹㅇㅏ', 'ㅈㅓㄴㅡㄴ', 'ㅇㅓㅂㅁㅜㄹㅡㄹ', 'ㅍㅕㅇㅅㅗ', 'ㅅㅏㄹㅏㅁㄱㅘ', 'ㅈㅘㅍㅏ', 'ㄷㅟㅇㅔㅅㅓ', 'ㅂㅗㅇㅣㅁ', 'ㅅㅐㅇㄱㅕ', 'ㅇㅣㄹㅓㄴㄱㅓ', 'ㅇㅣㄴㄱㅏㄴ', 'ㅅㅔㄱㅖ', 'ㅈㅏㅁㅇㅡㄹ', 'ㅈㅗㅎㅇㅏㅎㅏㄱㅗ', 'ㅈㅝㅆㄴㅡㄴㄷㅔ', 'ㅅㅣㄹㅅㅜ', 'ㅇㅓㅄㄴㅏ', 'ㅅㅏㅅㅔㅇㅛ', 'ㄱㅜㄷㅇㅣ', 'ㅂㅏㅁㅇㅔ', 'ㄱㅡㄱㅓㅅㄷㅗ', 'ㅅㅣㅁㅈㅏㅇㅇㅣ', 'ㅅㅣㄹㅈㅔㄹㅗ', 'ㄱㅡㄹㅓㅈㅣ', 'ㅎㅗㅇㅇㅓ', 'ㅎㅐㄴㅗㅎㄱㅗ', 'ㄱㅏㅂㅓㄹㅕㅆㅇㅓ', 'ㄹㅏㅇㅣ', 'ㅈㅗㅈㅍㅏㄹ', 'ㅈㅓㅇㄷㅗㅁㅕㄴ', 'ㄱㅏㄴㄷㅏ', 'ㅅㅓㄴㅎㅏㄴ', 'ㅅㅏㄱㅗㄹㅡㄹ', 'ㅇㅣㅎㅜㄹㅗ', 'ㅇㅐㄹㅂㅓㅁ', 'ㅎㅐㅆㅇㅡㄹ', 'ㅇㅏㄹㄹㅕ', 'ㅅㅏㄹㅏㅁㄷㅡㄹㅇㅔㄱㅔ', 'ㅁㅓㄱㄴㅡㄴㄷㅔ', 'ㅎㅐㅇㄷㅗㅇㅇㅡㄹ', 'ㅅㅐㅇㄱㅣㅁㅕㄴ', 'ㅊㅗㅇㅈㅏㅇㄴㅣㅁ', 'ㄷㅚㄴㄱㅓ', 'ㅂㅣㄹㅡㄹ', 'ㅅㅏㄹㅏㅇㅇㅣ', 'ㅂㅜㄴㅇㅣㄴㅔㅇㅛ', 'ㅈㅗㅎㄱㅔㅆㅇㅓㅇㅛ', 'ㅈㅣㅂㅇㅔㅁㅏㄴ', 'ㄷㅐㄷㅏㄴㅎㅏㅅㅣㄴ', 'ㄱㅡㄹㅓㅎㅈㅣ', 'ㅃㅏㅈㅕㅅㅓ', 'ㅎㅚㅇㅢ', 'ㅊㅜㄹㄱㅡㄴ', 'ㅁㅏㄴㅋㅡㅁ', 'ㅁㅓㄱㅇㅡㅁㅕㄴ', 'ㅇㅣㄹㄷㅏㄴ', 'ㄹㅏㅁㅕ', 'ㄴㅓㅁㄱㅔ', 'ㅇㅓㄹㅕㅇㅝ', 'ㅈㅗㅎㅇㅏㅈㅕㅅㅓ', 'ㅅㅓㄹㅁㅕㅇ', 'ㅊㅓㄹㅓㅁ', 'ㅈㅣㅂㅇㅡㄹㅗ', 'ㄷㅏㅎㅐㅇㅎㅣ', 'ㄴㅏㅁㅇㅡㄹ', 'ㅇㅣㄴㄱㅝㄴ', 'ㄷㅏㄴㅕㅅㅓ', 'ㄷㅏㄴㅣㄱㅗ', 'ㅇㅏㅇㅖ', 'ㄷㅗㅇㅜㅁㅇㅣ', 'ㄴㅐㄴㅐ', 'ㅈㅓㄹㅣ', 'ㅅㅓㅇㅎㅕㅇ', 'ㅂㅗㄴㅐㄱㅗ', 'ㅇㅓㄱㅈㅣㄹㅗ', 'ㅈㅗㅎㅅㅡㅂㄴㅣㄷㅏ', 'ㅇㅙㄴㅈㅣ', 'ㅎㅏㄴㅡㄴㄱㅓㅅㄷㅗ', 'ㅎㅏㅅㅕㅆㅇㅓㅇㅛ', 'ㅈㅓㅇㅊㅣ', 'ㄱㅜㅇㅕㄱㅈㅣㄹ', 'ㅊㅗㄷㅐ', 'ㅁㅏㄴㄷㅡㄹㅇㅓㅅㅓ', 'ㄱㅓㄴㄱㅏㅇㅎㅏㅅㅣㄱㅗ', 'ㄲㅡㅌㄴㅏㄱㅗ', 'ㅇㅓㅄㄴㅔㅇㅛ', 'ㅂㅜㄹㄹㅓㅅㅓ', 'ㅂㅣㄴㅏㄴ', 'ㅇㅕㅈㅏㄹㅡㄹ', 'ㅇㅜㄹㅋㅓㄱ', 'ㅁㅏㄹㅇㅡㄴ', 'ㅋㅏㅇㅣㅅㅡㅌㅡ', 'ㅇㅣㅆㅈㅣㅁㅏㄴ', 'ㅈㅏㄶㅇㅏ', 'ㅇㅡㄴㄱㅡㄴ', 'ㄱㅡㅁㅈㅣ', 'ㄷㅏㄴㅕ', 'ㅁㅏㄶㄷㅏ', 'ㅅㅣㅍㅇㅓㅆㄷㅓㄴ', 'ㅂㅘㅆㅇㅓㅇㅛ', 'ㅂㅜㄱㅎㅏㄴ', 'ㄱㅏㅁㅇㅡㄹ', 'ㅈㅘㅈㅓㄹ', 'ㅎㅐㅇㅂㅗㄱ', 'ㅂㅐㄱㅏ', 'ㅂㅗㅇㅣㄱㅗ', 'ㅅㅏㅅㅓ', 'ㄱㅏㅌㅇㅡㄴㄱㅓ', 'ㄷㅗㅇㄹㅛㄷㅡㄹㅇㅣ', 'ㅌㅣㅁㅇㅣ', 'ㅂㅐㅅㅣㄴㄷㅏㅇㅎㅏㄴ', 'ㅈㅓㅇㄹㅣ', 'ㅇㅓㄸㅓㄱㅎㅏㅈㅣ', 'ㅎㅚㅅㅏㄹㅡㄹ', 'ㅈㅜㄱㅇㅕ', 'ㄱㅔㅇㅣ', 'ㄷㅐㅂㅜㅂㅜㄴ', 'ㅊㅟㅈㅣㄱ', 'ㄱㅡㄱㅎㅕㅁ', 'ㅎㅓㄹㅣㄱㅏ', 'ㅁㅕㄴㅈㅓㅂ', 'ㄱㅏㅁㅅㅓㅇ', 'ㅁㅏㄴㄷㅡㄴ', 'ㄱㅘㄴㅅㅣㅁㄷㅗ', 'ㅅㅡㅅㅡㄹㅗ', 'ㄷㅡㄹㅇㅡㄴㅣ', 'ㅂㅜㄴㄷㅡㄹㅇㅣ', 'ㄱㅡㄱㅓ', 'ㄷㅡㄴㅔ', 'ㅈㅗㄱㅡㅁㅁㅏㄴ', 'ㅂㅗㅂㄴㅣㄷㅏ', 'ㅂㅗㅅㅜ', 'ㅈㅗㄴㄴㅏㄱㅔ', 'ㅎㅐㅆㄴㅏ', 'ㅅㅏㄹㄱㅣ', 'ㅅㅐㅇㅇㅣㄹ', 'ㅅㅓㅇㄱㅕㄱㅇㅣ', 'ㅂㅓㄹㅣㄴ', 'ㅈㅣㄷㅗ', 'ㅅㅟㅇㅜㄴ', 'ㅅㅏㄹㅏㅁㄷㅡㄹㅇㅡㄹ', 'ㅇㅕㅈㅓㄴㅎㅣ', 'ㅇㅓㄴㄴㅣㄴㅡㄴ', 'ㅇㅏㅍㅡㄷㅏㄱㅗ', 'ㄱㅓㅅㄷㅡㄹㅇㅡㄴ', 'ㄷㅡㄹㅇㅏ', 'ㅇㅜㄹㅣㅇㅢ', 'ㄷㅙㅈㅣ', 'ㄷㅏㄴㅣㄷㅓㄴ', 'ㅇㅏㄴㄷㅚㅁ', 'ㄷㅡㄹㅇㅡㅁㅕㄴㅅㅓ', 'ㅎㅣㄹㄹㅣㅇ', 'ㅇㅓㄴㅈㅔㄴㄱㅏ', 'ㅎㅏㄷㅓㄴㄷㅔ', 'ㄱㅟㅊㅏㄶㄱㅔ', 'ㅅㅣㄱㅍㅜㅁㅇㅡㄹ', 'ㄷㅗㄴㅇㅡㄹㅗ', 'ㅂㅐㅇㅜㄱㅗ', 'ㄱㅕㄹㄱㅘㄹㅡㄹ', 'ㅂㅏㄷㅇㅏㅇㅑ', 'ㅇㅗㄴㅡㄹㅇㅡㄴ', 'ㄷㅏㄹㅡㄱㅔ', 'ㅅㅜㅎㅏㄱ', 'ㄴㅗㄹㅐㅂㅏㅇㅇㅔㅅㅓ', 'ㅅㅓㅇㅈㅓㄱㅇㅡㄹ', 'ㅅㅣㅀㅇㅡㄴㄷㅔ', 'ㅈㅓㅇㅈㅏㄱ', 'ㄴㅏㅎㄱㅗ', 'ㅁㅏㄴㄴㅏㅆㄴㅡㄴㄷㅔ', 'ㅁㅓㄹㄹㅣ', 'ㄱㅕㅌㅇㅔ', 'ㅅㅗㅁㅜㄴㅇㅣ', 'ㄱㅏㅈㅓㅇ', 'ㅇㅣㅆㄷㅐ', 'ㅎㅏㄴㅡㄴㄱㅓㅇㅑ', 'ㄱㅓㅈㅣㅅㅁㅏㄹㅇㅡㄹ', 'ㅇㅗㅃㅏㄱㅏ', 'ㄷㅏㄹㅣㄱㅏ', 'ㅅㅏㄹㅈㅣ', 'ㅂㅏㅇㅇㅔ', 'ㅇㅑㄱㅅㅗㄱ', 'ㅇㅏㅇㅣㄷㅡㄹㅇㅡㄹ', 'ㅂㅜㄹㄹㅓ', 'ㅇㅣㄴㅅㅏㄹㅡㄹ', 'ㄱㅡㄹㅐㅆㅇㅓ', 'ㅇㅏㅇㅏ', 'ㅅㅡㄹㅍㅡㄷㅏ', 'ㅅㅡㅇㅅㅡㅇㅈㅏㅇㄱㅜ', 'ㅎㅏㄹㄱㅔㅇㅛ', 'ㅅㅏㅇㄷㅏㅁㅇㅡㄹ', 'ㄱㅗㅇㅂㅜㄷㅗ', 'ㄷㅡㄴㅣ', 'ㅋㅓㅂㅓ', 'ㄸㅓㄴㅏ', 'ㄱㅡㄸㅐ', 'ㅎㅘㄴㅁㅕㄹㅇㅣ', 'ㅇㅗㅁㅕㄴ', 'ㅈㅏㅂㄱㅗ', 'ㅁㅗㅇㅣㅁㅇㅔ', 'ㄱㅓㄱㅈㅓㅇㅅㅡㄹㅓㅇㅝ', 'ㅁㅝㄹㅏ', 'ㅅㅗㅇㅚ', 'ㅁㅣㅅㅗ', 'ㅂㅘㅆㄷㅏ', 'ㄱㅏㄴㅏㄴㅎㅏㄴ', 'ㅎㅏㅇㅕ', 'ㄷㅔㄹㅣㄱㅗ', 'ㅇㅏㄶㅇㅡㄹㄲㅏ', 'ㅌㅚㄱㅡㄴ', 'ㅇㅓㅂㅁㅜ', 'ㅅㅣㅎㅓㅁㅇㅔㅅㅓ', 'ㄷㅏㅇㄴㅛ', 'ㅇㅏㄶㄴㅑ', 'ㄴㅏㅁㅇㅢ', 'ㅊㅚㄱㅡㄴㅇㅔ', 'ㅎㅏㄹㅕㄴㅡㄴ', 'ㄷㅐㄷㅏㄴㅎㅏㄱㅗ', 'ㄷㅡㅇㅅㅏㄴㅇㅡㄹ', 'ㅊㅜㅇㄱㅕㄱㅈㅓㄱㅇㅣㅇㅑ', 'ㅂㅜㄹㅇㅏㄴㅎㅏㄱㅗ', 'ㅎㅣㅁㄷㅡㄹ', 'ㅂㅜㄹㅓㅂㄷㅏ', 'ㄷㅏㅅㅣㄴㅡㄴ', 'ㅇㅑㅇㅈㅔㄹㅡㄹ', 'ㅎㅏㄱㅇㅝㄴㅇㅡㄹ', 'ㄱㅏㄱㅣ', 'ㄱㅡㅁㅂㅏㅇ', 'ㅁㅓㄱㅇㅓㄷㅗ', 'ㅇㅣㅅㅏㅇㅎㅏㄱㅔ', 'ㄱㅣㅂㅜㄷㅗ', 'ㅉㅏㅈㅡㅇㅇㅡㄹ', 'ㄱㅏㅌㄴㅔㅇㅛ', 'ㄱㅏㅆㄷㅏ', 'ㄷㅏㄴㅣㄹ', 'ㄷㅗㅇㄴㅔ', 'ㄷㅓㄷㅓ', 'ㅂㅏㄴㅅㅓㅇ', 'ㄴㅏㅁㅈㅣ', 'ㅋㅜㅇㅋㅘㅇ', 'ㄷㅐㄴㅗㅎㄱㅗ', 'ㅁㅏㅅㅇㅣ', 'ㅇㅓㄹㄱㅜㄹㅇㅣ', 'ㅈㅚㅊㅐㄱㄱㅏㅁㅇㅣ', 'ㄱㅏㄴㅏㄴㅎㅐㅅㅓ', 'ㅇㅕㄴㅇㅐㄹㅡㄹ', 'ㅈㅗㅅㅏ', 'ㄴㅡㄺㅇㅡㄴ', 'ㅂㅓㄴㅡㄴ', 'ㅎㅐㄱㅗ', 'ㅅㅏㄱㅘ', 'ㅇㅛㅇㅅㅓ', 'ㅁㅣㄹㅐㄱㅏ', 'ㅇㅕㅈㅏㄹㅏㅇ', 'ㅅㅏㅇㅛㅇ', 'ㄷㅚㄱㅣㄹ', 'ㅈㅏㅅㅣㄱㄷㅡㄹㅇㅔㄱㅔ', 'ㅁㅓㄱㅇㅓㅇㅑ', 'ㅅㅐㅇㄱㅏㄱㅇㅔ', 'ㅅㅐㅇㄱㅕㅆㄴㅡㄴㄷㅔ', 'ㅇㅣㅆㄴㅗ', 'ㅇㅡㅁㅅㅐㄱ', 'ㄷㅐㅅㅓ', 'ㅇㅓㅄㅇㅓㅆㄴㅡㄴㄷㅔ', 'ㅁㅏㄴㅑㅇ', 'ㅈㅏㄴㅅㅗㄹㅣㄹㅡㄹ', 'ㄱㅣㄹㅇㅡㄹ', 'ㅇㅏㄶㅇㅏㄷㅗ', 'ㄸㅓㄴㅏㅅㅓ', 'ㅎㅏㄹㅁㅓㄴㅣㄱㅏ', 'ㄱㅔㅇㅣㅁ', 'ㅎㅏㅅㅕㅆㅅㅡㅂㄴㅣㄷㅏ', 'ㄷㅡㄹㅇㅣㅁ', 'ㅎㅐㅆㅅㅡㅂㄴㅣㄷㅏ', 'ㄱㅣㄹㅇㅔ', 'ㄹㅗㅂㅜㅌㅓ', 'ㄱㅓㄹㄹㅕㅆㄴㅡㄴㄷㅔ', 'ㄲㅗㄹㅏㅈㅣ', 'ㄴㅏㅇㅣㄹㅡㄹ', 'ㅍㅕㄴㅎㅐ', 'ㄱㅏㅌㄱㅗ', 'ㄱㅣㅅㅏㄹㅡㄹ', 'ㄴㅣㄷㅡㄹㅇㅣ', 'ㄸㅏㄷㅗㄹㄹㅣㄴㅡㄴ', 'ㅁㅜㅅㅓㅇㅜㄴ', 'ㅇㅏㄷㅡㄹㅇㅡㄹ', 'ㅂㅣㅁㅣㄹㅇㅡㄹ', 'ㅇㅣㄴㅈㅡㅇ', 'ㅇㅏㄱㅎㅘ', 'ㅎㅐㅈㅝ', 'ㄴㅏㅁㅈㅏㄴㅡㄴ', 'ㅈㅓㄱㅇㅡㄴ', 'ㅇㅏㄴㅐㄹㅏㅇ', 'ㅎㅢㅅㅐㅇ', 'ㅅㅡㄹㅍㅡㄱㅗ', 'ㅇㅘㅇㄸㅏ', 'ㅊㅏㄹㅡㄹ', 'ㅂㅏㄹㅏㅁㅇㅡㄹ', 'ㅅㅜㅇㅓㅂ', 'ㅇㅏㄴㅐㅇㅢ', 'ㄱㅏㄱㅣㄹㅗ', 'ㅅㅐㅇㄱㅏㄱㅁㅏㄴ', 'ㅇㅗㄴㄱㅏㅈ', 'ㅅㅏㅇㄷㅏㅁ', 'ㅅㅣㄴㄴㅏ', 'ㅇㅏㄶㅇㅡㅁㅕㄴ', 'ㅎㅏㄹㅌㅔㄴㄷㅔ', 'ㄱㅣㅍㅇㅡㄴ', 'ㅅㅏㅇㅊㅓㅇㅑ', 'ㄱㅓㅅㅇㅔ', 'ㅎㅐㅈㅜㄱㅗ', 'ㅇㅓㅄㄴㅗ', 'ㄷㅏㄴㅣ', 'ㅇㅏㄷㅡㄹㅇㅡㄴ', 'ㅁㅗㄹㄹㅏㅆㅇㅓ', 'ㅎㅓㄹㅣ', 'ㅈㅣㄴㅐㄷㅓㄴ', 'ㅌㅣㅁㅇㅝㄴ', 'ㄹㅕㄱㅗ', 'ㄴㅏㅇㅗㄴㄷㅏ', 'ㄴㅡㄲㅕㅈㅣㄴㅔㅇㅛ', 'ㅁㅓㄱㅈㅣ', 'ㅇㅕㅇㅎㅘㄹㅡㄹ', 'ㅅㅡㅇㅈㅣㄴ', 'ㅂㅜㅁㅗ', 'ㅈㅣㄱㅏㄱ', 'ㅎㅣㅁㄷㅡㄴㅔ', 'ㅅㅓㄴㅂㅐㄱㅏ', 'ㅇㅗㄹㅐㅅㄷㅗㅇㅇㅏㄴ', 'ㅁㅏㄹㅁㅏㄴ', 'ㄷㅐㄷㅏㄴㅎㅏㅅㅣㄴㅔㅇㅛ', 'ㄷㅗㅇㅜㅁ', 'ㅈㅗㅎㅇㅏㅎㅏㄷㅓㄴ', 'ㅈㅏㄹㅁㅗㅅㅎㅏㄴ', 'ㅈㅗㅎㅇㅡㅁ', 'ㄱㅓㅈㅣㅅㅁㅏㄹ', 'ㅂㅜㅈㅏ', 'ㅈㅜㅂㅕㄴㅇㅔ', 'ㅁㅜㄹㅇㅡㄹ', 'ㄱㅚㄹㅗㅂㅎㅕㅅㅓ', 'ㄴㅏㄴㅔㅇㅛ', 'ㅁㅏㄴㄴㅏ', 'ㅁㅏㄶㄱㅗ', 'ㅇㅗㄹㄹㅏ', 'ㄴㅏㅇㅗㅁ', 'ㄷㅏㅇㅎㅐㅆㄴㅡㄴㄷㅔ', 'ㅎㅏㄴㅈㅣ', 'ㅇㅜㅅㅇㅡㅁ', 'ㄴㅗㄱㅏㄷㅏ', 'ㅁㅣㄷㅇㅡㄹ', 'ㅂㅓㄹㅕㅈㅣㄴ', 'ㅈㅚㄷㅏ', 'ㅅㅓㄴㅡㄴ', 'ㅊㅚㅅㅗ', 'ㅁㅗㄹㄹㅏㅅㅓ', 'ㄱㅏㅈㅏ', 'ㄷㅡㄹㅁㅏㄴ', 'ㅇㅕㄹㅍㅗㄱ', 'ㅈㅣㄱㅈㅓㅂ', 'ㄷㅐㅅㄱㅡㄹㅇㅣ', 'ㅇㅏㄷㅡㄹㅇㅔㄱㅔ', 'ㅇㅣㅆㄴㅡㄴㄱㅓ', 'ㅇㅣㄹㅡㅁ', 'ㄴㅡㅇㄹㅕㄱㅇㅣ', 'ㄴㅏㅇㅣㅂㅗㄷㅏ', 'ㅇㅣㄸㅏㄴ', 'ㅇㅖㅃㅓㅇㅛ', 'ㅊㅜㅇㄱㅕㄱㅇㅣㅇㅑ', 'ㅎㅓㄹㅏㄱ', 'ㅁㅏㅊㅣ', 'ㄷㅡㄷㄴㅡㄴㄷㅔ', 'ㅈㅣㄱㅈㅏㅇㅇㅔㅅㅓ', 'ㄱㅓㄴㄱㅏㅇㅎㅣ', 'ㅊㅜㄹㅅㅏㄴ', 'ㄷㅐㄷㅏㄴㅎㅏㅅㅣㄷㅏ', 'ㅇㅓㅄㄷㅏㄴㅡㄴ', 'ㄱㅜㄱㄱㅏ', 'ㅁㅕㅊㅣㄹ', 'ㅇㅏㅇㅣㄷㅗㄹ', 'ㅅㅏㅇㅊㅓㄱㅏ', 'ㅅㅏㄹㅇㅏㅆㄴㅡㄴㄷㅔ', 'ㄲㅏㅁㅉㅏㄱ', 'ㅌㅡㄱㅈㅣㅇ', 'ㅅㅡㅌㅡㄹㅔㅅㅡㅇㅑ', 'ㅎㅗㄴㄴㅏㅆㅇㅓ', 'ㅇㅓㅉㅓㅁ', 'ㅇㅕㄴㄹㅏㄱㄷㅗ', 'ㅅㅏㄹㅏㅁㅇㅔㄱㅔ', 'ㅍㅕㄴㅎㅏㄱㅔ', 'ㄱㅕㅇㅜ', 'ㅎㅏㄴㅡㄴㄱㅓㅅ', 'ㄱㅓㅅㅊㅓㄹㅓㅁ', 'ㅇㅕㅍㅈㅣㅂ', 'ㅎㅏㄱㅇㅝㄴ', 'ㅁㅜㅎㅏㄴ', 'ㄷㅡㄹㅇㅓㅇㅘㅆㄴㅡㄴㄷㅔ', 'ㅎㅏㄴㄷㅏㅁㅕㄴ', 'ㅎㅐㅇㄷㅗㅇ', 'ㅎㅗㄹㄹㅗ', 'ㅎㅐㅆㅈㅣ', 'ㅁㅜㅅㅓㅂㄱㅗ', 'ㄴㅏㅆㄴㅡㄴㄷㅔ', 'ㅂㅜㄹㅡㄱㅗ', 'ㅎㅓㅁㄷㅏㅁㅇㅡㄹ', 'ㅂㅕㅇㅇㅝㄴㅇㅡㄹ', 'ㄱㅚㄹㅗㅂㅎㅣㄴ', 'ㅅㅐㄲㅣㄷㅡㄹㅇㅏ', 'ㄴㅏㅇㅣㅇㅔ', 'ㅇㅜㄹㄱㅗ', 'ㄷㅐㅎㅘㄱㅏ', 'ㄱㅗㅁㅣㄴㅇㅡㄹ', 'ㅈㅗㅈㅏㄱ', 'ㄸㅐㅁㅏㄴ', 'ㅂㅏㄴㅇㅡㅇ', 'ㄴㅗㅁㄷㅡㄹㅇㅣ', 'ㄱㅏㅌㅇㅡㅁㅕㄴ', 'ㅇㅣㅂㅅㅏ', 'ㅈㅓㅇㅅㅣㄴㅂㅕㅇ', 'ㄱㅏㅈㅗㄱㅇㅣ', 'ㅂㅗㅌㅗㅇ', 'ㄷㅏㅇㅅㅣㄴㅇㅡㄴ', 'ㄱㅜㄱㅁㅣㄴ', 'ㅈㅓㅁㅅㅜㄱㅏ', 'ㄷㅚㄴㅣㄲㅏ', 'ㅇㅣㄹㅇㅣㅇㅑ', 'ㅇㅏㅍㅇㅔ', 'ㅇㅏㄹㅂㅏ', 'ㅂㅜㅂㅜ', 'ㅅㅓㄴㅅㅐㅇㄴㅣㅁㄲㅔㅅㅓ', 'ㅇㅙㅋㅔ', 'ㅈㅣㄱㅗ', 'ㅁㅗㄹㅡㄱㅔㅆㅇㅓㅅㅓ', 'ㅎㅕㄴㅅㅣㄹ', 'ㄴㅏㅇㅗㄴㅔ', 'ㄷㅏㅇㅈㅏㅇ', 'ㄱㅐㄷㅙㅈㅣㄷㅡㄹ', 'ㅎㅏㄱㅣㄴ', 'ㅂㅜㅈㅗㄱㅎㅐㅅㅓ', 'ㅎㅏㄹㅜㅇㅔ', 'ㅎㅏㅅㅕㅆㄴㅔㅇㅛ', 'ㅇㅏㄱㅍㅡㄹ', 'ㅎㅐㅆㄴㅡㄴㅈㅣ', 'ㅂㅗㄷㅏㄱㅏ', 'ㅈㅜㅅㅕㅆㅇㅓ', 'ㅁㅜㅅㅓㅇㅝㅅㅓ', 'ㅈㅜㅁㅏㄹㅇㅔ', 'ㅌㅗㅇㄱㅘ', 'ㄴㅡㄴㄱㅓㄹ', 'ㅁㅏㅇㅡㅁㄷㅗ', 'ㄷㅐㄱㅏㄹㅣㄱㅏ', 'ㅈㅗㅇㅛㅇㅎㅣ', 'ㅇㅛㅇㅈㅓㅂ', 'ㅎㅏㅅㅣㄱㅣㄹ', 'ㄷㅏㄴㅕㅇㅘㅆㄴㅡㄴㄷㅔ', 'ㅇㅖㅈㅓㄴㅇㅔ', 'ㅈㅓㄱㅓㄴ', 'ㅇㅣㄱㅇㅣ', 'ㄲㅡㅌㄴㅏㅆㅇㅓ', 'ㅅㅐㅇㄱㅣㄱㅗ', 'ㅅㅏㅇㅣㅇㅔ', 'ㄱㅗㅇㅁㅜㅇㅝㄴ', 'ㅌㅣㅂㅣ', 'ㅇㅕㅇㅇㅓ', 'ㅇㅏㄴㅐㄹㅡㄹ', 'ㄴㅏㅁㅜ', 'ㅅㅣㅋㅣㄴㅡㄴ', 'ㅇㅕㅈㅏㄷㅡㄹㅇㅣ', 'ㄷㅡㄹㅁㅕㄴㅅㅓ', 'ㄷㅗㄹㄹㅕ', 'ㅂㅜㅁㅗㄴㅣㅁㄲㅔㅅㅓ', 'ㅇㅏㅇㅣㅇㅠㄱㅏ', 'ㅋㅓㅅㅓ', 'ㅇㅓㄹㄱㅜㄹㄷㅗ', 'ㅎㅏㄹㄱㅓ', 'ㄴㅡㄲㅕㅈㅕㅅㅓ', 'ㄴㅐㅁㅅㅐㄱㅏ', 'ㅇㅟㄹㅗㄱㅏ', 'ㄴㅡㄲㅕㅆㅇㅓ', 'ㄷㅡㄹㄹㅕㅈㅜㅅㅕㅅㅓ', 'ㅇㅟㅇㅔ', 'ㄴㅗㄹㅐㄹㅗ', 'ㅇㅓㄱㅇㅜㄹㅎㅏㄴ', 'ㅁㅏㅁㅇㅔ', 'ㅉㅏㅇㄲㅐ', 'ㅅㅏㅎㅚㅈㅓㄱ', 'ㄴㅜㄹㄹㅓ', 'ㅈㅗㅈㄱㅏㅌㅇㅣ', 'ㄷㅏㅂㅇㅣ', 'ㅁㅝㄴㅣ', 'ㅊㅏㅈㅇㅏㅅㅓ', 'ㅁㅣㅊㅕㅆㄷㅏ', 'ㄷㅡㄹㅇㅓㄱㅏㅅㅓ', 'ㄷㅡㅅㅇㅣ', 'ㄴㅏㄹㄱㅐ', 'ㅈㅏㅁㅏㅈㅏ', 'ㄲㅜㅁㅇㅡㄹ', 'ㅁㅏㄴㅈㅗㄱㅅㅡㄹㅓㅇㅝ', 'ㅎㅘㄴㅁㅕㄹㅇㅡㄹ', 'ㅆㅣㄱㅏ', 'ㅇㅣㅈㅔㅇㅑ', 'ㄷㅐㅌㅗㅇㄹㅕㅇ', 'ㄱㅚㄹㅗㅂㅎㅣㅁㅇㅡㄹ', 'ㅈㅏㄴㅅㅗㄹㅣ', 'ㅅㅣㅀㅇㅡㅁㅕㄴ', 'ㄱㅏㅈㄷㅏ', 'ㅂㅗㅁㅕ', 'ㄷㅏㅂㄷㅏㅂㅎㅏㄱㅗ', 'ㄱㅓㄴㄱㅏㅇㅎㅏㄷㅏㄱㅗ', 'ㅎㅏㄹㄱㅓㅇㅑ', 'ㅇㅣㄴㅅㅐㅇㅇㅣ', 'ㄴㅓㄷㅗ', 'ㅈㅜㅈㅔㅇㅔ', 'ㄹㅐㅇㅑ', 'ㅈㅘㅃㅏㄹ', 'ㅎㅏㄷㅗ', 'ㄴㅓㅁㄴㅏ', 'ㅁㅏㅈㅣㅁㅏㄱ', 'ㅁㅕㅇㄷㅗ', 'ㄱㅓㄷㅏ', 'ㄸㅐㅁㅇㅔ', 'ㅇㅏㅃㅏㄹㅡㄹ', 'ㅅㅣㄱㅇㅡㄹㅗ', 'ㅂㅏㄲㅇㅔㅅㅓ', 'ㅈㅓㅇㄷㅗㅇㅑ', 'ㄸㅐㄹㅕㅆㅇㅓ', 'ㅇㅑㄷㅗㅇ', 'ㅈㅣㄱㅇㅓㅂ', 'ㅇㅏㅊㅣㅁㅇㅔ', 'ㄱㅏㅆㄷㅏㄱㅏ', 'ㄴㅏㄹㅏㄱㅏ', 'ㅅㅣㄴㅇㅣ', 'ㅂㅕㅇㅁㅜㄴㅇㅏㄴㅇㅡㄹ', 'ㄴㅕㄴㅇㅏ', 'ㅇㅏㄴㅣㅈㅣ', 'ㅍㅏㄹㅇㅣ', 'ㅊㅐㄴㅓㄹ', 'ㅎㅐㅇㅂㅗㄱㅎㅏㄱㅗ', 'ㅁㅏㅈㅇㅡㄴ', 'ㄷㅏㄹㅣㄹㅡㄹ', 'ㅅㅏㄱㅗㄱㅏ', 'ㄱㅐㄷㅙㅈㅣ', 'ㅈㅜㄱㅇㅓㅆㅇㅓ', 'ㅎㅣㅁㄷㅡㄹㄷㅏㄱㅗ', 'ㅂㅓㄹㅣㅁ', 'ㅈㅣㄴㅉㅏㄹㅗ', 'ㄷㅔㅇㅣㅌㅡ', 'ㅅㅐㅇㄱㅣㅁ', 'ㄷㅡㄷㄷㅏㄱㅏ', 'ㅅㅗㄹㅡㅁ', 'ㅈㅓㅁㅇㅣ', 'ㅇㅓㅉㅓㅈㅣ', 'ㅇㅑㄱㅅㅗㄱㅇㅡㄹ', 'ㄱㅓㄴㅏ', 'ㅍㅣㄹㅇㅛ', 'ㅇㅕㄱㅣㅅㅓ', 'ㅇㅕㄱㅏㄴ', 'ㅎㅐㅆㄴㅑ', 'ㅎㅏㄹㄷㅡㅅ', 'ㅂㅜㄹㅆㅏㅇㅎㅐ', 'ㅇㅖㅃㅡㄱㅗ', 'ㅃㅏㄴㅡㄴ', 'ㅈㅓㄸㅏㄴ', 'ㄱㅗㄱㅣㄹㅡㄹ', 'ㅇㅐㄷㅡㄹㅎㅏㄴㅌㅔ', 'ㅂㅘㅆㄴㅔㅇㅛ', 'ㄷㅓㄴㄷㅔ', 'ㅍㅕㄴㅇㅏㄴㅎㅐ', 'ㄷㅏㅁㅂㅐ', 'ㅊㅜㅇㅂㅜㄴㅎㅣ', 'ㅅㅓㄹㅓㅇㅝ', 'ㅎㅚㅅㅏㄱㅏ', 'ㅇㅏㅇㅣㄷㅡㄹ', 'ㅅㅜㄱㅈㅔㄹㅡㄹ', 'ㅁㅗㄹㅡㄱㅔㅆㄷㅏ', 'ㅎㅏㄴㅏㄱㅏ', 'ㅅㅗㄹㅣㄱㅏ', 'ㅈㅣㄴㅇㅕㅇ', 'ㄱㅣㅇㅓㄱㅇㅣ', 'ㅅㅏㄹㅁㅕㄴㅅㅓ', 'ㅆㅡㄹㄷㅔㅇㅓㅄㄴㅡㄴ', 'ㅁㅜㄹㅡㅍ', 'ㅎㅘㄱㅇㅣㄴ', 'ㅆㅡㄹㅓㅈㅕㅅㅓ', 'ㅊㅓㄹㅣ', 'ㄴㅓㅎㄱㅗ', 'ㄷㅏㅇㅅㅣㄴ', 'ㅅㅣㄹㅈㅔ', 'ㄷㅏㅇㅎㅏㄹ', 'ㄱㅏㅈㅗㄱㄷㅡㄹㄱㅘ', 'ㅈㅐㅁㅣ', 'ㅂㅜㄷㅏㅁ', 'ㅁㅐㄹㅕㄱ', 'ㅅㅏㅎㅕㅇ', 'ㅇㅜㅇㅕㄴㅎㅣ', 'ㅇㅕㄱㄷㅐㄱㅡㅂ', 'ㄱㅓㄹㄹㅕ', 'ㅊㅓㅇㅅㅗㄹㅡㄹ', 'ㅁㅣㅊㅕ', 'ㅈㅏㅅㅏㄹㅇㅡㄹ', 'ㅅㅏㄱㅟㄴㅡㄴ', 'ㅆㅏㅇㅜㅁㅇㅡㄹ', 'ㄱㅟㅇㅕㅇㅝㅇㅛ', 'ㅁㅓㄱㄱㅣ', 'ㅅㅜㅂㅏㄲㅇㅔ', 'ㅆㅏㅇㅝㅅㅓ', 'ㄴㅓㅁㅜㄴㅏㄷㅗ', 'ㄴㅏㅇㅗㄱㅗ', 'ㅇㅢㅅㅣㄱ', 'ㅁㅓㅅㅇㅣㅆㅇㅓㅇㅛ', 'ㅅㅏㅇㅎㅘㅇ', 'ㅈㅓㄴㅎㅏㄱㅇㅡㄹ', 'ㅅㅣㅀㅇㅡㄴ', 'ㅂㅏㄹㅐ', 'ㅇㅜㄴㅡㄴ', 'ㅇㅣㄴㅅㅓㅇ', 'ㄴㅡㄱㅡ', 'ㅈㅏㅅㅣㄴㅇㅡㄹ', 'ㅇㅣㄴㅅㅐㅇㅇㅢ', 'ㅈㅜㅇㅇㅣㅇㅑ', 'ㅈㅣㅊㅕ', 'ㅇㅓㄴㄷㅓㄱ', 'ㄷㅏㅇㅎㅏㄴㅡㄴㄷㅔ', 'ㅇㅕㄱㄱㅕㅇㅝ', 'ㅇㅣㅆㄴㅡㄴㅈㅣ', 'ㅈㅜㅅㅔㅇㅛ', 'ㅅㅓㄴㅅㅜㄷㅡㄹ', 'ㅅㅣㅀㄱㅗ', 'ㅎㅣㅁㄷㅡㄹㅇㅓㅅㅓ', 'ㅇㅜㅇㅜㄹㅎㅏㄱㅗ', 'ㅍㅕㅇㅅㅗㅇㅔ', 'ㅂㅕㅇㅇㅡㄹ', 'ㅅㅏㄹㄱㅔ', 'ㄷㅏㄴㅕㅇㅘㅆㅇㅓ', 'ㅅㅏㄹㅏㅁㅇㅢ', 'ㄷㅐㅎㅏㄴㅁㅣㄴㄱㅜㄱㅇㅢ', 'ㄴㅗㄹㅐㅇㅔ', 'ㅅㅓㅇㅅㅣㄹㅎㅏㄱㅔ', 'ㅅㅏㄹㅁㅕㄴ', 'ㄷㅐㄷㅏㄴ', 'ㅅㅣㅁㅎㅐㅅㅓ', 'ㄱㅓㄹㄹㅔ', 'ㅈㅜㅈㅏㄱ', 'ㅈㅗㅎㄷㅏㄴㅡㄴ', 'ㅇㅕㅇㅅㅏㅇㅇㅡㄹ', 'ㄱㅣㅇㅓ', 'ㅁㅕㅇㅍㅜㅁ', 'ㅈㅏㄹㅣ', 'ㄴㅐㄴㅡㄴ', 'ㅈㅓㅇㄱㅝㄴ', 'ㄷㅏㄹㄹㅏㅅㅓ', 'ㅈㅜㅁㅕㄴ', 'ㅇㅣㅇㅠㄴㅡㄴ', 'ㅁㅏㅇㅑㄱ', 'ㄷㅗㅇㄱㅣㄱㅏ', 'ㅁㅏㅈㅇㅏ', 'ㄴㅗㄹㅐㅂㅏㅇ', 'ㅇㅣㄹㅇㅣㄴㄷㅔ', 'ㅇㅘㅈㅜㅇㅇㅔ', 'ㅇㅗㄹㄹㅣㄴ', 'ㅁㅣㄱㅜㄱ', 'ㅎㅗㄴㅈㅏㄱㅏ', 'ㅈㅗㅎㅇㅡㄹㄲㅏ', 'ㄸㅗㅇㄲㅗ', 'ㅇㅏㄴㅎㅏㅁ', 'ㅅㅣㅍㅇㅓㅇㅛ', 'ㄴㅡㄺㅇㅓ', 'ㅎㅏㄴㅡㄴㄱㅓㅈㅣ', 'ㅇㅏㄹㅇㅏㅆㄷㅏ', 'ㄴㅏㅁㅍㅕㄴㅇㅔㄱㅔ', 'ㅇㅏㅇㅣㅇㅠㄴㅣㅁ', 'ㅎㅣㅁㄷㅡㄹㄷㅏ', 'ㄴㅡㄺㅇㅓㅅㅓ', 'ㄱㅚㅁㅜㄹ', 'ㅅㅜㄱㅗ', 'ㅈㅓㅎㅢ', 'ㅈㅣㅈㅣ', 'ㅇㅓㄸㅓㅎ', 'ㅅㅏㄹㅇㅏㅇㅘㅆㄴㅡㄴㄷㅔ', 'ㅈㅣㅂㅇㅏㄴ', 'ㄱㅏㅎㅐㅈㅏㄷㅡㄹㅇㅣ', 'ㄷㅡㄴㅔㅇㅛ', 'ㄲㅏㄴㅡㄴ', 'ㅈㅜㄱㅇㅡㅁㅇㅔ', 'ㄷㅡㄹㅇㅓㄱㅏㄴㅡㄴ', 'ㅎㅏㄷㅡㄴ', 'ㅅㅓㄴㅅㅜ', 'ㅇㅣㄱㅣㄹ', 'ㅈㅏㄱㅣㄷㅡㄹ', 'ㅅㅣㄹㅊㅓㄴ', 'ㄷㅡㄹㅇㅓㄱㅏ', 'ㅇㅏㅇㅁㅏㅇ', 'ㅈㅜㅇㅟ', 'ㅅㅣㅍㄴㅔ', 'ㅇㅐㄴㅡㄴ', 'ㅊㅟㅇㅓㅂㅇㅔ', 'ㅇㅏㅁㅏ', 'ㅅㅣㅎㅓㅁㅇㅔ', 'ㅂㅗㄴㅇㅣㄴㅇㅣ', 'ㅈㅏㄱㅍㅜㅁ', 'ㅁㅜㅅㅣㅎㅏㄱㅗ', 'ㅈㅗㅎㅇㅏㅎㅏㅈㅣ', 'ㅇㅏㄶㄴㅡㄴㄷㅔ', 'ㅎㅔㅇㅓㅈㅣㅈㅏㄱㅗ', 'ㅍㅛㅈㅓㅇ', 'ㅈㅗㅎㅇㅏㅎㅐㅅㅓ', 'ㅈㅜㅇㄷㅗㄱ', 'ㄴㅏㄴㄹㅣ', 'ㅅㅐㅇㄱㅕㅆㄴㅔ', 'ㅅㅣㅋㅣㄴ', 'ㅂㅜㄹㅍㅕㄴㅎㅏㄴ', 'ㅎㅏㄹㄱㅓㅁㅕㄴ', 'ㄷㅐㄷㅏㄴㅎㅏㅅㅣㄱㅗ', 'ㄱㅔㅇㅣㅁㅁㅏㄴ', 'ㅂㅏㅇㅇㅔㅅㅓ', 'ㅁㅕㅇㅇㅣ', 'ㅊㅚㄱㅗㅇㅖㅇㅛ', 'ㅈㅐㅂㅏㄹ', 'ㅇㅏㅁㅇㅡㄹㅗ', 'ㅁㅝㄱㅗ', 'ㄱㅗㅇㅂㅜㅇㅔ', 'ㅇㅕㅅㅓㅇ', 'ㄴㅏㅁㅇㅏㅅㅓ', 'ㅈㅜㄱㅇㅡㅁㅇㅣ', 'ㅂㅣㅅㅡㅅㅎㅏㄴ', 'ㅇㅔㅇㅣㅈㅡ', 'ㅂㅏㄹㅈㅓㄴ', 'ㄴㅜㄹㄹㅓㅆㅇㅓㅇㅛ', 'ㄷㅡㄹㅇㅓㅆㅇㅡㄹ', 'ㄱㅗㅅㅇㅔㅅㅓ', 'ㅊㅏㅇㅍㅣㅎㅐ', 'ㅌㅗㅇㅈㅡㅇㅇㅣ', 'ㅅㅏㄹㄷㅏ', 'ㅂㅜㄴㅇㅣㅅㅣㄴㅔㅇㅛ', 'ㅈㅐㅅㅏㄴ', 'ㅈㅣㄹㅎㅘㄴ', 'ㅇㅣㄴㄱㅏㄴㄷㅡㄹ', 'ㅁㅣㄹㅐㄹㅡㄹ', 'ㅎㅏㄱㅜ', 'ㄷㅗㄱㅈㅏ', 'ㅂㅜㄷㅣ', 'ㅅㅣㄷㅗ', 'ㄷㅗㅇㅅㅐㅇㅇㅡㄹ', 'ㅈㅏㅇㅠ', 'ㄱㅐㅈㅗㅈ', 'ㅇㅏㅍㅡㄴㅣ', 'ㄷㅡㄹㅅㅜㄹㅗㄱ', 'ㅅㅣㄴㄱㅕㅇㅇㅡㄹ', 'ㅆㅏㅇㅜㄴㅡㄴ', 'ㅈㅏㄴㄸㅡㄱ', 'ㅈㅜㄴㅂㅣㅎㅏㄴ', 'ㄴㅗㄹㄹㅏㄱㅗ', 'ㄱㅓㄴㄱㅏㅇㅎㅏㅅㅣㄱㅣㄹ', 'ㅇㅕㅇㅠㄱㅏ', 'ㄷㅐㅎㅏㄱㄱㅛㅇㅔ', 'ㅈㅗㅎㅇㅏㅇㅕ', 'ㅈㅣㄴㅡㅇ', 'ㅇㅏㅊㅣ', 'ㅅㅣㄴㄱㅕㅇㅇㅣ', 'ㄱㅓㄹㄹㅕㅆㄷㅏㄴㅡㄴ', 'ㅁㅓㅇㅊㅓㅇㅎㅏㄴ', 'ㄷㅗㅇㅅㅐㅇ', 'ㅁㅓㄱㅇㅓㅆㄴㅡㄴㄷㅔ', 'ㅈㅜㅇㅣㄴ', 'ㅈㅔㅊㅜㄹ', 'ㅁㅗㅇㅏ', 'ㅈㅗㅈㄷㅗ', 'ㅂㅏㄹㅏㄴㅡㄴ', 'ㄱㅐㅇㅣㄴ', 'ㅁㅏㄴㅣ', 'ㄱㅔㅇㅣㅇㅑ', 'ㄱㅏㄴㄷㅏㄱㅗ', 'ㅇㅖㅃㅡㄷㅏ', 'ㄱㅗㅇㄱㅐ', 'ㅇㅣㅅㅏㄹㅡㄹ', 'ㄷㅏㄹㅣ', 'ㅇㅣㅅㅏ', 'ㄴㅏㄱㅏ', 'ㅇㅡㅁㅅㅐㄱㅇㅣ', 'ㅁㅏㅇㅡㅁㅇㅢ', 'ㅊㅕㅅㅓ', 'ㅋㅓㅁㅍㅠㅌㅓ', 'ㅇㅕㄴㅇㅖㅇㅣㄴㅇㅣ', 'ㄷㅗㅇㄹㅛ', 'ㅇㅣㄷㅐㄹㅗ', 'ㅇㅠㅇㅣㄹㅎㅏㄱㅔ', 'ㄷㅏㄴㅣㄴㅡㄴㄷㅔ', 'ㅂㅗㅇㅣㄴㄷㅏ', 'ㅁㅣㄱㅐㅎㅏㄴ', 'ㅈㅐㅁㅣㄱㅏ', 'ㄱㅏㄷㅗ', 'ㅇㅣㅃㅡㄷㅏ', 'ㅎㅚㅅㅜ', 'ㄱㅏㄴㅡㅇ', 'ㄱㅏㅅㅏㄹㅡㄹ', 'ㅇㅓㅁㅁㅏㄹㅏㅇ', 'ㅇㅏㅊㅣㅁ', 'ㄴㅡㄺㄱㅗ', 'ㅂㅓㄴㅇㅣㄴㅏ', 'ㄱㅣㄷㅐ', 'ㅈㅏㅇㄹㅖㅅㅣㄱㅇㅔ', 'ㅎㅣㅁㄷㅡㄹㅇㅓㅆㄴㅡㄴㄷㅔ', 'ㅈㅓㅇㄷㅗㄴㅡㄴ', 'ㄴㅏㄱㅔ', 'ㄱㅕㄹㅎㅗㄴㅎㅏㄴ', 'ㄱㅓㅂㅇㅣ', 'ㅇㅏㄹㅈㅣ', 'ㄱㅚㄹㅗㅂㅎㅣㅁ', 'ㅅㅏㄱㅗㄹㅗ', 'ㄱㅣㅃㅡㄱㅗ', 'ㅎㅏㄹㅕㅁㅕㄴ', 'ㅇㅜㅅㄱㅕ', 'ㅇㅣㄴㄱㅏㄴㅇㅣ', 'ㅈㅜㅇㅇㅔㅅㅓ', 'ㄱㅡㅂㅅㅣㄱ', 'ㅁㅏㅈㄷㅏ', 'ㄱㅟㅊㅏㄶㄱㅗ', 'ㅂㅜㄹㅕ', 'ㅎㅐㄷㅏㄹㄹㅏㄱㅗ', 'ㅂㅗㅈㅏ', 'ㄱㅣㄹㅇㅣ', 'ㅂㅓㄹㅆㅓㅂㅜㅌㅓ', 'ㅇㅠㅈㅣ', 'ㅈㅏㅇㄴㅣㅁㅇㅣ', 'ㅅㅣㅋㅣㄱㅗ', 'ㅅㅔㄱㅅㅡ', 'ㅇㅣㅁㅣㄴ', 'ㅂㅘㅇㅛ', 'ㅂㅐㄷㅏㄹ', 'ㄱㅙㄴㅊㅏㄶㅇㅡㄴ', 'ㅇㅣㅎㅕㅇ', 'ㅎㅐㅆㄴㅗ', 'ㄷㅗㄹㅇㅏ', 'ㅎㅐㅂㅗㅁㅕㄴ', 'ㅇㅏㄶㅇㅡㄴㅣ', 'ㅎㅏㄷㅓㄹㅏㄱㅗ', 'ㅍㅡㄹㅗㅈㅔㄱㅌㅡㄹㅡㄹ', 'ㄷㅡㄴㅣㄲㅏ', 'ㅂㅗㅎㅓㅁ', 'ㅎㅏㄱㅣㄹ', 'ㄱㅓㄱㅣㅇㅔ', 'ㅍㅏㅂㄴㅣㅁㅇㅡㄴ', 'ㄷㅚㄴㄷㅏㅁㅕㄴ', 'ㅁㅗㄹㅇㅣㅂ', 'ㅁㅜㄴㅈㅔㄴㅡㄴ', 'ㄷㅔㄹㅕㄷㅏ', 'ㅂㅏㄹㅍㅛㄹㅡㄹ', 'ㄴㅏㅇㅔ', 'ㅅㅏㅇㅣㅇㅔㅅㅓ', 'ㅁㅓㄱㅇㅡㄴㅣ', 'ㅁㅜㄴㅈㅔㄹㅡㄹ', 'ㅇㅓㅄㄷㅓㄴ', 'ㅇㅚㅁㅗ', 'ㅇㅣㄹㅓㄷㅏ', 'ㄷㅏㄻㅇㅏㅅㅓ', 'ㅍㅣㅎㅐㅈㅏ', 'ㅈㅜㄱㅇㅡㅁㅕㄴ', 'ㅈㅏㄲㅜㅁㅏㄴ', 'ㅂㅗㅇㅣㅈㅣ', 'ㄱㅡㄹㅓㄴㅑ', 'ㄴㅏㅅㅗㄴㅏ', 'ㅈㅗㄴㅈㅐ', 'ㅅㅏㅇㅅㅏㅇ', 'ㅇㅓㄷㅣㄹ', 'ㅅㅓㅂㅅㅓㅂㅎㅐ', 'ㅅㅏㄹㅏㅁㄷㅡㄹㅇㅢ', 'ㅁㅜㅅㅣㄱㅎㅏㄴ', 'ㅎㅜㅍㅏㄹ', 'ㅇㅏㄶㅇㅡㄹㄱㅓㅇㅑ', 'ㅂㅜㄹㄹㅓㅈㅜㅅㅔㅇㅛ', 'ㅊㅣㅋㅣㄴ', 'ㅎㅏㄴㄴㅏㅁ', 'ㅇㅓㅄㄷㅐ', 'ㅁㅏㄶㅇㅏㄷㅗ', 'ㅈㅜㅇㄷㅗㄱㅅㅓㅇ', 'ㅈㅏㅂㄷㅐ', 'ㅅㅐㅇㄱㅏㄱㅎㅏㄱㅗ', 'ㄷㅚㄴㅡㄴㄱㅓ', 'ㅊㅔㄹㅕㄱㅇㅣ', 'ㅅㅣㅋㅕㄹㅏ', 'ㅈㅐㅁㅣㅆㄴㅡㄴ', 'ㅅㅣㅍㅇㅓㅆㄴㅡㄴㄷㅔ', 'ㅇㅣㅃㅓㅅㅓ', 'ㅊㅣㄴㅎㅐㅆㄷㅓㄴ', 'ㅅㅐㅂㅕㄱㅇㅔ', 'ㅅㅓㅇㄱㅏㅅㅣㄴ', 'ㅈㅣㅂㅈㅜㅇ', 'ㅅㅣㅁㅎㅏㄴ', 'ㅉㅣㄱㄱㅗ', 'ㄱㅗㅅㅇㅡㄹㅗ', 'ㅆㅓㄹㅏ', 'ㄷㅔㄱㅏ', 'ㅎㅐㅆㅇㅡㅁ', 'ㅁㅜㄹㅇㅓㅂㅘㅅㅓ', 'ㅅㅏㅎㅚㅇㅔ', 'ㅎㅐㅂㅘㄹㅏ', 'ㅅㅣㄱㄷㅏㄴ', 'ㅁㅏㅌㅡ', 'ㄱㅗㅁㅣㄴㅇㅣ', 'ㅈㅣㄱㅈㅏㅇㅇㅔ', 'ㅅㅐㅇㄱㅣㄴㅡㄴ', 'ㅈㅐㅅㅏㄴㅇㅡㄹ', 'ㅈㅣㄴㅇㅕㅇㅇㅓㄴㄴㅣ', 'ㅂㅜㄴㅇㅟㄱㅣ', 'ㅅㅔㅅㅏㅇㅇㅔㅅㅓ', 'ㅈㅏㅅㅣㄴㅇㅔㄱㅔ', 'ㄱㅣㅂㅜㅎㅏㄱㅗ', 'ㅅㅓㄴㅌㅐㄱ', 'ㅅㅓㅇㅜㄴㅎㅐ', 'ㅅㅜㄱㅈㅔ', 'ㅈㅐㅁㅣㄷㅗ', 'ㅇㅗㅎㅐㄹㅡㄹ', 'ㅉㅣㄱㅇㅡㄴ', 'ㄱㅣㅈㅏ', 'ㅈㅗㅎㅇㅏㅈㅣㄴ', 'ㅇㅣㅁㅣㅈㅣ', 'ㅂㅗㅇㅣㄴㅣ', 'ㅅㅗㅁㅜㄴ', 'ㄱㅓㄱㅣ', 'ㅅㅏㄹㅏㅁㅇㅣㄴ', 'ㅈㅣㄹㅌㅜㄴㅏ', 'ㄷㅏㄹㅇㅔ', 'ㅅㅗㄴㅈㅏㄱㅏ', 'ㄱㅗㅈㅏㅇ', 'ㅇㅢㅅㅣㅁ', 'ㅊㅣㄹㅛㄱㅏ', 'ㄴㅜㄹㄹㅓㅆㅅㅡㅂㄴㅣㄷㅏ', 'ㅈㅣㄱㅈㅏㅇㅇㅡㄹ', 'ㄱㅓㄹㅣㄹㅡㄹ', 'ㅌㅚㅅㅏ', 'ㅇㅓㄹㄱㅜㄹㅇㅔ', 'ㅊㅣㅇㅊㅏㄴㅇㅡㄹ', 'ㅂㅏㄴㅇㅡㅇㅇㅣ', 'ㅂㅜㅅㅓ', 'ㄴㅓㄱㅏ', 'ㄱㅏㅁㅅㅏㅎㅏㄴ', 'ㄱㅏㄹㄹㅏㅈㅣㄴㅡㄴ', 'ㄴㅕㄷㅡㄹ', 'ㄴㅠㅅㅡ', 'ㅎㅏㄴㅏㄹㅗ', 'ㅈㅣㄱㅇㅝㄴㄷㅡㄹㅇㅣ', 'ㅋㅜㅇㅋㅘㅇㅇㅣ', 'ㄱㅔㄷㅡㄴ', 'ㅂㅜㄲㅡㄹㅓㅇㅝㅆㅇㅓ', 'ㅎㅐㅇㅂㅗㄱㅎㅏㅅㅔㅇㅛ', 'ㅈㅓㅇㅂㅗ', 'ㅇㅏㄴㄷㅏㄹ', 'ㅆㅡㄹㅓㅈㅕㅆㄴㅡㄴㄷㅔ', 'ㄱㅓㄹㅇㅓ', 'ㅅㅡㄹㅓㅇㅝㅇㅛ', 'ㅂㅐㅅㅅㅏㄹㅇㅣ', 'ㅇㅓㅄㄱㅔ', 'ㄴㅏㄹㅇㅣㄴㄷㅔ', 'ㅇㅓㅁㅁㅏㄹㅡㄹ', 'ㅁㅝㄷㅡㄴ', 'ㅈㅔㅁㅗㄱ', 'ㅌㅗㅇㅂㅗㄹㅡㄹ', 'ㄱㅗㄱㅇㅣ', 'ㅅㅏㅆㄴㅡㄴㄷㅔ', 'ㅍㅡㄹㅗㅈㅔㄱㅌㅡㅇㅔㅅㅓ', 'ㅅㅏㅈㅣㄴㅇㅡㄹ', 'ㄱㅏㅁㄱㅣ', 'ㅈㅗㅎㅇㅏㅇㅛㅇ', 'ㅂㅜㄲㅡㄹㅓㅇㅜㄴ', 'ㄱㅏㅆㄴㅗ', 'ㅈㅐㅁㅣㅇㅓㅄㄴㅔ', 'ㅅㅏㅇㅅㅏㅇㄷㅗ', 'ㄱㅓㄹㅇㅡㄹ', 'ㅈㅗㅎㅇㅏㅈㅣㄱㅗ', 'ㄴㅏㄱㅏㄱㅗ', 'ㅈㅏㄹㅁㅗㅅㅇㅡㄹ', 'ㅁㅏㄴㄴㅏㅁㅕㄴ', 'ㄱㅡㅁㅏㄴㄷㅜㄱㅗ', 'ㅇㅣㄹㅎㅏㄱㅗ', 'ㅇㅘㄴㅈㅓㄴㅎㅣ', 'ㄸㅏㄸㅡㅅㅎㅏㄱㅗ', 'ㅈㅣㄱㅇㅝㄴㅇㅣ', 'ㅈㅜㄱㅇㅓ', 'ㄴㅗㅁㄷㅡㄹㅇㅡㄴ', 'ㅎㅐㅆㅇㅡㄹㅌㅔㄴㄷㅔ', 'ㅁㅏㅇㅊㅕㅆㅇㅓ', 'ㅇㅣㄹㅇㅡㄴ', 'ㅇㅜㄴㅈㅓㄴ', 'ㄷㅡㅇㅅㅏㄴ', 'ㅅㅏㄹㅉㅏㄱ', 'ㅈㅡㄹㄱㅓㅇㅜㄴ', 'ㅎㅏㄷㅏㄱㅗ', 'ㅅㅜㅅㅏ', 'ㅈㅗㅎㅇㅏㅈㅕㅆㅇㅓ', 'ㅁㅏㄱㅁㅏㄱㅎㅐ', 'ㅂㅜㄹㅆㅏㅇㅎㅏㄷㅏ', 'ㄷㅏㄹㄱㅗ', 'ㅅㅜㄴㅇㅣ', 'ㄱㅏㅌㄴㅗ', 'ㅂㅓㅂㅇㅡㄹ', 'ㅎㅏㄹㅜㅎㅏㄹㅜㄱㅏ', 'ㅁㅏㄴㄷㅡㄹㅇㅓㅈㅜㅅㅕㅅㅓ', 'ㄴㅏㄱㅏㄴㅡㄴ', 'ㅎㅏㄹㄱㅓㅅ', 'ㅎㅏㅂㅅㅣㄷㅏ', 'ㅅㅐㅇㄱㅏㄱㄴㅏㄴㅔㅇㅛ', 'ㅅㅗㄱㅇㅔㅅㅓ', 'ㅁㅓㄱㄱㅔ', 'ㅈㅗㄴㅈㅜㅇ', 'ㄴㅗㅈㅐㅁㅇㅣㄴㅔ', 'ㅇㅏㅂㅓㅈㅣ', 'ㄸㅏㄹㅇㅡㄴ', 'ㅎㅐㅇㄷㅗㅇㅇㅣ', 'ㄴㅏㅁㅇㅏㅆㄴㅡㄴㄷㅔ', 'ㅊㅓㅅㅅㅏㄹㅏㅇ', 'ㅂㅏㄴㄷㅡㅅㅣ', 'ㄷㅏㄴㅊㅔ', 'ㅍㅐㄴㅇㅣㅇㅔㅇㅛ', 'ㄱㅕㄹㅎㅗㄴㅎㅏㄱㅗ', 'ㅊㅣㄴㄱㅜㄷㅗ', 'ㅇㅓㅄㅇㅡㄹㄲㅏ', 'ㅈㅏㄴㅏ', 'ㅁㅣㄷㄴㅡㄴ', 'ㅁㅏㄴㅎㅐㄷㅗ', 'ㅇㅕㅇㅅㅏㅇㅇㅣ', 'ㄱㅗㅅㅐㅇㅇㅡㄹ', 'ㅅㅓㅇㅜㄹ', 'ㄱㅏㄱㅣㄱㅏ', 'ㅅㅏㅇㅇㅣㄴㅔㅇㅛ', 'ㅎㅐㅂㅘㅆㅈㅏ', 'ㅈㅣㄴㅈㅣㅎㅏㄱㅔ', 'ㄱㅏㅈㅗㄱㅇㅡㄹ', 'ㅂㅏㄴㅇㅣ', 'ㅋㅡㄹㄹㅏㅅㅡ', 'ㅇㅣㅃㅡㄱㅔ', 'ㅎㅏㄴㅊㅏㅁ', 'ㄴㅓㅁㅊㅣㄴㅡㄴ', 'ㄷㅡㄹㅕㅆㅇㅓ', 'ㄷㅚㅅㅔㅇㅛ', 'ㅎㅐㅆㄴㅡㄴㄷㅔㄷㅗ', 'ㅊㅐㄱㅇㅡㄹ', 'ㄱㅣㅇㅜㄴ', 'ㅂㅗㄴㅇㅣㄴ', 'ㅂㅜㅁㅗㄴㅣㅁㅇㅢ', 'ㅈㅏㅇㄱㅣ', 'ㅃㅗㅂㅇㅏ', 'ㅅㅏㄹㅏㅇㅂㅏㄷㄱㅗ', 'ㅈㅓㄴㅎㅏㄱ', 'ㅇㅠㅌㅠㅂㅡ', 'ㅇㅣㄹㄷㅡㅅ', 'ㅁㅓㄱㅇㅡㅁ', 'ㅌㅓㅈㅣㄱㅗ', 'ㄱㅡㄹㅓㄴㅣㄲㅏ', 'ㅎㅏㅇㅕㄱㅏㄴ', 'ㄴㅣㄷㅡㄹㅇㅡㄴ', 'ㅅㅏㄹㅇㅣㄴ', 'ㄱㅕㄹㅎㅗㄴㅅㅣㄱㅇㅡㄹ', 'ㄱㅡㄹㅓㄴㅔ', 'ㄱㅓㅅㅂㅗㄷㅏ', 'ㄴㅜㄴㅇㅔ', 'ㅂㅓㄹㅣㄹ', 'ㅎㅏㄱㅔㅆㄴㅔ', 'ㅃㅏㄹㅇㅏ', 'ㅅㅐㅇㄱㅏㄱㄴㅏㄴㅔ', 'ㄱㅟㅇㅕㅇㅜㄴ', 'ㅃㅜㄴㅇㅣㄷㅏ', 'ㅇㅓㅄㅇㅡㄹㄱㅓㅇㅑ', 'ㅅㅗㄱㅇㅔ', 'ㅊㅣㅁㅐ', 'ㅇㅏㅍㅡㅈㅣ', 'ㄷㅡㄹㅏㅁㅏㄹㅡㄹ', 'ㅅㅏㄹㅏㅇㅎㅏㄱㅗ', 'ㅈㅜㄴㄷㅏㄱㅗ', 'ㅁㅣㅌㅜ', 'ㅋㅡㄱㅗ', 'ㄱㅓㄹㄹㅕㅆㅇㅓ', 'ㅇㅏㄹㅡㅂㅏㅇㅣㅌㅡㄹㅡㄹ', 'ㅊㅜㅇㄱㅕㄱㅇㅡㄹ', 'ㅇㅣㅆㅇㅓㅆㅇㅡㅁㅕㄴ', 'ㄷㅓㄱㅇㅔ', 'ㅁㅏㄴㄷㅡㄴㅡㄴ', 'ㄴㅗㅇㅖ', 'ㄷㅡㄹㅇㅓㅇㅘ', 'ㅇㅐㄱㅜㄱ', 'ㅈㅜㄱㄱㅔㅆㅇㅓ', 'ㄱㅓㅅㅇㅣㄷㅏ', 'ㄷㅡㄹㅏㅁㅏㄴㅡㄴ', 'ㅍㅕㅇㄱㅏ', 'ㅅㅓㄴㅁㅜㄹㄹㅗ', 'ㅎㅐㅂㅗㄴㅣ', 'ㅇㅕㄹㄷㅡㅇㄱㅏㅁㅇㅣ', 'ㅅㅏㄴㄷㅏ', 'ㅎㅏㄴㄱㅕㄹ', 'ㅃㅏㄹㄱㅗ', 'ㄱㅓㄴㄱㅏㅇㅎㅐ', 'ㅅㅐㅇㅎㅘㄹㅇㅣ', 'ㅈㅏㅂㅇㅏ', 'ㅅㅏㄹㅏㅁㅇㅣㄷㅏ', 'ㅈㅜㅇㄱㅏㄴ', 'ㅈㅜㅇㄱㅏㄴㅇㅔ', 'ㅇㅗㄹㄹㅕ', 'ㅂㅜㅂㅜㄱㅏ', 'ㅇㅠㅁㅕㅇㅎㅏㄴ', 'ㅇㅣㄴㄱㅣㄱㅏ', 'ㄷㅡㄹㄷㅗ', 'ㄴㅗㄹㅐㄴㄷㅔ', 'ㅁㅏㄹㅇㅣㅈㅣ', 'ㅇㅏㅁㅜㅌㅡㄴ', 'ㅁㅓㅅㅈㅣㅂㄴㅣㄷㅏ', 'ㅈㅏㄹㄴㅏㄴ', 'ㅁㅏㅅㅔㅇㅛ', 'ㅅㅣㄴㅈㅏㅇ', 'ㅎㅗㄴㄴㅏㄹ', 'ㅆㅓㅇㅑ', 'ㄴㅜㄱㅜ', 'ㅊㅣㄴㄱㅜㄷㅡㄹㅎㅏㄴㅌㅔ', 'ㅇㅣㅆㄷㅏㄱㅏ', 'ㄱㅟㅎㅏㄴ', 'ㅎㅏㄴㅏㄴㅡㄴ', 'ㅎㅕㄴㅅㅣㄹㅇㅡㄴ', 'ㅂㅏㄹㄹㅗ', 'ㄴㅡㄲㅣㄱㅗ', 'ㄱㅟㄱㅏ', 'ㅇㅐㅊㅗㅇㅔ', 'ㅍㅣㅎㅏㄴㅡㄴ', 'ㅊㅣㄴㄱㅜㄷㅡㄹㄷㅗ', 'ㅅㅏㄴㅑ', 'ㅁㅏㄹㅂㅏㄲㅇㅔ', 'ㄱㅜㄷㅗㄱㄱㅘ', 'ㄴㅐㅈㅣ', 'ㅎㅏㅁㅂㅜㄹㅗ', 'ㅌㅜㅈㅏ', 'ㅁㅓㅅㅈㅣㄱㅗ', 'ㅅㅐㅇㅁㅕㅇ', 'ㅈㅏㄷㅡㄹ', 'ㄴㅏㅅㅈㅣ', 'ㅇㅏㅁㅌㅡㄴ', 'ㄴㅗㄹㄱㅗ', 'ㅂㅗㄹㄲㅏ', 'ㄷㅏㄹㄹㅣ', 'ㄱㅓㄴㅡㄴ', 'ㅈㅗㅇㅈㅗㅇ', 'ㅆㅡㅁㅕㄴ', 'ㄷㅐㅊㅜㅇ', 'ㅂㅏㄷㅇㅏㄷㅗ', 'ㅈㅗㅍㅏㄹ', 'ㄸㅓㄹㄹㅕ', 'ㅍㅡㄹㄹㅔㄱㅅㅡ', 'ㅇㅗㄴㅁㅗㅁㅇㅣ', 'ㅊㅣㅁㅣㄹㅇㅓ', 'ㅈㅏㅇㅇㅐ', 'ㅈㅗㅎㅇㅏㅎㅐㅆㄷㅓㄴ', 'ㅎㅏㄴㅡㄴㄷㅔㄷㅗ', 'ㅈㅗㅎㅇㅏㅆㄴㅡㄴㄷㅔ', 'ㅎㅚㅅㅏㄴㅡㄴ', 'ㅎㅏㄴㅑㄱㅗ', 'ㅈㅏㅊㅔ', 'ㅂㅗㄴㅐ', 'ㄲㅡㅌㅇㅣ', 'ㅂㅏㅇㅇㅡㄹ', 'ㄷㅏㅇㅅㅓㄴ', 'ㅅㅡㄹㅓㅂ', 'ㅈㅓㅁㅇㅡㄹ', 'ㅇㅣㅂㅇㅔ', 'ㄱㅏㅁㅎㅣ', 'ㄴㅏㅈㅣ', 'ㅎㅐㅅㅓㄴㅡㄴ', 'ㄷㅚㄴㅏ', 'ㅇㅏㅍㅡㄹ', 'ㄱㅓㄹㅏㄴㅡㄴ', 'ㄴㅕㄴㅇㅣㄴㅏ', 'ㅍㅕㅇㅅㅐㅇㅇㅡㄹ', 'ㅈㅓㅇㅅㅏㅇ', 'ㄱㅏㅈㅗㄱㄱㅘ', 'ㄴㅏㄱㅏㅆㅇㅓ', 'ㅁㅜㅇㅓㅅㅇㅡㄹ', 'ㄱㅗㅅㅗ', 'ㅇㅛㄹㅣㄹㅡㄹ', 'ㄱㅓㅅㅇㅣㄹㅏㄱㅗ', 'ㅊㅏㅁㅇㅕ', 'ㅂㅓㅁㅈㅜㄴ', 'ㄴㅏㄱㅏㅆㄴㅡㄴㄷㅔ', 'ㄱㅐㅅㅐㄲㅣ', 'ㅈㅣㄴㅎㅏㄱ', 'ㅇㅕㅇㅅㅏㅇㄷㅗ', 'ㅂㅏㄴㄷㅐㄹㅗ', 'ㅂㅗㄴㅣㄲㅏㄴ', 'ㅈㅐㅁㅣㅆㅇㅓㅇㅛ', 'ㄷㅡㄹㅣㅂ', 'ㅂㅓㄹㅕ', 'ㅊㅚㅇㅐ', 'ㅈㅜㅈㅔ', 'ㄴㅣㅁㅣ', 'ㅇㅢㄱㅕㄴㅇㅡㄹ', 'ㅇㅏㄷㅡㄹㅇㅢ', 'ㅇㅣㄹㅓㄴㅣ', 'ㅇㅗㅈㅣㄱㅔ', 'ㄴㅓㅎㅇㅓㅅㅓ', 'ㅈㅡㄹㄱㅓㅂㄱㅔ', 'ㅇㅕㅈㅏㄷㅡㄹㅇㅡㄴ', 'ㅅㅏㄴㅡㄴㄷㅔ', 'ㅇㅗㄴㄷㅏㄱㅗ', 'ㄴㅗㄹㅐㅇㅔㅇㅛ', 'ㄱㅡㄹㅇㅡㄹ', 'ㅇㅏㄶㅇㅏㅆㄴㅡㄴㄷㅔ', 'ㅎㅏㄱㅣㅇㅔ', 'ㄱㅣㅈㅓㄱㅇㅡㄹ', 'ㄷㅗㅇㅘㅈㅜㅈㅣ', 'ㅅㅣㄹㅈㅓㄱㅇㅣ', 'ㄴㅡㄱㅡㅅㅎㅏㄴ', 'ㄷㅏㄹㅉㅐ', 'ㅇㅐㅂㅣ', 'ㅂㅜㅈㅏㅇㄴㅣㅁㅇㅣ', 'ㅇㅖㄴㅡㅇ', 'ㅇㅕㅅㅣㄴ', 'ㅂㅏㅇㅁㅜㄴ', 'ㅅㅣㄹㅕㄱㅇㅣ', 'ㅅㅜㄴㅅㅜㅎㅏㄴ', 'ㅇㅐㅇㅣㄴㄱㅘ', 'ㄷㅓㄹㅏ', 'ㅎㅏㅂㅂㅕㅇㅈㅡㅇ', 'ㅂㅏㄺㅇㅡㄴ', 'ㅅㅗㄴㅇㅡㄹㅗ', 'ㅂㅘㅆㅇㅡㄹ', 'ㄲㅡㅌㄴㅏㅁㅕㄴ', 'ㅂㅏㄱㄱㅗ', 'ㅈㅗㅇㅂㅜㄱ', 'ㄱㅓㄹㄱㅗ', 'ㅅㅜㄹㅇㅔ', 'ㅊㅜㄱㅏ', 'ㅂㅗㄷㅗ', 'ㄱㅏㄴㅡㅇㅎㅏㄴ', 'ㅎㅜㄹㄹㅠㅇㅎㅏㄴ', 'ㄷㅚㅁㅕㄴㅅㅓ', 'ㄱㅣㄹㅔㄱㅣ', 'ㅅㅓㅇㅂㅓㅁㅈㅚ', 'ㅁㅏㄴㅎㅏㅁㅕㄴ', 'ㅅㅜㅇㅛㅇ', 'ㄴㅗㄴㅡㄴ', 'ㄴㅗㅁㅇㅡㄴ', 'ㅇㅗㅃㅏ', 'ㅇㅕㅈㅏㅎㅏㄴㅌㅔ', 'ㅅㅟㄱㅗ', 'ㅇㅜㅍㅏ', 'ㄴㅏㄹㅏㄹㅡㄹ', 'ㅁㅓㅅㅈㅣㅅㅔㅇㅛ', 'ㅇㅟㅇㅏㅁ', 'ㅁㅜㄴㅇㅡㄹ', 'ㅋㅗㄴㅅㅓㅌㅡ', 'ㄷㅚㅇㅓㅆㄷㅏㄴㅡㄴ', 'ㄱㅕㄲㄱㅗ', 'ㅇㅕㄴㅇㅖㅇㅣㄴㄷㅡㄹ', 'ㅂㅏㄷㅇㅡㄹㅓ', 'ㄱㅏㅂㅈㅏㄱㅅㅡㄹㅓㅂㄱㅔ', 'ㅅㅐㅇㄱㅏㄱㅎㅏㄴ', 'ㅈㅏㄹㅣㅇㅔ', 'ㄸㅏㄷㅗㄹㄹㅕㅆㅇㅓ', 'ㄷㅓㄴㅣ', 'ㅇㅢㅁㅣ', 'ㅇㅓㅇㅜㄹㄹㅣㄴㅡㄴ', 'ㅇㅖㅅㄴㅏㄹ', 'ㅅㅏㅇㅓㅂㅇㅡㄹ', 'ㅆㅏㅇㅝㅆㄴㅡㄴㄷㅔ', 'ㄱㅚㄹㅗㅂㅎㅕㅆㄷㅓㄴ', 'ㅇㅠㅂㅏㅇㅇㅏㅁ', 'ㅍㅕㄴㅇㅡㄹ', 'ㄱㅕㄹㅅㅡㅇ', 'ㄸㅐㄹㅕ', 'ㄱㅗㅅㅐㅇㅎㅏㄱㅗ', 'ㅎㅏㄱㄱㅛㅍㅗㄱㄹㅕㄱ', 'ㅅㅔㄱㅡㅁㅇㅡㄹㅗ', 'ㄷㅡㄷㅈㅏㅁㅏㅈㅏ', 'ㅇㅣㅇㅠㄹㅡㄹ', 'ㅎㅐㅇㅂㅗㄱㅇㅡㄹ', 'ㅎㅗㄴㅈㅏㅅㅓ', 'ㅅㅡㄹㅓㅂㄷㅏ', 'ㅎㅐㅈㅜㅅㅣㄴ', 'ㅂㅏㄱㅅㅜ', 'ㄴㅓㅁㅇㅓㅈㅕㅅㅓ', 'ㄸㅏㄹㅇㅡㄹ', 'ㅎㅏㄴㅏㅁㅏㄴ', 'ㅇㅣㄴㅈㅓㅇㅇㅡㄹ', 'ㄱㅕㄹㅈㅓㅇ', 'ㅊㅏㅂㅕㄹㄱㅡㅁㅈㅣㅂㅓㅂ', 'ㄷㅗㅇㅇㅕㅇㅅㅏㅇ', 'ㄷㅏㄴㅣㅁㅕㄴㅅㅓ', 'ㅎㅏㄹㅜㄷㅗ', 'ㅅㅏㄹㅏㅁㄷㅡㄹㄷㅗ', 'ㅂㅗㅇㅣㄴㅔ', 'ㅂㅜㄴㅇㅟㄱㅣㄱㅏ', 'ㅈㅓㄴㅎㅕㅇㅈㅓㄱㅇㅣㄴ', 'ㅁㅗㄱㅅㅗㄹㅣㅇㅔ', 'ㅅㅡㅌㅡㄹㅔㅅㅡㄹㅡㄹ', 'ㅈㅣㄱㅕㅇㅇㅣㅇㅑ', 'ㅇㅓㅂㅁㅜㄱㅏ', 'ㅇㅢㄹㅛ', 'ㅇㅐㄱㅣ', 'ㅅㅜㅇㅓㅂㅇㅡㄹ', 'ㅎㅏㅇㅇㅏㅁ', 'ㅇㅣㄴㄱㅏㄴㅇㅡㄴ', 'ㅇㅓㄹㄹㅡㄴ', 'ㄱㅣㅇㅜㄴㅇㅣ', 'ㅇㅏㅁㅜㄹㅓㅎㅈㅣ', 'ㄱㅡㄹㄱㅗ', 'ㅊㅜㅁㅇㅡㄹ', 'ㅇㅏㄱㅏ', 'ㅂㅗㄱㅗㄷㅗ', 'ㅇㅏㄴㅡㄴㄷㅔ', 'ㅇㅓㄹㅕㅇㅝㅅㅓ', 'ㅅㅏㄴㅇㅔ', 'ㅈㅜㄱㅇㅣㄱㅗ', 'ㅇㅏㅍㅡㄴㅣㄲㅏ', 'ㄴㅜㄴㅊㅣㄱㅏ', 'ㅇㅛㅇㄱㅣㄱㅏ', 'ㅇㅘㅇㄸㅏㄹㅡㄹ', 'ㅇㅗㄴㅣ', 'ㅈㅓㄹㅓㄴㄱㅔ', 'ㄱㅗㅅㅇㅡㄴ', 'ㄴㅚㄱㅏ', 'ㄱㅓㄹㅣㄱㅏ', 'ㄱㅡㄴㅊㅓ', 'ㄷㅡㄹㅇㅡㄹㅅㅜㄹㅗㄱ', 'ㅁㅗㄹㄹㅏㄷㅗ', 'ㄷㅜㄹㅕㅂㄱㅗ', 'ㅎㅏㄴㅂㅓㄴㄷㅗ', 'ㅇㅣㄹㅈㅏㄹㅣ', 'ㄴㅜㄴㅇㅡㄹ', 'ㅊㅕㄷㅏㅂㅗㄴㅡㄴ', 'ㅁㅜㄴㅎㅘ', 'ㅎㅏㄹㅏ', 'ㄱㅐㄴㅕㅁ', 'ㅇㅣㄴㅅㅏ', 'ㄱㅗㅁㅏㅂㄱㅗ', 'ㄱㅏㅇㄱㅏㄴ', 'ㅈㅣㄴㅐㄱㅗ', 'ㅅㅜㅈㅜㄴㅇㅣ', 'ㅎㅏㅅㅣㄴㅡㄴㄷㅔ', 'ㅅㅣㅋㅕㅅㅓ', 'ㄷㅓㅁㅏㄴ', 'ㄴㅗㅌㅡㄹㅡㄹ', 'ㅎㅗㄱㅅㅣㄴㅏ', 'ㅈㅜㄴㅂㅣㄱㅏ', 'ㅈㅓㄴㄲㅏㅈㅣ', 'ㅁㅏㄹㄹㅗ', 'ㄷㅙㅆㄷㅏ', 'ㅅㅐㅂㅕㄱ', 'ㅇㅐㅂㅣㄱㅏ', 'ㅈㅓㄴㅡㅇ', 'ㅈㅓㄱㄷㅏㅇㅎㅣ', 'ㄹㅔㅇㅏㄹ', 'ㄷㅗㅈㅓㅎㅣ', 'ㅈㅓㄴㅡㅇㅇㅏ', 'ㄱㅏㅌㅈㅣㄱㅏ', 'ㅁㅣㅊㅣㄱㅔㅆㅇㅓ', 'ㅂㅜㄹㅍㅕㄴㅎㅐㅅㅓ', 'ㅅㅜㅁㅇㅣ', 'ㅂㅜㄹㅂㅓㅂ', 'ㄱㅓㅁㅅㅐㄱ', 'ㅎㅏㅈㅣㄷㅗ', 'ㅍㅣㅂㅜ', 'ㄱㅗㅌㅗㅇ', 'ㄷㅣㅅㅡㅋㅡ', 'ㅁㅣㅊㅣㄹ', 'ㄱㅓㄱㅈㅓㅇㅇㅡㄹ', 'ㄴㅗㅁㅜㅎㅕㄴ', 'ㅇㅐㅇㄴㅏ', 'ㅈㅐㅅㅜ', 'ㅂㅏㄷㄴㅡㄴㄷㅔ', 'ㅊㅐㅇㅛㅇ', 'ㅂㅗㄴㅔㅇㅛ', 'ㅇㅢㅈㅣ', 'ㅂㅗㄹㅕㄱㅗ', 'ㄱㅗㅂㅐㄱㅇㅡㄹ', 'ㅈㅜㅅㅏㄹㅡㄹ', 'ㄱㅜㄷㅗㄱㅇㅡㄹ', 'ㅇㅏㄶㄴㅏ', 'ㅂㅜㄴㅇㅟㄱㅣㄷㅗ', 'ㅇㅛㅇㅑㅇㅇㅝㄴㅇㅔ', 'ㅂㅐㅇㅜㄹ', 'ㅈㅣㅇㅝㄴㅇㅡㄹ', 'ㄱㅏㅅㅏㄷㅗ', 'ㄱㅓㅅㅇㅡㄹㅗ', 'ㅇㅓㅄㅇㅓㄷㅗ', 'ㅈㅗㅁㅏㄴㄱㅏㄴ', 'ㅅㅏㄻㅇㅢ', 'ㅁㅗㅇㅣㅁㅇㅔㅅㅓ', 'ㄴㅗㄹㅐㅇㅣㄴㄷㅔ', 'ㄴㅡㅈㅇㅓㅅㅓ', 'ㅁㅏㄹㅇㅏ', 'ㅅㅣㅍㅇㅡㄹ', 'ㅁㅏㄹㄷㅐㄹㅗ', 'ㄱㅗㅇㅂㅜㅁㅏㄴ', 'ㅈㅣㄱㅡㅅㅈㅣㄱㅡㅅㅎㅐ', 'ㄱㅣㄷㅏㄹㅣㄱㅗ', 'ㅂㅜㅂㅜㄴㅡㄴ', 'ㅇㅏㄴㅣㄴㅈㅣ', 'ㅊㅚㄱㅗㄹㅗ', 'ㄷㅚㄹㄷㅡㅅ', 'ㅈㅓㅇㅁㅏㄹ', 'ㅇㅏㄴㅌㅏㄲㅏㅇㅝ', 'ㅅㅣㅀㅇㅡㅁ', 'ㅅㅏㅈㅏㅇㄴㅣㅁㅇㅣ', 'ㅎㅗㅌㅔㄹ', 'ㄷㅚㄴㄷㅐ', 'ㅇㅏㅍㅡㄷㅏ', 'ㅂㅘㅇㅑㅈㅣ', 'ㅇㅏㄱㅏㄹㅣ', 'ㄴㅏㅇㅣㄷㅗ', 'ㄴㅜㄴㅏㄱㅏ', 'ㅅㅏㄱㅓㄴㅇㅣ', 'ㅂㅏㅇㅎㅐ', 'ㄷㅚㅇㅓㅆㄷㅏㄱㅗ', 'ㄴㅡㄲㅕㅈㅣㄴㄷㅏ', 'ㄷㅚㄷㅏㄴㅣ', 'ㅇㅣㅆㄴㅑㄱㅗ', 'ㅅㅐㅇㄱㅕㅆㄷㅏㄱㅗ', 'ㅈㅣㄹㅁㅜㄴ', 'ㅇㅓㅄㅇㅓㅈㅕㅅㅓ', 'ㅇㅏㄲㅣㄴㅡㄴ', 'ㄴㅏㄹㅏㅇㅢ', 'ㄱㅘㄴㅅㅣㅁㅇㅡㄹ', 'ㅂㅏㄷㅇㅏㅆㅅㅡㅂㄴㅣㄷㅏ', 'ㅁㅏㅇㄱㅏ', 'ㄱㅓㄹㄹㅕㅆㄷㅏㄱㅗ', 'ㄱㅏㅇㅇㅏㅈㅣ', 'ㄱㅗㄷㅡㅇㅎㅏㄱㄱㅛㅇㅔ', 'ㄱㅡㄴㅕㄱㅏ', 'ㄴㅏㅎㅇㅡㄴ', 'ㅊㅣㄴㅎㅏㄱㅔ', 'ㄱㅡㄹㅓㄴㅡㄴ', 'ㄱㅜㄴㅏ', 'ㄴㅗㅍㅇㅏㅅㅓ', 'ㅅㅣㅍㄷㅏㄴㅡㄴ', 'ㅇㅜㅅㄱㅣㄴㅔ', 'ㄴㅏㅁㅅㅓㅇ', 'ㅅㅣㄴㄹㅚ', 'ㅅㅏㄹㅏㅁㅇㅣㄴㄷㅔ', 'ㄲㅏㄱㅗ', 'ㅎㅐㅇㅚ', 'ㅁㅣㄴㅈㅗㄱ', 'ㄱㅏㅂㅏㅇㅇㅡㄹ', 'ㅎㅏㄱㅔㅆㅈㅣ', 'ㅅㅗㄴㅇㅡㄹ', 'ㅅㅏㄴㅂㅜㄹ', 'ㅎㅏㅈㅣㅁㅏ', 'ㄷㅐㄷㅏㄴㅎㅏㄴㅔ', 'ㅇㅕㅇㅎㅑㅇㄹㅕㄱ', 'ㅈㅓㄻㅇㅓ', 'ㅇㅏㅃㅏㄹㅏㅇ', 'ㄴㅡㄲㅣㄱㅔ', 'ㅇㅕㄴㅅㅜ', 'ㅃㅏㅈㅣㄱㅔ', 'ㅇㅏㄹㅇㅏㅆㅇㅓㅇㅛ', 'ㅅㅏㅇㅓㅂㅇㅣ', 'ㅇㅏㄶㄷㅏ', 'ㅈㅗㅎㅇㅏㅈㅣㄴㅡㄴ', 'ㅈㅐㅇㅏㅇㅇㅣ', 'ㄱㅡㄱㅓㄴ', 'ㅇㅏㄶㅇㅡㅁ', 'ㅉㅣㅈㅣㄹ', 'ㅅㅣㅁㅈㅓㅇㅇㅣㅇㅑ', 'ㄷㅏㅊㅕㅅㅓ', 'ㅇㅢㅇㅛㄱㅇㅣ', 'ㄱㅜㅂㅜㄴ', 'ㅅㅡㄹㅅㅡㄹ', 'ㅅㅡㅌㅡㄹㅔㅅㅡㄱㅏ', 'ㄴㅏㅂㄴㅣㄷㅏ', 'ㅁㅕㅊㅂㅓㄴ', 'ㄱㅣㄷㅏㄹㅣㄴㅡㄴ', 'ㅇㅐㄷㅡㄹㅇㅔㄱㅔ', 'ㅇㅣㅆㅇㅓㅆㄷㅓㄴ', 'ㅇㅣㅂㅓㄴㅇㅔㄴㅡㄴ', 'ㄱㅗㅇㅂㅜㄴㅡㄴ', 'ㄲㅡㅌㅇㅔ', 'ㅇㅣㅇㅓㅆㄷㅏ', 'ㅇㅣㄴㄱㅗㅇ', 'ㅂㅓㄹㅇㅓㅅㅓ', 'ㅅㅓㅇㄱㅕㄱ', 'ㄱㅜㄱㅁㅣㄴㅇㅣ', 'ㅌㅏㄴㅡㄴ', 'ㅂㅜㅁㅗㄴㅣㅁㅇㅡㄹ', 'ㅁㅏㅁㅜㄹㅣ', 'ㄴㅡㅈㄱㅔㄲㅏㅈㅣ', 'ㄷㅡㄹㅂㅗㅁㅕㄴ', 'ㅍㅕㄴㅎㅏㄱㅗ', 'ㅊㅏㅈㅇㅏㅇㅘㅅㅓ', 'ㅇㅓㄴㅈㅔㅂㅜㅌㅓ', 'ㅇㅓㄹㄱㅜㄹㅇㅡㄴ', 'ㅅㅣㅇㄱㅡㄹㅂㅓㅇㄱㅡㄹ', 'ㅌㅚㅈㅣㄱㅎㅏㄱㅗ', 'ㅇㅠㄷㅗㄱ', 'ㅇㅏㄴㅣㅈㅣㅁㅏㄴ', 'ㅁㅜㄴㅈㅔㅇㅑ', 'ㅇㅏㄴㅅㅣㅁㅇㅣ', 'ㄷㅐㄷㅏㄴㅎㅐ', 'ㅈㅜㄹㅇㅡㄴ', 'ㅎㅗㅇㅂㅗ', 'ㅇㅜㅅㅡㅇ', 'ㅇㅕㅇㅇㅝㄴㅎㅣ', 'ㅋㅡㄴㅇㅣㄹ', 'ㅈㅏㅃㅏㅈㅕㅆㄴㅔ', 'ㅅㅜㄴㄱㅏㄴㅇㅣ', 'ㄴㅗㄹㅐㅁㅏㄴ', 'ㅇㅜㅅㄱㅗ', 'ㅂㅏㄴㅇㅔ', 'ㅂㅗㄱㅣㄱㅏ', 'ㅇㅚㅊㅜㄹ', 'ㅌㅐㅇㅓㄴㅏㄴ', 'ㅁㅓㄹㅣㅇㅔ', 'ㅊㅕㅆㄴㅡㄴㄷㅔ', 'ㅎㅏㄴㅡㄴㄱㅜㄴㅏ', 'ㄹㅣㅇㅓㄹ', 'ㅁㅕㄴㅈㅓㅂㅇㅡㄹ', 'ㅅㅣㅈㅡㄴ', 'ㅈㅓㄴㅂㅜㅌㅓ', 'ㄷㅡㅅㅎㅏㄴ', 'ㄷㅏㅁㅇㅣㅁ', 'ㅇㅡㅁㅅㅣㄱㅇㅣ', 'ㅂㅏㅇㄱㅡㅁ', 'ㅊㅚㄱㅗㅇㅑ', 'ㄱㅚㄹㅗㅂㅎㅣㄱㅗ', 'ㅁㅓㄱㅇㅓㅆㄷㅓㄴㅣ', 'ㅈㅓㅂㅓㄴㅇㅔ', 'ㅅㅏㄹㄹㅕㄱㅗ', 'ㅍㅡㄹㅗㅈㅔㄱㅌㅡㄱㅏ', 'ㅁㅜㅅㅏㄴ', 'ㅊㅗㄱㅣ', 'ㄷㅐㄱㅏ', 'ㅇㅏㅈㅜㅁㅁㅏㄷㅡㄹ', 'ㅅㅏㄹㅇㅏㅅㅓ', 'ㅉㅕㅅㅓ', 'ㅋㅓㄴㅅㅔㅂ', 'ㅅㅏㄹㅏㅁㅇㅡㄹㅗ', 'ㄱㅜㄹㅏ', 'ㅍㅡㄹㅗㄱㅡㄹㅐㅁ', 'ㅅㅣㄱㅏㄴㅁㅏㄴ', 'ㅇㅣㅀㅇㅓ', 'ㅊㅣㄱㅏ', 'ㅉㅣㅈㅇㅓ', 'ㅍㅗㅎㅏㅁ', 'ㅂㅓㄹㅇㅓ', 'ㅇㅕㅆㄷㅓㄴ', 'ㅈㅗㅎㅇㅏㅎㅐㅇㅛ', 'ㅂㅣㅇㅠㄹ', 'ㅃㅏㅈㅣㄱㅗ', 'ㅆㅏㄱㅏㅈㅣ', 'ㅅㅣㄴㄱㅗㄱ', 'ㅁㅣㄷㅇㅡㅁ', 'ㅈㅔㄴㄷㅓ', 'ㄷㅗㅇㅅㅓㅇㅇㅐ', 'ㅇㅏㅈㅜㅁㅁㅏ', 'ㅇㅜㄹㅇㅓㅆㅇㅓ', 'ㅅㅏㅇㅅㅏㅇㅔㄱㅔ', 'ㅈㅣㅇㅡㄴ', 'ㅈㅏㄱㅕㄱㅈㅡㅇ', 'ㄴㅜㄴㅣㅁ', 'ㅈㅏㅂㅜ', 'ㅊㅐㄹㅗ', 'ㅇㅐㅈㅓㅇ', 'ㅎㅏㅅㅕㅆㄴㅡㄴㄷㅔ', 'ㄱㅛㅅㅜㄴㅣㅁㅇㅣ', 'ㅇㅗㄹㅏㄱㅗ', 'ㄱㅏㅅㅏㅇㅘ', 'ㅈㅡㅇㅅㅏㅇㅇㅣ', 'ㅊㅏㅁㄱㅗㄹㅗ', 'ㅅㅗㄹㅣㄹㅗ', 'ㅈㅗㄴㄱㅕㅇㅎㅏㄱㅗ', 'ㅁㅏㄹㅆㅡㅁㅇㅡㄹ', 'ㄴㅏㄱㅏㄴ', 'ㄷㅐㅎㅏㄴㅡㄴ', 'ㄱㅘㄴㅈㅓㄹㅇㅣ', 'ㄱㅘㅈㅔㄹㅡㄹ', 'ㄷㅏㅇㅎㅗㄱㅅㅡㄹㅓㅇㅝㅆㅇㅓ', 'ㅅㅐㄲㅣㄴㅡㄴ', 'ㄷㅡㄹㅇㅓㅆㄷㅓㄴ', 'ㅍㅣㅇㅜㄴㅡㄴ', 'ㄸㅗㄱㅂㅏㄹㅗ', 'ㅅㅣㅋㅕㅆㅇㅓ', 'ㄷㅏㄹㄹㅏ', 'ㅅㅡㅅㅣ', 'ㅆㅏㅇㅝ', 'ㅅㅣㄴㄱㅕㅇㄷㅗ', 'ㅈㅣㅅㄱㅓㄹㅣ', 'ㄹㅗㅅㅓ', 'ㅂㅗㄴㅐㅈㅣ', 'ㅂㅣㅇㅜㅅㄴㅡㄴ', 'ㅂㅜㄹㅓㅂ', 'ㅍㅖㅈㅣ', 'ㄴㅐㅅㅣㄱㅕㅇ', 'ㅈㅏㄹㅁㅗㅅㅇㅣ', 'ㅅㅜㅈㅓㅇ', 'ㄱㅏㅈㅡㅇㅏ', 'ㅇㅗㄹㄹㅕㅈㅜㅅㅕㅅㅓ', 'ㅁㅏㄶㄷㅏㄱㅗ', 'ㅈㅏㅇㅂㅓㅁㅈㅜㄴㄴㅣㅁ', 'ㅈㅏㅅㅣㄱ', 'ㄱㅏㅅㅜㄱㅏ', 'ㅂㅜㄲㅡㄹㅓㅇㅝㅅㅓ', 'ㅈㅣㄴㅏㄱㅏㄴㅡㄴ', 'ㅇㅏㄶㅇㅡㅅㅣㄱㅗ', 'ㄱㅓㄴㄱㅏㅇㅎㅏㄷㅓㄴ', 'ㅎㅐㅈㅜㅅㅕ', 'ㅇㅕㄴㅅㅡㅂ', 'ㅂㅜㄴㅇㅢ', 'ㅇㅣㄷㅡㄹ', 'ㄱㅏㅇㅑㅈㅣ', 'ㄴㅘㅅㅓ', 'ㅅㅐㅇㄱㅏㄱㅇㅡㄴ', 'ㅅㅣㅁㅂㅜㄹㅡㅁㅇㅡㄹ', 'ㅅㅗㅇㅛㅇㅇㅣ', 'ㅊㅏㅅㅓ', 'ㅇㅣㄴㅅㅐㅇㅇㅡㄹ', 'ㄲㅡㅌㄴㅐㄱㅗ', 'ㅁㅏㄴㄴㅏㅆㅇㅓ', 'ㅈㅣㄱㅇㅝㄴ', 'ㅇㅜㄴㄷㅗㅇㄷㅗ', 'ㅊㅓㅁㅂㅜ', 'ㅈㅗㄹㅇㅓㅂ', 'ㅅㅏㄱㅓㄴ', 'ㄷㅡㄹㅇㅓㅇㅛ', 'ㅅㅏㄹㄹㅣㅅㅕㅆㄴㅔㅇㅛ', 'ㅇㅗㅈㅣㄹ', 'ㅇㅒㄱㅏ', 'ㅇㅏㅂㅓㄴㅣㅁㅇㅢ', 'ㅂㅜㄴㅁㅕㅇㅎㅣ', 'ㅇㅣㅂㅇㅡㄹ', 'ㅂㅜㅁㅗㄹㅡㄹ', 'ㅎㅣㅁㄴㅐㅅㅔㅇㅛ', 'ㅅㅓㄴㅅㅐㅇㄴㅣㅁㅇㅡㄴ', 'ㄴㅓㅁㅇㅓㅈㅕㅆㄴㅡㄴㄷㅔ', 'ㅍㅣㅇㄱㅖㄹㅗ', 'ㅇㅏㅇㅗ', 'ㄴㅏㅁㅈㅏㅊㅣㄴㄱㅜㅇㅘ', 'ㅎㅔㅇㅓㅈㅣㄴ', 'ㅋㅣㄱㅏ', 'ㅇㅏㄶㄴㅔㅇㅛ', 'ㄷㅏㄴㅣㄴㄷㅏㄱㅗ', 'ㄷㅐㄷㅏㄴㅎㅏㅂㄴㅣㄷㅏ', 'ㅇㅏㄱㅏㅇㅑ', 'ㄱㅕㄹㅎㅗㄴㅅㅣㄱㅇㅔ', 'ㄷㅡㄹㅇㅓㅇㅘㅅㅓ', 'ㄱㅏㄷㅏ', 'ㅈㅣㅅㅗㄱ', 'ㅂㅗㅇㅅㅏ', 'ㅈㅓㄱㅅㅓㅇㅇㅔ', 'ㅅㅣㄴㅇㅢ', 'ㅂㅏㄲㅝ', 'ㅂㅓㄴㄷㅗ', 'ㅆㅡㄴㅡㄴㄱㅓ', 'ㅂㅜㄴㄷㅗ', 'ㅈㅏㄴㅡㄴ', 'ㄱㅕㄹㅎㅗㄴㅇㅔ', 'ㅎㅕㅇㄴㅣㅁ', 'ㅅㅓㅇㅈㅓㄱㄷㅗ', 'ㅇㅣㅃㅡㄴㅔ', 'ㄷㅟㅈㅣㄱㅔ', 'ㅇㅏㅃㅏㅎㅏㄴㅌㅔ', 'ㅃㅜㄷㅡㅅㅎㅐ', 'ㅂㅓㅁㅈㅜㄴㄴㅣㅁ', 'ㅊㅟㅇㅓㅂㅇㅣ', 'ㅇㅚㅁㅗㄱㅏ', 'ㅂㅕㄴㄱㅣ', 'ㅈㅗㅇㄱㅛ', 'ㅅㅏㅇㅓㅂ', 'ㅇㅏㄴㄷㅚㄴㄷㅏ', 'ㄱㅏㅅㅜㄴㅣㅁ', 'ㄱㅘㅎㅏㄱ', 'ㅂㅕㅇㅅㅣㄴㄷㅡㄹㅇㅏ', 'ㅅㅓㅇㅑ', 'ㅅㅓㄴㅅㅐㅇㄴㅣㅁㅎㅏㄴㅌㅔ', 'ㅎㅢㅁㅏㅇ', 'ㅋㅡㄴㅇㅣㄹㅇㅣㅇㅑ', 'ㄱㅣㄷㅐㄱㅏ', 'ㅇㅏㅇㅣㅇㅘ', 'ㄷㅡㄹㅇㅓㄱㅏㅁㅕㄴ', 'ㅈㅓㄴㅁㅜㄴ', 'ㅎㅘㅈㅏㅇㅅㅣㄹ', 'ㄱㅓㄴㄱㅏㅇㄱㅓㅁㅈㅣㄴㅇㅔㅅㅓ', 'ㅇㅏㄱㅇㅢㅈㅓㄱㅇㅣㄴ', 'ㅅㅏㄹㅏㅁㅎㅏㄴㅌㅔ', 'ㄷㅡㄷㅈㅣ', 'ㅂㅐㅇㅝ', 'ㅅㅡㄹㅍㅓㅅㅓ', 'ㅊㅏㅈㅇㅏㅇㅗㅈㅣ', 'ㅅㅣㄴㅊㅔ', 'ㅇㅣㅅㅣㄱ', 'ㅁㅜㄱㅣㄹㅕㄱ', 'ㅅㅡㄹㅍㅓㅆㅇㅓ', 'ㅅㅟㄴㅡㄴ', 'ㅅㅔㅇㅛ', 'ㅇㅏㄶㄴㅡㄴㄷㅏ', 'ㅍㅣㄹㅇㅛㅎㅏㄹ', 'ㅅㅏㄹㄹㅣㄹㅕㄱㅗ', 'ㅇㅓㅂㅏㅇㅜㅅㅌㅏㅇㅣㅁㄴㅣㅁ', 'ㅈㅏㅌㅚ', 'ㄱㅏㅅㅡㅁㅇㅡㄹ', 'ㄱㅡㄴㅏㅁㅏ', 'ㄱㅣㄹㅡㄹ', 'ㄱㅣㅇㅝㄴ', 'ㅈㅐㅎㅗㄴ', 'ㅋㅓㅁㅍㅠㅌㅓㄹㅡㄹ', 'ㄴㅗㅁㅇㅢ', 'ㄴㅜㄱㅜㄷㅗ', 'ㅍㅏㅌㅣ', 'ㅁㅓㅅㅇㅣㅆㄱㅗ', 'ㅂㅗㄴㅐㄴㅡㄴ', 'ㅍㅣㅎㅐㄹㅡㄹ', 'ㅌㅜㄱㅎㅏㅁㅕㄴ', 'ㅍㅣㄹㄱㅣ', 'ㅅㅣㅀㅇㅓㅎㅐ', 'ㅅㅏㄹㅏㅇㅇㅢ', 'ㅂㅜㄹㅇㅏㄴㅎㅏㄴ', 'ㅅㅏㅅㅣㄹㅇㅡㄴ', 'ㄷㅔㅂㅟ', 'ㄱㅡㄹㅓㄴㅣ', 'ㅅㅣㄹㅇㅔㅅㅓ', 'ㄱㅘㄴㄹㅣㅇㅔ', 'ㄷㅙㅆㅈㅣ', 'ㅂㅓㄴㅇㅡㄴ', 'ㅂㅜㄹㅓㅂㄱㅗ', 'ㄱㅓㅅㄷㅡㄹㅇㅡㄹ', 'ㅃㅏㄹㄱㅏㄴ', 'ㄱㅘㄱㅓ', 'ㅋㅗㄹㄹㅏㅂㅗ', 'ㄱㅡㅈㅣ', 'ㄱㅏㄴㅔ', 'ㅂㅜㄹㄹㅓㅈㅜㅅㅕㅅㅓ', 'ㅂㅗㅇㅣㄴㅡㄴㄷㅔ', 'ㄴㅏㅁㅈㅏㄹㅏㅇ', 'ㅅㅡㅍㅔㄱ', 'ㅁㅏㄴㄴㅏㅈㅣ', 'ㄱㅏㅁㅈㅓㅇㅇㅡㄹ', 'ㅁㅗㄹㅡㄴㅡㄴㄷㅔ', 'ㄷㅡㄹㅇㅣㄴㅗ', 'ㄸㅏㄹㅎㅏㄴㅌㅔ', 'ㅇㅓㄲㅐㄱㅏ', 'ㅂㅓㄹㄹㅔ', 'ㄴㅏㅁㅈㅏㅊㅣㄴㄱㅜ', 'ㅈㅏㅂㄴㅡㄴ', 'ㅈㅣㄴㅐㄴㅡㄴ', 'ㅂㅓㄹㄱㅗ', 'ㅇㅕㅇㅇㅓㅂ', 'ㄴㅏㅁㄴㅕ', 'ㅌㅗㅇㅇㅔ', 'ㄱㅕㄴㄷㅣㄹ', 'ㅈㅜㄱㅏ', 'ㄱㅏㅈㅓㅇㅇㅡㄹ', 'ㅁㅏㄹㄱㅣ', 'ㄱㅚㄹㅗㅂㄱㅗ', 'ㅈㅓㅇㅅㅏㅇㅈㅓㄱㅇㅣㄴ', 'ㅇㅕㄴㄱㅣㄷㅗ', 'ㄷㅐㄷㅏㄴㅎㅏ', 'ㅇㅏㅇㅣㅇㅠㄴㅡㄴ', 'ㄲㅣㄱㅗ', 'ㄴㅐㄴㅡㄴㄷㅔ', 'ㅅㅣㄱㅏㄴㅁㅏㄴㅇㅔ', 'ㅌㅚㄱㅡㄴㅎㅏㄱㅗ', 'ㅇㅠㅎㅏㄱ', 'ㅅㅏㄹㄹㅣㄹ', 'ㄴㅏㅁㅈㅏㅊㅣㄴㄱㅜㄱㅏ', 'ㅈㅜㅈㅏㅇ', 'ㄱㅏㄹㅣ', 'ㅎㅜㅈㅏㅇㅇㅔ', 'ㅎㅗㄴㅈㅏㅁㅏㄴ', 'ㅈㅏㄱㅚ', 'ㄲㅜㅁㅇㅣ', 'ㅇㅝㄹㄱㅡㅂ', 'ㅈㅓㅇㅇㅣ', 'ㄱㅓㄴㄱㅏㅇㄷㅗ', 'ㄱㅡㄹㅣㄴ', 'ㅅㅣㅀㄷㅏㄱㅗ', 'ㅌㅏㄹㅂㅜㄱㅈㅏ', 'ㅅㅗㅅㅓㄹ', 'ㄱㅐㅇㄴㅕㄴㄱㅣㄱㅏ', 'ㅊㅏㅈㄴㅡㄴ', 'ㅍㅛㅂㅗㄴ', 'ㄸㅐㄹㅣㄱㅗ', 'ㅇㅠㅎㅐㅇ', 'ㄱㅏㅂㅘ', 'ㄷㅗㅇㅏㄴ', 'ㄷㅡㄹㅇㅓㄱㅏㄹㅕㄱㅗ', 'ㅁㅏㅇㅡㅁㄷㅐㄹㅗ', 'ㅈㅐㅁㅣㅇㅣㅆㄱㅔ', 'ㅈㅓㅇㄱㅝㄴㅇㅡㄴ', 'ㅁㅗㄹㅋㅏ', 'ㅍㅕㄴㅇㅣ', 'ㄴㅐㅅㅣㄴ', 'ㅇㅢㅈㅣㄱㅏ', 'ㄱㅏㅁㄱㅕㄱ', 'ㅅㅣㅍㄴㅗ', 'ㅌㅓㄹㅇㅓㄴㅗㅎㅇㅡㄹ', 'ㅇㅣㅆㅇㅓㅆㅈㅣㅁㅏㄴ', 'ㅅㅏㄴㅊㅐㄱ', 'ㄴㅏㅇㅡㄹ', 'ㅎㅏㅎㅏ', 'ㅇㅣㅂㅎㅏㄱ', 'ㅁㅏㄶㅇㅏㅈㅕㅆㅇㅓ', 'ㄸㅗㅎㅏㄴ', 'ㄱㅏㅂㅗㄴㅔ', 'ㅁㅏㄴㄴㅏㄱㅗ', 'ㅇㅓㄹㅕㅂㄱㅔ', 'ㄷㅏㅎㅐㅇㅇㅣㄷㅏ', 'ㄲㅓㅈㅕㄹㅏ', 'ㅊㅏㅁㄱㅗ', 'ㅈㅜㄱㅇㅓㅇㅑ', 'ㅈㅏㄷㅗ', 'ㅅㅐㅇㄱㅏㄱㄴㅏㅅㅓ', 'ㄸㅐㄹㅕㅅㅓ', 'ㅃㅏㅈㅕ', 'ㅊㅟㅇㅓㅂㅎㅏㄴ', 'ㅇㅏㅇㅣㅇㅠㅇㅢ', 'ㅁㅗㅁㅇㅡㄴ', 'ㅇㅓㅇㅜㄹㄹㅕ', 'ㅇㅏㄴㅈㅗㅎㅇㅡㄴ', 'ㅇㅏㅅㅣㄴㅡㄴ', 'ㄷㅡㄹㅏㅁㅏㄱㅏ', 'ㅈㅚㄱㅏ', 'ㅇㅣㅆㄱㅣㄹㄹㅐ', 'ㄴㅡㄲㅕㅈㅕㅆㅇㅓ', 'ㅇㅏㄴㅣㅇㅓㅅㅓ', 'ㅊㅏㅇㅣㄱㅏ', 'ㅈㅗㅈㅓㄹㅇㅡㄹ', 'ㅅㅜㄹㅁㅏㄴ', 'ㄷㅐㄷㅏㄴㅎㅏㄴㅔㅇㅛ', 'ㅈㅗㅎㄱㅔㅆㄴㅡㄴㄷㅔ', 'ㅈㅓㄱㅓㄹ', 'ㅁㅏㅅㅇㅣㅆㄴㅡㄴ', 'ㄷㅚㄷㅗㄹㅗㄱ', 'ㅈㅗㅎㅇㅏㅎㅏㅁ', 'ㅂㅏㅃㅏㅅㅓ', 'ㅁㅓㅅㅈㅕ', 'ㄴㅏㄴㄷㅏㄱㅗ', 'ㅈㅓㄴㅂㅜㄱㅏ', 'ㄷㅔㅇㅣㅌㅡㄹㅡㄹ', 'ㄴㅕㄴㄷㅗ', 'ㅇㅏㄶㅇㅏㅆㄷㅏㄴㅡㄴ', 'ㅈㅏㅇㅁㅕㄴ', 'ㅈㅏㅇㄹㅖㅅㅣㄱㅈㅏㅇㅇㅔ', 'ㄷㅗㄹㅂㅗㅈㅣ', 'ㄱㅓㄹㅗ', 'ㅊㅐㄱㅇㅣㅁ', 'ㅁㅏㅇㄱㅏㅈㅣㄴ', 'ㅈㅜㅇㅓㅅㅓ', 'ㅈㅏㄹㅅㅐㅇㄱㅣㄴ', 'ㅁㅗㄹㅡㅁ', 'ㄸㅓㄴㅏㄴ', 'ㅇㅣㄹㅇㅓㄴㅏㅅㅓ', 'ㄱㅏㅇㅡㄹ', 'ㄷㅓㄹㅓㅂㄷㅏ', 'ㅅㅓㅇㄱㅘㄹㅡㄹ', 'ㅂㅏㅇㅅㅗㅇㅇㅔㅅㅓ', 'ㅂㅏㄷㅇㅏㅆㄷㅏㄱㅗ', 'ㅅㅏㅇㅎㅘㅇㅇㅔㅅㅓ', 'ㅇㅗㄹㄹㅏㅅㅓ', 'ㄱㅗㅊㅜ', 'ㅅㅜㄹㅗㄱ', 'ㅊㅗㅅㅂㅜㄹ', 'ㅇㅏㄶㄷㅏㄱㅗ', 'ㄱㅘㅇㄱㅗㄹㅡㄹ', 'ㅅㅏㄱㅘㄹㅡㄹ', 'ㅎㅜㅎㅚㅎㅏㄱㅗ', 'ㅊㅏㅈㅇㅏ', 'ㄷㅗㅌㅐ', 'ㅈㅏㅅㅣㄱㄷㅡㄹㄷㅗ', 'ㄱㅡㄱㅏ', 'ㅇㅣㅁㅅㅣㄴㅇㅡㄹ', 'ㅎㅠㄱㅏㄹㅡㄹ', 'ㄱㅗㅎㅕㄹㅇㅏㅂㅇㅣ', 'ㄴㅏㅇㅘㅆㅇㅡㅁㅕㄴ', 'ㄴㅏㄹㅏㅇㅔ', 'ㅊㅣㅁㅕㄴ', 'ㅈㅓㅇㄱㅣ', 'ㄴㅏㅁㅇㅏㅆㅇㅓ', 'ㄴㅡㅇㄹㅕㄱㅇㅡㄹ', 'ㅂㅜㄹㅡㄴ', 'ㅎㅐㅂㅘㅇㅑ', 'ㅂㅏㅇㅂㅓㅂㅇㅣ', 'ㅈㅣㄴㅏㅆㄴㅡㄴㄷㅔ', 'ㅍㅏㅇㅏㄱ', 'ㅁㅜㄴㄱㅘ', 'ㄴㅡㄲㅣㄴㅡㄴ', 'ㅍㅛㅈㅓㅇㅇㅣ', 'ㄱㅣㄴㅡㅇ', 'ㅎㅡㅇㅂㅜㄴ', 'ㅈㅏㄱㅣㄹㅡㄹ', 'ㅅㅐㅇㄱㅣㅈㅣ', 'ㅇㅣㅆㄴㅔㅇㅛ', 'ㅇㅏㄶㄴㅡㄴㄷㅏㄱㅗ', 'ㅇㅣㅆㄷㅏㅁㅕㄴ', 'ㅇㅓㄹㅇㅓ', 'ㄱㅕㄱㄹㅣ', 'ㅇㅓㅄㅇㅓㅇㅛ', 'ㄴㅗㄹㄹㅕ', 'ㅅㅡㄹㅍㅡㄴㅔ', 'ㅎㅏㄴㄷㅜ', 'ㅇㅓㄷㅇㅡㄴ', 'ㅇㅏㄷㅡㄹㄱㅘ', 'ㅊㅏㄴㅡㄴ', 'ㄴㅓㄴㅔ', 'ㅁㅏㄴㄴㅏㅆㄷㅓㄴ', 'ㅇㅝㄴㅎㅏㄷㅓㄴ', 'ㄷㅏㅇㅅㅣㄴㅇㅡㄹ', 'ㄱㅣㄷㅏㄹㅕ', 'ㅁㅏㅅㅡㅋㅡ', 'ㅈㅔㄸㅐ', 'ㄷㅗㅊㅏㄱ', 'ㄴㅡㄲㅕㅈㅣㄴㅡㄴ', 'ㅎㅐㅇㅂㅗㄱㅎㅏㄷㅏ', 'ㅇㅓㅂㄹㅗㄷㅡ', 'ㅁㅗㅂㅅㅣ', 'ㅅㅏㅇㄷㅏㅇㅎㅣ', 'ㅍㅐㄱㅗ', 'ㄷㅓㄹㅓㅇㅜㄴ', 'ㅈㅐㅎㅘㄹ', 'ㅉㅓㄴㄷㅏ', 'ㅊㅟㅎㅐㅅㅓ', 'ㅎㅐㅇㅂㅗㄱㅎㅏㅅㅣㄱㅣㄹ', 'ㄷㅓㄹㅓㅂㄱㅔ', 'ㅅㅓㅇㅍㅗㄱㅎㅐㅇ', 'ㅁㅏㅈㄱㅔ', 'ㄸㅏㄹㅇㅔㄱㅔ', 'ㅇㅓㅅㅓ', 'ㅇㅓㄱㅇㅜㄹㅎㅏㄱㅗ', 'ㅂㅏㄷㅇㅡㅅㅣㄹㄱㅓㅇㅖㅇㅛ', 'ㅇㅐㅇㅣㄴㅇㅡㄹ', 'ㅈㅣㅈㅓㄱ', 'ㄸㅐㅁㅕㄴ', 'ㅇㅏㅀㄱㅗ', 'ㅈㅣㅂㄷㅗ', 'ㄸㅓㄹㅇㅓㅈㅣㄱㅗ', 'ㄷㅐㅅㄱㅡㄹㅇㅔ', 'ㄱㅓㄴㄱㅏㅇㅎㅏㄴㄷㅔ', 'ㄱㅘㅇㅕㄴ', 'ㅎㅏㄹㅕ', 'ㅈㅣㄴㅉㅏㄹㅜ', 'ㄱㅏㅁㄷㅗㅇㅈㅓㄱ', 'ㄱㅓㅁㅊㅏㄹ', 'ㅁㅗㅅㅡㅂㅇㅡㄹㅗ', 'ㅇㅗㄹㅎㅐ', 'ㄴㅏㄴㅡㄴㄷㅔ', 'ㅊㅜㄱㅂㅗㄱ', 'ㄱㅐㄲㅜㄹ', 'ㅇㅜㅅㄴㅡㄴ', 'ㄷㅚㅇㅓㅆㄴㅔㅇㅛ', 'ㅅㅡㅌㅏ', 'ㅈㅣㄹㅎㅘㄴㅇㅣ', 'ㅈㅗㅈㅓㄹ', 'ㅍㅏㄴㄷㅏㄴ', 'ㄴㅏㅁㅊㅜㅇ', 'ㄴㅜㄴㅊㅣㄹㅡㄹ', 'ㅊㅓㅇㅅㅗ', 'ㅉㅣㄱㅇㅓ', 'ㄷㅡㄹㅇㅓㄱㅏㄱㅗ', 'ㅅㅣㅁㅎㅐㅈㅕㅅㅓ', 'ㅁㅏㅌㄱㅔ', 'ㅅㅏㄹㅏㅈㅕㅆㅇㅓ', 'ㅂㅐㅇㅜㄴ', 'ㄴㅓㅁㅇㅡㄴ', 'ㅇㅣㅆㄴㅡㄴㄱㅓㅈㅣ', 'ㄴㅏㅁㅇㅣ', 'ㄷㅗㅇㅘㅈㅜㄴㅡㄴ', 'ㄱㅏㅇㅈㅔㄹㅗ', 'ㅉㅏㅇㅇㅣㅇㅔㅇㅛ', 'ㅈㅗㅎㅈㅣㅁㅏㄴ', 'ㅈㅘㅈㅗㅁ', 'ㅍㅕㄴㅇㅣㅇㅑ', 'ㅅㅐㄲㅣㄷㅡㄹㄷㅗ', 'ㄱㅛㅇㅠㄱㅇㅣ', 'ㄴㅏㄴㅣㄲㅏ', 'ㅈㅓㄱㅇㅡㅇㅇㅡㄹ', 'ㅇㅣㅆㅇㅓㅇㅑ', 'ㅅㅜㅁㄱㅣㄱㅗ', 'ㅁㅏㄴㅜㄹㅏ', 'ㄷㅗㅇㅊㅏㅁ', 'ㅂㅏㅁㅇㅡㄹ', 'ㄱㅓㄹㄹㅣㄹ', 'ㅇㅣㄴㅅㅓㅇㅇㅣ', 'ㅎㅏㄱㄱㅛㄹㅗ', 'ㄱㅏㅁㅈㅓㅇㅇㅣㅇㅣㅂ', 'ㅌㅗㅇㅅㅜ', 'ㄱㅓㄱㅣㅅㅓ', 'ㅈㅗㄱㅡㅁㅇㅣㄹㅏㄷㅗ', 'ㅎㅏㄱㅇㅝㄴㅇㅔ', 'ㅈㅜㅇㅓㅆㅇㅓ', 'ㅇㅣㄱㅘ', 'ㅇㅠㅁㅕㅇ', 'ㅈㅗㅎㅇㅏㅎㅏㄴㄷㅏㄱㅗ', 'ㅁㅏㅇㅣㄴㄷㅡ', 'ㅈㅐㅁㅣㅆㄷㅏ', 'ㅎㅐㅆㄱㅓㄷㅡㄴ', 'ㅈㅗㅎㅇㅏㅎㅐㅆㄴㅡㄴㄷㅔ', 'ㅈㅓㄴㄱㅛ', 'ㅇㅣㅂㅓㄴㅇㅔㄴ', 'ㄷㅏㅇㅎㅏㄹㄲㅏ', 'ㅂㅗㄴㅐㅅㅓ', 'ㅌㅗㅇㅎㅐ', 'ㅂㅐㄹㅕ', 'ㅇㅏㄴㅁㅏ', 'ㅇㅏㄹㅇㅏㅆㄷㅓㄴ', 'ㄱㅜㅂㅏㄱ', 'ㅇㅓㄲㅐ', 'ㅅㅣㅈㅓㄹㅇㅔ', 'ㅍㅕㄴㅇㅏㄴㅎㅏㄱㅗ', 'ㄷㅏㅇㅎㅏㄴㄷㅏㄴㅡㄴ', 'ㄱㅓㅇㅔ', 'ㄷㅡㄹㅇㅡㅁㅕ', 'ㅈㅜㅂㅕㄴㅇㅔㅅㅓ', 'ㅇㅣㅅㅏㅇㅎㅏㄷㅏㄱㅗ', 'ㅎㅘㅇㄷㅏㅇㅎㅐ', 'ㅆㅡㄴㄷㅏ', 'ㅇㅑㄱㄱㅏㄴ', 'ㅇㅖㅇㅢ', 'ㄱㅣㅊㅣㅁㅇㅣ', 'ㅍㅐㄴㅇㅣ', 'ㅆㅡㄹㅆㅡㄹㅎㅐ', 'ㅅㅣㄴㄱㅗㄹㅡㄹ', 'ㅁㅕㄴㅅㅏㅇ', 'ㄸㅓㄴㅏㄱㅗ', 'ㅁㅏㄹㅇㅣㄷㅏ', 'ㅇㅓㄹㅕㅆㅇㅡㄹ', 'ㅁㅗㄹㅡㄱㅔㅆㄱㅗ', 'ㅁㅗㄹㅡㅈㅣㅁㅏㄴ', 'ㄱㅕㅇㅎㅓㅁ', 'ㅇㅡㅁㅅㅐㄱㄷㅗ', 'ㅂㅜㄷㅏㅁㅅㅡㄹㅓㅇㅝ', 'ㅂㅓㄹㄱㅡㅁ', 'ㅇㅣㅆㄴㅡㄴㄷㅔㄷㅗ', 'ㅅㅓㅇㅊㅜㅎㅐㅇ', 'ㅂㅜㄹㄹㅕ', 'ㄱㅏㅇㅎㅏㄴ', 'ㅇㅏㄲㅕ', 'ㅇㅑㄱㅡㄴ', 'ㄷㅚㅅㅣㄱㅣㄹ', 'ㄷㅏㅎㅐㅇ', 'ㅆㅏㅇㄷㅜㅇㅇㅣ', 'ㅂㅜㄹㅡㄹ', 'ㅁㅗㅇㅏㅅㅓ', 'ㅁㅣㄴㅈㅜㄷㅏㅇ', 'ㅎㅏㄴㄱㅜㄱㅇㅣㄴ', 'ㅇㅡㅁㅈㅜㅇㅜㄴㅈㅓㄴ', 'ㄷㅐㅌㅗㅇㄹㅕㅇㅇㅣ', 'ㅇㅓㅁㅓㄴㅣㄱㅏ', 'ㅎㅏㄱㅔㅆㄷㅏㄱㅗ', 'ㅇㅏㄴㄷㅚㄱㅗ', 'ㄱㅡㅁㅏㄴㅋㅡㅁ', 'ㅂㅜㄴㄴㅗㄱㅏ', 'ㅁㅗㄹㅡㄱㅔㅆㄴㅔ', 'ㅅㅏㅅㅏㅇ', 'ㅇㅕㄹㅇㅣ', 'ㅅㅏㅇㅅㅣㄱ', 'ㅈㅓㄴㅈㅐㅇ', 'ㅎㅗㄱㅏㅇ', 'ㅅㅔㄹㄹㅓㅂㅡㄹㅣㅌㅣ', 'ㅇㅣㄱㅣㄴ', 'ㅍㅕㅇㄱㅠㄴ', 'ㄱㅡㄹㅓㅎㄷㅏㄱㅗ', 'ㄴㅣㄴㅔ', 'ㅂㅓㄹㅣㄴㅡㄴ', 'ㅇㅛㄱㅎㅏㄱㅗ', 'ㅈㅣㄴㄹㅗㅇㅔ', 'ㅅㅗㄴㅇㅣ', 'ㅇㅣㅆㄷㅓㄹㅏㄱㅗ', 'ㄷㅗㄷㅜㄱ', 'ㄱㅓㅇㅜㄹㅇㅡㄹ', 'ㅈㅣㅋㅕ', 'ㅂㅓㅁㅈㅚ', 'ㅂㅗㅇㅏㅆㄴㅡㄴㄷㅔ', 'ㅂㅏㄹㄹㅕㅇ', 'ㄱㅐㅇㅣㄴㅇㅢ', 'ㅁㅏㄹㅌㅜ', 'ㄴㅏㄹㅡㅁㄷㅐㄹㅗ', 'ㅈㅓㄹㅓㄱㅗ', 'ㄱㅏㄷㅡㄱ', 'ㄸㅏㄱㅈㅣ', 'ㅎㅐㅈㅝㅇㅑ', 'ㄷㅚㄹㄲㅏㅂㅘ', 'ㅇㅢㅁㅣㄱㅏ', 'ㄴㅏㄱㅏㅈㅣ', 'ㄴㅏㅃㅏㅅㅓ', 'ㄱㅣㅂㅜㄴㅡㄴ', 'ㅅㅏㅇㄷㅐㄹㅗ', 'ㅇㅣㅀㄱㅗ', 'ㅊㅚㄱㅗㄷㅏ', 'ㅎㅏㄴㄱㅜㄱㅇㅔ', 'ㅂㅜㅈㅏㅇㄴㅣㅁㄲㅔ', 'ㅈㅣㅂㅇㅏㄴㅇㅣㄹㅇㅡㄹ', 'ㅂㅜㄲㅡㄹㅓㅂㄱㅗ', 'ㅇㅣㄹㄹㅗ', 'ㅅㅗㄱㅅㅏㅇㅎㅏㄷㅏ', 'ㄴㅐㄹㅏㄱㅗ', 'ㅂㅜㄹㅡㅅㅕㅅㅓ', 'ㅎㅏㅅㅣㅈㅣ', 'ㄷㅚㄱㅣ', 'ㅎㅚㅅㅣㄱ', 'ㅅㅓㄴㅌㅐㄱㅎㅏㄴ', 'ㅂㅗㄴㅡㄴㄱㅓ', 'ㅁㅗㅈㅏ', 'ㅇㅓㅁㅁㅏㅇㅔㄱㅔ', 'ㅅㅣㄹㄹㅕㄱㅇㅣ', 'ㄴㅏㄹㅇㅔㄴㅡㄴ', 'ㄹㅗㅁㅏㄴ', 'ㅂㅜㅁㅗㄱㅏ', 'ㅇㅣㅈㅣ', 'ㅇㅑㅎㅏㄹ', 'ㅈㅗㅅㅣㅁㅎㅏㄱㅗ', 'ㅇㅣㅆㄷㅏㄴㅣ', 'ㅇㅏㄷㅡㄹㅎㅏㄴㅌㅔ', 'ㄴㅜㄱㅜㄹ', 'ㄱㅓㅅㅁㅏㄴㅇㅡㄹㅗㄷㅗ', 'ㄷㅗㄹㅇㅏㄱㅏㅅㅣㄴ', 'ㅈㅣㄴㅐㄹ', 'ㅅㅣㅈㅏㅇ', 'ㅎㅐㅆㄷㅏㅁㅕㄴ', 'ㅇㅣㅆㄷㅓㄹㅏ', 'ㄴㅕㄴㅇㅡㄹ', 'ㅈㅣㄴㅂㅗ', 'ㄴㅗㄹㄹㅣㄴㅡㄴ', 'ㄱㅗㅇㅇㅠ', 'ㅊㅕㅆㅇㅓ', 'ㅎㅏㄱㅔㅆㄷㅏ', 'ㅇㅗㅈㅣㄷㅗ', 'ㅂㅜㄴㅇㅣㅅㅣㄴ', 'ㅅㅓㅇㅈㅓㄱㅇㅡㄹㅗ', 'ㅁㅓㄱㅇㅣㄱㅗ', 'ㅇㅐㄷㅡㄹㅇㅣㄹㅏㅇ', 'ㅁㅏㄹㅈㅏ', 'ㅇㅠㅂㅜ', 'ㄸㅏㄷㅗㄹㄹㅕㅅㅓ', 'ㄲㅜㄹㄲㅜㄹ', 'ㅈㅜㄹㅡㅁㅇㅣ', 'ㅇㅓㄱㅡㄹㅗ', 'ㄱㅏㅂㅗㄱㅗ', 'ㄱㅘㅈㅏㅇㄴㅣㅁㅇㅣ', 'ㅁㅗㄱㅅㅗㄹㅣㄹㅗ', 'ㄴㅐㅇㅛㅇㄷㅗ', 'ㄷㅏㅇㅅㅣㄴㅇㅢ', 'ㄱㅣㅈㅓㄱ', 'ㅁㅜㄹㅣㅎㅏㄱㅔ', 'ㅅㅐㄲㅣㄴㅔ', 'ㅅㅏㅇㅣㅌㅡ', 'ㅆㅡㄹㅁㅗ', 'ㅇㅜㅇㅜㄹㅎㅏㄴㅔ', 'ㄱㅡㄱㅓㅅㅇㅡㄹ', 'ㅈㅏㄹㅛㄹㅡㄹ', 'ㅎㅏㄴㅡㄹㅇㅣ', 'ㅅㅓㄱㅡㄹㅍㅓ', 'ㅊㅔㅈㅜㅇㅇㅣ', 'ㅌㅗㅇㅎㅐㅅㅓ', 'ㅌㅣㄱㅏ', 'ㄱㅓㄷㄴㅡㄴ', 'ㅇㅘㅇㅣㅍㅡㄱㅏ', 'ㅎㅏㄹㅐ', 'ㄱㅏㅂㄴㅣㄷㅏㅇ', 'ㄱㅡㄴㅏㅈㅓㄴㅏ', 'ㅃㅓㄴㅎㅏㄴ', 'ㄱㅐㅇㄴㅕㄴㄱㅣㅇㅔ', 'ㅍㅐㄱㅌㅡ', 'ㅇㅣㅂㅜㄴ', 'ㄱㅜㄱㄱㅏㄱㅏ', 'ㅍㅗㄱㅎㅐㅇㅇㅡㄹ', 'ㅍㅣㅂㅜㄱㅏ', 'ㅊㅣㄴㄱㅜㄹㅏㄱㅗ', 'ㅎㅏㅍㅣㄹ', 'ㅁㅏㅈㄴㅡㄴㄱㅓ', 'ㄴㅏㄱㅌㅐ', 'ㅅㅣㄱㅣㅇㅔ', 'ㅁㅏㄶㅇㅏㅆㄴㅡㄴㄷㅔ', 'ㅇㅐㅇㅣㄴ', 'ㅇㅑㄱㅇㅣ', 'ㅆㅏㄱㅗ', 'ㅍㅕㄴㅈㅣㄹㅡㄹ', 'ㄷㅗㅇㅊㅏㅇㅎㅚㅇㅔ', 'ㅈㅓㄱㄱㅔ', 'ㄱㅓㄹㅃㅗㄴㅣㅁ', 'ㅅㅣㄴㅂㅜㄴㅇㅣㄷㅏ', 'ㅅㅏㄹㄹㅣㄴㅡㄴ', 'ㄹㅣㄱㅗ', 'ㄷㅏㅇㅊㅓㅁ', 'ㅅㅣㄱㄷㅏㅇ', 'ㅁㅜㄴㅓㅈㅣㄴㅡㄴ', 'ㄱㅗㄱㅇㅡㄹㅗ', 'ㅇㅏㅍㅡㄴㅔ', 'ㄴㅠㅅㅡㄹㅡㄹ', 'ㄱㅣㅇㅓㅂㅇㅔ', 'ㅅㅐㅇㅎㅘㄹㅇㅔ', 'ㄱㅏㅂㅓㄹㅕㅅㅓ', 'ㅇㅕㄱㅊㅏㅂㅕㄹ', 'ㅌㅐㄱㅜㄱ', 'ㅈㅓㄻㄷㅏㄱㅗ', 'ㅁㅜㅇㅓㄴㄱㅏ', 'ㅍㅐㅅㅡ', 'ㄲㅐㅁㅜㄴ', 'ㅎㅏㄴㄱㅜㄱㅇㅔㅅㅓ', 'ㅈㅣㅂㅈㅜㅇㅇㅣ', 'ㄷㅐㅈㅓㅂ', 'ㄱㅏㅁㄷㅗㅇㅇㅡㄹ', 'ㅂㅣㅇㅏㄴㅑㅇ', 'ㄱㅓㄹㅕ', 'ㅇㅏㄹㅇㅏㅆㅈㅣㅁㅏㄴ', 'ㅈㅐㅊㅗㄱ', 'ㅇㅕㅅㅓㅇㅇㅣ', 'ㅈㅜㄹㅈㅜㄹ', 'ㅎㅐㅇㅂㅗㄱㅎㅏㅂㄴㅣㄷㅏ', 'ㅎㅓㅅㅔ', 'ㅌㅏㄱㅔ', 'ㅅㅏㄴㄷㅏㄱㅗ', 'ㄱㅏㄴㅇㅏㅁ', 'ㅇㅣㅎㅗㄴㅎㅏㄱㅗ', 'ㅇㅏㅌㅣㅅㅡㅌㅡ', 'ㅇㅖㅅㄴㅏㄹㅇㅔ', 'ㅇㅣㅆㅇㅡㄹㅌㅔㄴㄷㅔ', 'ㅎㅘㅁㅗㄱ', 'ㅇㅣㄴㄷㅔ', 'ㅈㅛㅈㅛㅈㅛ', 'ㅅㅓㅇㅈㅓㄱㅍㅛㄹㅡㄹ', 'ㅊㅏㄷㅗㄱㅏ', 'ㄱㅐㅇㅝㄹ', 'ㄷㅡㄹㅓㅂㄱㅔ', 'ㅇㅣㅆㅇㅡㄹㄱㅓㅇㅑ', 'ㄴㅗㄹㅕㄱㅇㅡㄹ', 'ㅇㅏㄵㅇㅏㅅㅓ', 'ㅁㅜㄱㅓㅇㅝ', 'ㅍㅡㄹㄹㅔㅇㅣ', 'ㅈㅗㅎㅇㅏㅎㅏㅈㅣㅁㅏㄴ', 'ㄷㅚㄹㅈㅣ', 'ㄷㅓㅈㅏㄹ', 'ㅈㅏㄹㅏㅇㅇㅡㄹ', 'ㅅㅓㅇㅈㅓㄱㅇㅡㄴ', 'ㅍㅗㄱㅎㅐㅇ', 'ㄱㅓㄴㄱㅏㅇㅎㅏㅈㅣ', 'ㅅㅏㅅㅣㄹㅅㅏㅇ', 'ㄸㅡㄴㅡㄴ', 'ㅁㅣㅊㅕㅅㅓ', 'ㅅㅣㅋㅣㄹ', 'ㅆㅡㅁㅕㄴㅅㅓ', 'ㄲㅡㄶㄱㅗ', 'ㄱㅕㄹㅎㅗㄴㄷㅗ', 'ㅇㅢㄱㅕㄴㅇㅣ', 'ㅁㅏㅈㄴㅔ', 'ㅊㅏㄹㅕ', 'ㅂㅏㅂㄷㅗ', 'ㅎㅏㄴㄴㅏㅁㄷㅡㄹ', 'ㅅㅓㄹㄹㅔㄱㅗ', 'ㄷㅏㅅㅓㅅ', 'ㅈㅓㄻㅇㅡㄹ', 'ㅇㅓㅄㄷㅏㅁㅕ', 'ㅇㅛㅇㄷㅗㄴㄷㅗ', 'ㅇㅏㄴㅣㄲㅏ', 'ㅅㅣㅅㅓㄴㅇㅡㄹ', 'ㅇㅕㄴㅂㅗㅇ', 'ㄱㅡㄹㅓㄱㅗ', 'ㅍㅏㅇㅝ', 'ㄷㅐㅇㅢ', 'ㅎㅏㄴㅅㅣㅁㅎㅏㄱㅔ', 'ㄱㅏㅇㅇㅏㅈㅣㄱㅏ', 'ㅍㅏㅂㅇㅡㄴ', 'ㅇㅣㅆㄷㅏㄴㅡㄴㄱㅔ', 'ㅇㅓㅉㅓㄷㅏ', 'ㅇㅣㄹㅂㅏㄴㅇㅣㄴ', 'ㅁㅗㄹㄹㅕㅇㅘㅅㅓ', 'ㅂㅣㅌㅗㅇㅎㅏㄴ', 'ㅈㅏㅇㅇㅐㅇㅣㄴ', 'ㅇㅣㄹㅓㄹㅅㅜㄱㅏ', 'ㅁㅝㄴㅗ', 'ㅇㅠㄱㅅㅣㅂ', 'ㅎㅐㅈㅜㅁㅕㄴ', 'ㅁㅏㅈㅇㅏㅇㅑ', 'ㅇㅏㅊㅣㅁㅇㅡㄹ', 'ㅇㅜㅇㅇㅣ', 'ㅇㅗㅀㅇㅡㄴ', 'ㅈㅐㄴㅡㅇㅇㅣ', 'ㅈㅓㄴㅎㅘ', 'ㅁㅏㄹㅣ', 'ㄷㅐㅍㅛㄹㅗ', 'ㄴㅏㅁㄴㅡㄴ', 'ㅎㅐㅇㅂㅗㄱㅎㅐㄹㅏ', 'ㅂㅗㄹㅏㄱㅗ', 'ㄹㅔㅈㅓㄴㄷㅡ', 'ㅈㅜㄴㅕㄴ', 'ㅈㅓㅇㅂㅜㅇㅔㅅㅓ', 'ㄴㅏㅎㄴㅡㄴ', 'ㅈㅗㅎㅇㅏㅎㅏㄴㄷㅏㄴㅡㄴ', 'ㅇㅓㄹㅕㅂㄱㅗ', 'ㄷㅚㄴㅗ', 'ㄷㅐㄱㅣ', 'ㅂㅐㅇㅜㄴㅡㄴ', 'ㄷㅐㅈㅏㅇ', 'ㄲㅡㅀㅇㅕ', 'ㅎㅏㄹㄲㅔㅇㅛ', 'ㅁㅗㄷㅜㄷㅡㄹ', 'ㄱㅓㄹㄹㅣㅁㅕㄴ', 'ㄴㅐㅂㅓㄹㅕ', 'ㄷㅗㅇㅅㅣㅇㅔ', 'ㄱㅜㅇㄱㅡㅁㅎㅐ', 'ㄴㅐㅅㅣㄱㅕㅇㅇㅡㄹ', 'ㅂㅗㄴㅗ', 'ㅅㅜㅁㅏㄶㅇㅡㄴ', 'ㅇㅜㄹㅁㅕㄴㅅㅓ', 'ㅇㅣㅆㄱㅔㅆㅇㅓ', 'ㄷㅐㅅㅏㅇ', 'ㄱㅣㅇㅓㅂㅇㅣ', 'ㅍㅔㅁㅣㄴㅡㄴ', 'ㅊㅔㅈㅜㅇ', 'ㅁㅗㅇㅕ', 'ㅇㅏㄴㅣㄴㄱㅏㅇㅛ', 'ㄲㅏㄹㄲㅏㄹ', 'ㅅㅗㄹㅈㅣㄱㅎㅏㄱㅔ', 'ㅅㅣㅍㅈㅣㅁㅏㄴ', 'ㄱㅣㅇㅓㅂㅇㅔㅅㅓ', 'ㅇㅕㅇㅜㄴㅇㅣ', 'ㅁㅗㄱㅅㅗㄹㅣㄴㅡㄴ', 'ㅎㅣㅁㅇㅡㄹㅗ', 'ㄱㅕㄹㅎㅗㄴㄲㅏㅈㅣ', 'ㅌㅏㅈㅣ', 'ㅂㅣㅈㅇㅣ', 'ㅎㅐㅇㅅㅏ', 'ㅇㅗㄴㅏ', 'ㅁㅣㅇㅏㄴㅎㅏㄷㅏㄱㅗ', 'ㅊㅗㄹㅏㅎㅏㄱㅔ', 'ㅈㅗㄱㅜㄱ', 'ㄷㅏㄴㅣㅁㅕㄴ', 'ㅇㅢㄱㅕㄴ', 'ㄱㅘㄴㅎㅏㄴ', 'ㅈㅏㅁㅅㅣ', 'ㄱㅏㅂㅏㅇ', 'ㅎㅚㅅㅣㄱㅇㅡㄹ', 'ㄱㅏㄱㅈㅗㅇ', 'ㅇㅕㄱㅣㄴㅡㄴ', 'ㄷㅗㅇㅘ', 'ㅂㅜㄷㅗㅇㅅㅏㄴ', 'ㅎㅏㄴㅅㅣㅁㅎㅏㄴ', 'ㅇㅜㄹㅣㄴㅏㄹㅏㄱㅏ', 'ㅂㅓㅂㅇㅣ', 'ㅁㅓㅅㅇㅣㅆㄴㅡㄴ', 'ㅂㅜㄹㅇㅏㄴㅎㅐㅆㅇㅓ', 'ㄱㅓㄴㄱㅏㅇㅎㅐㅅㅓ', 'ㅅㅏㅈㅏㅇ', 'ㅁㅓㅅㅈㅣㄴㅔㅇㅛ', 'ㄸㅏㄷㅗㄹㄹㅣㄱㅗ', 'ㅁㅓㅅㅈㅣㅅㅣㄱㅗ', 'ㅎㅏㄴㅏㄱㅏㅌㅇㅣ', 'ㅁㅏㅌㅇㅡㄴ', 'ㅌㅓㅈㅣㄴ', 'ㅂㅏㄹㅇㅓㄴㅇㅡㄹ', 'ㅅㅔㄴㅌㅓㅇㅔㅅㅓ', 'ㄱㅗㅅㅐㅇㅎㅏㄴ', 'ㅇㅏㄶㄷㅗㄹㅗㄱ', 'ㄷㅗㅇㅅㅓㅇㅇㅐㅈㅏㄹㅏㄴㅡㄴ', 'ㅎㅘㅇㅣㅌㅡ', 'ㅁㅗㄱㅅㅗㄹㅣㄹㅏㅇ', 'ㅇㅏㄶㅇㅏㅆㅇㅡㅁㅕㄴ', 'ㄲㅡㅌㄴㅐㄹ', 'ㄱㅡㄴㅡㄴ', 'ㅅㅏㅇㄷㅐ', 'ㅎㅏㄹㄹㅕㄱㅗ', 'ㅁㅏㄷㅏ', 'ㄴㅗㄹㄱㅣㅁㅏㄴ', 'ㅅㅣㅊㅓㅇ', 'ㅇㅏㄹㄹㅕㅈㅜㅈㅣ', 'ㄴㅏㅁㅎㅏㄴㅌㅔ', 'ㅎㅐㅈㅜㄴㅣㄲㅏ', 'ㅅㅏㅇㅎㅘㅇㅇㅔ', 'ㅇㅣㄹㅈㅜㅇㅣㄹ', 'ㄷㅐㄴㅡㄴ', 'ㅎㅏㄱㄱㅡㅂ', 'ㅎㅏㄴㅏㅇㅢ', 'ㅅㅜㅅㅜㄹㅇㅣ', 'ㄱㅡㅇㅢ', 'ㅈㅏㄱㅇㅓㅂ', 'ㅂㅏㄹㅅㅐㅇ', 'ㅈㅔㅈㅓㅇ', 'ㅂㅏㅇㅈㅣ', 'ㅁㅗㅁㄱㅘ', 'ㅅㅣㄷㅏ', 'ㄱㅓㅇㅖㅇㅛ', 'ㄱㅏㄴㅏㄴㅎㅏㄷㅏㄴㅡㄴ', 'ㄷㅏㄴㅣㅈㅣ', 'ㄷㅏㅌㅝㅆㄴㅡㄴㄷㅔ', 'ㄷㅡㄹㅇㅓㅇㅑ', 'ㅍㅏㄴㅡㄴ', 'ㅅㅐㅇㅎㅘㄹㅂㅣㄹㅡㄹ', 'ㄷㅏㅇㅎㅏㄱㅔ', 'ㄴㅜㄴㅇㅏㅍㅇㅣ', 'ㄴㅗㅌㅡㅂㅜㄱㅇㅡㄹ', 'ㅁㅏㄶㅇㅏㅈㅕㅅㅓ', 'ㅇㅠㅌㅜ', 'ㄴㅏㅌㅏㄴㅏㅅㅓ', 'ㅅㅔㄱㅡㅁ', 'ㄴㅕㅅㅓㄱㅇㅣ', 'ㅉㅕㅆㅇㅓ', 'ㅁㅜㄹㄹㅕ', 'ㅂㅏㄷㅇㅡㄹㅕㄱㅗ', 'ㅁㅏㅈㅇㅡㅁ', 'ㄴㅗㄹㅐㄲㅏㅈㅣ', 'ㄴㅗㅍㄱㅔ', 'ㅊㅓㅇㅡㅁㅂㅜㅌㅓ', 'ㅁㅣㄷㄱㅣㅈㅣㄱㅏ', 'ㅌㅚㅎㅏㄱ', 'ㄸㅏㄷㅗㄹㄹㅣㄴ', 'ㄴㅗㄹㅕㄱㅇㅡㄴ', 'ㅂㅏㅇㅅㅗㅇㅇㅔ', 'ㅅㅏㅇㅎㅘㅇㅇㅡㄹ', 'ㅋㅓㄴㅣㅇㅇㅡㄹ', 'ㄷㅏㅇㄴㅛㄱㅏ', 'ㅅㅓㅇㅂㅕㄹ', 'ㅇㅓㄹㅕㅇㅜㄹ', 'ㅇㅓㄴㄹㅗㄴ', 'ㅁㅜㄹㄱㅗ', 'ㄲㅗㄹㅇㅣ', 'ㄱㅡㄹㅓㄴㄱㅔ', 'ㄷㅡㄹㅕㅇㅛ', 'ㄴㅓㅁㅇㅓ', 'ㅂㅕㅇㅇㅡㄴ', 'ㅅㅓㅇㄱㅗㅇ', 'ㅁㅏㅈㄴㅡㄴㄷㅔ', 'ㄱㅏㅉㅏ', 'ㅌㅓㄹㅇㅓ', 'ㅇㅏㄹㄱㅔㅆㄷㅏ', 'ㄷㅡㄹㅣㄹㄱㅔㅇㅛ', 'ㅈㅜㅇㅇㅣㄹㅏ', 'ㅇㅏㄶㅇㅡㅅㅕㅅㅓ', 'ㄷㅏㄻㅇㅡㄴ', 'ㅁㅐㄴㅕㄴ', 'ㄷㅗㅇㄱㅣ', 'ㅈㅗㅅㅓㄴㅈㅗㄱ', 'ㅎㅕㄹㅇㅏㅂㅇㅣ', 'ㅁㅜㄴㅏㄴ', 'ㄱㅐㄱㅡㄱㅎㅕㅁ', 'ㅁㅏㅈㅣㅁㅏㄱㅇㅔ', 'ㅇㅕㄱㅣㄴ', 'ㅎㅏㄴㅡㄴㄱㅓㄴㅑ', 'ㅅㅡㅇㅇㅠㄴㄴㅣㅁ', 'ㅁㅗㄹㅡㄴㅗ', 'ㅅㅏㅇㅌㅐㄹㅡㄹ', 'ㅈㅏㄴㅕ', 'ㅇㅐㄷㅗ', 'ㅈㅏㅅㅣㄱㄷㅡㄹ', 'ㄷㅏㄴㅈㅓㄹ', 'ㅆㅏㅇㅜㅁ', 'ㅂㅜㄱㄱㅚ', 'ㅊㅐㅇㄱㅕㅇㅑ', 'ㅅㅏㅇㅇㅣㅁ', 'ㅅㅡㅌㅏㅇㅣㄹㅇㅣ', 'ㅂㅣㅇㅛㅇㅇㅡㄹ', 'ㅈㅣㄱㅡㅁㄲㅓㅅ', 'ㅂㅜㄹㅓㅇㅝㅅㅓ', 'ㅇㅑㄱㅡㄴㅇㅡㄹ', 'ㅌㅚㅁㅜㄹ', 'ㅇㅣㅂㅓㄴㅇㅔㄷㅗ', 'ㅂㅗㅇㅣㅅㅡ', 'ㅇㅣㅈㅏ', 'ㅎㅏㄹㅁㅓㄴㅣ', 'ㄱㅚㄹㅗㅂㅎㅕ', 'ㅍㅣㄱㅗㄴㅎㅐ', 'ㅎㅘㅈㅏㅇ', 'ㅂㅗㅇㅣㅁㅕㄴ', 'ㅁㅜㅅㅏㅎㅣ', 'ㄷㅏㅇㅅㅣㄴㅇㅣ', 'ㅎㅜㅂㅐㄱㅏ', 'ㅊㅓㄴㄱㅜㄱ', 'ㅅㅏㅇㅅㅏ', 'ㄱㅓㄲㅜㄹㅗ', 'ㅈㅟㅇㅓ', 'ㅂㅘㅆㄷㅓㄴ', 'ㅈㅣㅂㅅㅏㄹㅏㅁㄱㅘ', 'ㅇㅏㅈㅣ', 'ㅇㅜㄹㅣㄴ', 'ㅁㅗㄹㅡㄴㄷㅏ', 'ㅇㅔㅅㅓ', 'ㄱㅏㅂㅘㅆㄷㅓㄴㅣ', 'ㄴㅏㅇㅔㄱㅔㄴㅡㄴ', 'ㅇㅕㅆㄷㅏ', 'ㅇㅚㅅㅣㄱ', 'ㅈㅗㅅㅣㅁㅎㅐㅇㅑ', 'ㅅㅣㄱㅅㅏ', 'ㄱㅏㅁㄱㅣㅇㅔ', 'ㄱㅏㄹㅏㄱㅗ', 'ㄱㅓㄱㅈㅓㅇㄷㅗ', 'ㅇㅘㅆㄷㅏ', 'ㄷㅗㄴㅁㅏㄴ', 'ㅇㅝㄴㅁㅏㅇ', 'ㄱㅣㅇㅓㄱㄷㅗ', 'ㅎㅏㄱㅂㅜㅁㅗ', 'ㅎㅜㄹㅗ', 'ㅁㅏㅁㄷㅐㄹㅗ', 'ㅅㅐㅇㅇㅣㄹㅇㅣㄴㄷㅔ', 'ㅇㅖㅃㅓ', 'ㅂㅕㅇㅈㅏㄷㅡㄹㅇㅡㄴ', 'ㅂㅗㄴㅐㅇㅑ', 'ㅁㅏㅈㅇㅏㅅㅓ', 'ㄱㅏㅊㅣㄱㅏ', 'ㅅㅜㄴㅅㅏㄱ', 'ㅁㅓㄱㅇㅓㄹㅏ', 'ㅇㅣㄹㅂㅜ', 'ㅂㅕㅇㅅㅣㄴㄷㅡㄹ', 'ㅋㅗㄹㅡㅅㅔㅅ', 'ㅇㅣㄹㅡㅁㅇㅡㄹ', 'ㅈㅓㅇㅈㅓㅇ', 'ㅇㅜㄴㄷㅗㅇㅎㅏㄴ', 'ㅅㅔㅇㅝㄹㅎㅗ', 'ㅇㅣㅇㅓㅆㄷㅓㄴ', 'ㅍㅖㅇㅏㅁ', 'ㅁㅓㅅㅇㅣㅆㅇㅓ', 'ㄷㅗㄴㅇㅡㄴ', 'ㄱㅛㅌㅗㅇㅅㅏㄱㅗㄱㅏ', 'ㅈㅓㅇㅅㅣㄴㅇㅡㄹ', 'ㅊㅗㅇㅈㅏㅇㄴㅣㅁㅇㅣ', 'ㄴㅗㄷㅏㅂ', 'ㅇㅣㄺㄱㅗ', 'ㅍㅣㅎㅐㅅㅓ', 'ㅈㅜㅇㄱㅜㄱㅇㅡㄴ', 'ㅊㅓㄹㅣㄱㅏ', 'ㄸㅏㅇㅟ', 'ㅈㅐㅅㅐㅇ', 'ㄷㅗㅎㅏㄱㅗ', 'ㄱㅓㄷㅡㄹ', 'ㅅㅣㄴㄱㅏ', 'ㅅㅏㄹㅏㅇㅇㅡㄴ', 'ㄱㅜㅇㅕㄱㅈㅣㄹㅇㅣㄴㅏ', 'ㅈㅜㅇㅇㅢ', 'ㅈㅏㄷㅏㄱㅏ', 'ㅂㅗㅈㅗ', 'ㅂㅣㅆㅏㄱㅔ', 'ㅈㅏㅊㅣㅇ', 'ㅈㅓㅇㅅㅣㄴㅇㅣ', 'ㅅㅗㄱㅐㄹㅡㄹ', 'ㅂㅏㄷㅇㅡㅁㅕㄴ', 'ㅇㅏㄹㄹㅏㅁ', 'ㄱㅏㄹㅇㅏ', 'ㅇㅣㄹㅂㅔㅊㅜㅇ', 'ㅍㅖㅇㅏㅁㅇㅔ', 'ㅈㅗㅁㅏㅈㅗㅁㅏㅎㅐ', 'ㅍㅣㅎㅏㄱㅗ', 'ㄷㅚㄱㅔㅆㅅㅡㅂㄴㅣㄷㅏ', 'ㄱㅡㄹㅓㅁㅕㄴ', 'ㅇㅛㅇㄱㅣㄹㅡㄹ', 'ㅈㅏㅇㅕㅇ', 'ㅁㅏㄴㅈㅗㄱㅎㅐ', 'ㅂㅗㅈㅏㅁㅏㅈㅏ', 'ㅂㅜㄹㅇㅏㄴㅎㅐㅅㅓ', 'ㅅㅏㄱㅣㄹㅡㄹ', 'ㅊㅜㄹㅅㅣ', 'ㅇㅗㄹㄹㅣㄴㅗ', 'ㅁㅗㅇㅣㅁㅇㅣ', 'ㅇㅏㅍㅡㄷㅏㄴㅡㄴ', 'ㅊㅣㄴㄱㅜㅊㅓㄹㅓㅁ', 'ㅁㅏㄶㅇㅡㄴㅣ', 'ㅂㅗㅇㅣㄴㄷㅏㄱㅗ', 'ㄷㅏㅇㅎㅐㅆㄷㅏㄴㅡㄴ', 'ㅎㅐㅈㅝㅆㄴㅡㄴㄷㅔ', 'ㅍㅓㅇㅍㅓㅇ', 'ㄱㅗㅇㅑㅇㅇㅣㄴㅡㄴ', 'ㅅㅣㄱㅅㅏㄹㅡㄹ', 'ㄱㅣㄹㄹㅗ', 'ㅈㅏㅁㅁㅏㄴ', 'ㄱㅗㅇㅡㅁ', 'ㅇㅣㅂㄷㅐ', 'ㅆㅜㅅㅕ', 'ㅋㅣㅇㅜㄴ', 'ㄷㅡㄹㅇㅡㅁ', 'ㅂㅘㅆㄷㅓㄴㅣ', 'ㅅㅓㄷㅗ', 'ㄱㅣㅂㅜㄴㄷㅗ', 'ㅇㅏㄴㅣㄹㅏㄴㅡㄴ', 'ㅎㅗㄴㅇㅡㄹ', 'ㅅㅓㅇㅇㅣㄴ', 'ㄴㅏㅃㅡㅈㅣ', 'ㄸㅐㄹㅣㄴㅡㄴ', 'ㄷㅚㄱㅔㅆㄴㅔ', 'ㄷㅡㅇㅇㅡㄹ', 'ㅁㅗㅇㅕㅅㅓ', 'ㄷㅗㄹㅇㅏㄱㅏㅅㅕㅅㅓ', 'ㅎㅏㅅㅣㄴㅔ', 'ㄱㅓㄹㄹㅣㄱㅗ', 'ㄲㅡㄶㅇㅓ', 'ㄱㅏㅁㅅㅏㅎㅏㄴㅔㅇㅛ', 'ㄷㅡㄹㅇㅓㅇㅗㄴ', 'ㅊㅓㄴㅈㅐ', 'ㅂㅕㅇㅈㅏㄷㅡㄹ', 'ㄱㅏㅆㄷㅓㄴ', 'ㅎㅏㅅㅕㅆㄴㅡㄴㅈㅣ', 'ㅎㅐㅆㅇㅡㄴㅣ', 'ㅇㅗㄹㄹㅕㅈㅜㅅㅔㅇㅛ', 'ㄴㅕㄴㄷㅡㄹㅇㅡㄴ', 'ㅇㅏㅇㅣㄷㅣ', 'ㅋㅣㅇㅜㄴㅡㄴ', 'ㄱㅏㅌㄴㅑ', 'ㄴㅕㄴㄷㅡㄹㅇㅣ', 'ㅎㅐㅇㅗㄴ', 'ㅂㅓㄹㅣㅁㅕㄴ', 'ㅈㅏㅇㄴㅣㅁㅇㅡㄴ', 'ㅇㅣㅆㄱㅣㄴ', 'ㅇㅓㅁㅁㅏㅇㅢ', 'ㅈㅓㅇㅂㅜ', 'ㅅㅏㅈㅏㅇㅇㅣ', 'ㅇㅓㅄㅇㅡㄴㅣㄲㅏ', 'ㅌㅡㄹㄴㅣ', 'ㄹㅣㄱㅏ', 'ㅈㅗㅇㅇㅣ', 'ㅈㅣㅇㅣㄴㄷㅡㄹㅇㅣ', 'ㅁㅗㄹㅡㄹ', 'ㄱㅗㅇㅅㅏㄴㅈㅜㅇㅢ', 'ㅁㅏㄴㅇㅑㄱ', 'ㅅㅡㅌㅏㅇㅣㄹ', 'ㄹㅏㅇㅣㅂㅡ', 'ㅃㅏㅈㅣㅁ', 'ㅈㅜㄱㅇㅓㄷㅗ', 'ㅈㅓㄹㄷㅐㄹㅗ', 'ㅇㅗㅅㅣㅂ', 'ㅇㅣㄹㅡㅁㅁㅏㄴ', 'ㅌㅐㅇㅓㄴㅏㅅㅓ', 'ㄷㅏㅊㅕㅆㅇㅓ', 'ㅎㅐㅈㅜㄹㅏ', 'ㄴㅜㄴㅁㅜㄹㅇㅡㄹ', 'ㅂㅜㄹㅇㅏㄴㅎㅏㄴㅔ', 'ㅁㅐㄹㅕㄱㅇㅣ', 'ㄴㅓㄼㅇㅡㄴ', 'ㅁㅓㅅㅇㅣㅆㅅㅡㅂㄴㅣㄷㅏ', 'ㅌㅏㄴㅅㅐㅇ', 'ㅅㅏㄴㅅㅗ', 'ㄴㅓㅁㄴㅡㄴ', 'ㅂㅘㅆㅈㅏ', 'ㄱㅕㅇㅊㅏㄹ', 'ㅍㅣㄹㅇㅛㄱㅏ', 'ㅅㅜㄹㅈㅣㅂ', 'ㅍㅣㄹㅇㅛㅎㅏㄴㄷㅔ', 'ㅇㅗㅎㅐㄱㅏ', 'ㄱㅗㅇㅂㅜㄱㅏ', 'ㅍㅗㄱㅣㅎㅏㄱㅗ', 'ㄷㅡㄹㅇㅓㄱㅏㄹ', 'ㅎㅐㅇㅂㅗㄱㅎㅐㅆㅇㅓㅇㅛ', 'ㅇㅏㄴㄱㅕㅇ', 'ㅁㅏㄴㄷㅡㄴㅔ', 'ㅊㅓㄱㅇㅡㄹ', 'ㅊㅣㅁㅐㅇㅔ', 'ㅇㅓㅉㅣㄴㅏ', 'ㅈㅓㄴㄱㅗㅇ', 'ㅅㅡㄹㅓ', 'ㅇㅏㅈㅓㅆㅣ', 'ㄱㅘㄴㅈㅓㄹㅇㅕㅁㅇㅔ', 'ㅂㅗㄱㅣㅁㅏㄴ', 'ㅈㅜㄹㅇㅣㅇㅑ', 'ㅊㅜㄹㅅㅣㄴ', 'ㄷㅜㄹㅆㅣㄱ', 'ㄷㅚㄴㅡㄴㄱㅔ', 'ㅇㅏㅈㅣㄱㄲㅏㅈㅣ', 'ㅅㅣㅂㄴㅕㄴ', 'ㅈㅜㅅㅣㄱㅗ', 'ㅂㅜㅇㅓㅇㅇㅣ', 'ㄱㅓㄹㅐ', 'ㅂㅕㄹㄹㅗㅇㅑ', 'ㅌㅐㄷㅗㄱㅏ', 'ㄴㅏㅇㅗㄱㅣㄹ', 'ㅇㅏㄹㅇㅏㅂㅗㄱㅗ', 'ㅅㅡㅌㅗㄹㅣ', 'ㅋㅗㄹㄹㅔㅅㅡㅌㅔㄹㅗㄹ', 'ㅇㅣㄴㅊㅓㄱ', 'ㄱㅗㅎㅐ', 'ㅊㅜㅇㄷㅡㄹ', 'ㅎㅐㅆㄱㅗ', 'ㅅㅜㅇㅓㅄㅇㅣ', 'ㅁㅏㄴㅅㅓㅇ', 'ㅂㅏㄹㅏㄴㄷㅏ', 'ㅇㅣㅀㅇㅓㅅㅓ', 'ㅂㅏㄲㅟㅁㅕㄴ', 'ㅇㅕㅇㅅㅏㅇㅇㅔ', 'ㅇㅣㅈㅔㅇㅘ', 'ㅂㅜㅉㅓㄱ', 'ㅅㅏㅈㅜㄱㅗ', 'ㅈㅣㄴㅏㄴ', 'ㄷㅏㄹㄹㅐ', 'ㄴㅗㄴㄹㅏㄴ', 'ㅈㅓㄱㅣ', 'ㅇㅗㅎㅐ', 'ㅈㅣㅅㅣㄱㅇㅣ', 'ㅋㅓㅁㅂㅐㄱ', 'ㅇㅣㄹㄷㅡㅇ', 'ㅇㅖㅃㅓㅅㅓ', 'ㄴㅣㅇㅑ', 'ㄴㅗㅇㅣㄴㅇㅣ', 'ㅈㅗㅎㅇㅡㄹ', 'ㄷㅓㄴㅡㄴ', 'ㅇㅏㅂㅓㄴㅣㅁㄷㅗ', 'ㅇㅐㄷㅡㄹㄱㅘ', 'ㄴㅐㅆㄴㅡㄴㄷㅔ', 'ㅁㅏㅇㅡㅁㅇㅣㅇㅑ', 'ㅇㅏㅁㅇㅣㄹㅐ', 'ㅈㅓㄹㅁㅏㅇㅈㅓㄱㅇㅣㅇㅑ', 'ㅎㅐㅂㅘ', 'ㄴㅏㅇㅗㄴㅡㄴㄷㅔ', 'ㅍㅖㄱㅕㅇㅇㅣ', 'ㅅㅗㄱㅅㅏㅇㅎㅐㅆㅇㅓ', 'ㅆㅡㄴㅡㄴㄱㅔ', 'ㄱㅗㅎㅏㅁ', 'ㅌㅡㄹㅓㅁㅍㅡ', 'ㄷㅡㄹㅇㅓㅈㅜㅈㅣ', 'ㅆㅡㅅㅣㄷㅏㄴㅣ', 'ㄱㅏㄴㅊㅓㅂ', 'ㄴㅗㅎㅜㅇㅔ', 'ㅎㅏㅅㅣㄹ', 'ㅅㅏㅇㅣ', 'ㅇㅚㄴㅅㅗㄴㅇㅡㄹㅗ', 'ㅁㅏㅅㅕㅅㅓ', 'ㅈㅜㄱㄴㅡㄴㄷㅏㄱㅗ', 'ㅁㅏㅈㅇㅏㅆㄴㅡㄴㄷㅔ', 'ㄸㅏㄹㄱㅘ', 'ㅅㅡㅇㄹㅣ', 'ㄱㅏㄷㅡㄴ', 'ㅉㅏㄼㅇㅡㄴ', 'ㄱㅓㄹㄱㅡㄹㅜㅂ', 'ㄱㅓㄹㅏㅇ', 'ㅁㅏㄱㅎㅣㄱㅗ', 'ㄴㅓㅁㅇㅓㅈㅕ', 'ㅅㅏㅇㄱㅘㄴ', 'ㅇㅖㅈㅓㄴㅇㅔㄴㅡㄴ', 'ㅇㅣㄹㅂㅗㄴㅇㅡㄹ', 'ㅅㅓㄴㅅㅐㅇㄴㅣㅁㄱㅘ', 'ㅅㅗㄱㅇㅡㄹㅗ', 'ㄴㅏㅂㅏㄹㅇㅣㄱㅗ', 'ㅁㅏㅅㅣㄹ', 'ㄴㅡㄲㅣㄹ', 'ㄱㅣㅈㅓㄱㅇㅣ', 'ㅂㅏㄷㅏ', 'ㅅㅏㄻㅇㅔ', 'ㄱㅓㄴㄱㅏㅇㅎㅏㄹ', 'ㅅㅓㅈㅜㄴㅇㅣ', 'ㅁㅓㄱㅏ', 'ㅇㅡㄴㅌㅚ', 'ㅇㅢㅇㅚㄹㅗ', 'ㄱㅣㅎㅚㄱ', 'ㅇㅚㅅㅣㄱㅇㅡㄹ', 'ㅋㅗㄹㅗㄴㅏㄹㅗ', 'ㄱㅚㄹㅗㅂㅎㅣㅈㅣ', 'ㅊㅓㅇㅡㅁㅇㅣㅇㅑ', 'ㄷㅡㄹㅇㅣㅂㄴㅣㄷㅏ', 'ㅍㅜㄹㅈㅣ', 'ㅇㅜㅅㄱㅣㄱㅗ', 'ㄱㅏㅁㅅㅏㅇ', 'ㅈㅣㄴㅈㅓㅇ', 'ㅇㅗㄹㄹㅏㅆㅇㅓ', 'ㅂㅕㅇㅇㅡㄹㅗ', 'ㅁㅣㄷㅇㅡㅁㅇㅣ', 'ㄴㅏㅇㅔㄱㅔㅁㅏㄴ', 'ㄸㅡㅅㄷㅐㄹㅗ', 'ㄱㅡㄹㅓㄴㄱㅓ', 'ㅅㅣㄱㅣ', 'ㅈㅏㄹㅣㅇㅔㅅㅓ', 'ㅅㅏㄹㄷㅏㄱㅏ', 'ㅎㅐㅈㅜㅇㅓㅆㅇㅓ', 'ㅂㅜㄴㅌㅏㅇ', 'ㄷㅏㅇㅣㅇㅓㅌㅡㄹㅡㄹ', 'ㄱㅏㄴㅎㅗ', 'ㅅㅣㅇㅟ', 'ㅅㅏㄹㄱㅔㅆㄷㅏㄱㅗ', 'ㅎㅕㅇㅍㅕㄴㅇㅣ', 'ㅅㅣㄹㅁㅏㅇㅇㅣㅇㅑ', 'ㅁㅗㄹㅡㄴㅏ', 'ㄱㅏㅇㅈㅔ', 'ㅅㅣㄹㅍㅐㅎㅐㅅㅓ', 'ㅅㅏㄹㅇㅏㅇㅗㄴ', 'ㄸㅐㅇㅢ', 'ㄴㅗㅎㅜ', 'ㅈㅗㅅㅓㄴ', 'ㄷㅏㄴㅡㄴ', 'ㅈㅓㄴㅅㅡㅇ', 'ㅊㅟㅈㅣㄱㅇㅡㄹ', 'ㅁㅕㄴㅈㅓㅂㅇㅔㅅㅓ', 'ㄱㅓㄹㅇㅓㅅㅓ', 'ㄴㅏㅁㅍㅕㄴㅇㅡㄹ', 'ㅂㅕㄹㄱㅓ', 'ㄷㅡㄹㄹㅕㅅㅓ', 'ㅇㅓㅄㅇㅡㅅㅣㄴ', 'ㅈㅗㅎㅇㅏㅎㅐ', 'ㅋㅟㅈㅡ', 'ㅊㅓㅇㅡㅁㅇㅣㄴㅔ', 'ㅇㅣㅂㅔㄴㅌㅡㄹㅡㄹ', 'ㅅㅏㄴㅡㄴㄱㅔ', 'ㄱㅏㅌㅇㅡㄴㄱㅓㄴ', 'ㅈㅓㄴㅕㄱ', 'ㅎㅐㅈㅜㅅㅕㅆㅇㅓ', 'ㅇㅣㄴㅈㅣ', 'ㅋㅏㄹㄹㅗ', 'ㅂㅏㅈㅣ', 'ㅇㅜㅁㅈㅣㄱㅇㅣㅈㅣ', 'ㄷㅙㅆㄷㅏㄱㅗ', 'ㄷㅚㅇㅓㅆㅇㅓㅇㅛ', 'ㅅㅏㅇㅈㅗㅇ', 'ㅇㅏㄴㅇㅣ', 'ㄴㅜㄱㅜㄴㅈㅣ', 'ㄷㅏㅁㅜㄴㅎㅘ', 'ㄷㅏㄹㄹㅏㄴㅡㄴ', 'ㅇㅣㄱㅕ', 'ㄷㅡㄹㄹㅕㅈㅜㅅㅔㅇㅛ', 'ㅇㅕㄴㅇㅖㅇㅣㄴㄷㅡㄹㅇㅡㄴ', 'ㅇㅣㅆㄴㅡㄴㄱㅔ', 'ㅇㅣㄹㅇㅣㄴㄱㅏ', 'ㅁㅓㄱㅇㅕ', 'ㅈㅣㄴㄹㅗ', 'ㅍㅣㅇㅜㄱㅗ', 'ㅇㅛㅇㅅㅓㄹㅡㄹ', 'ㅁㅏㄴㄴㅏㄷㅗ', 'ㄷㅐㄷㅏㄴㅎㅏㄴㄱㅓ', 'ㄱㅏㅆㄴㅔ', 'ㅁㅓㄱㅇㅡㅁㅕㄴㅅㅓ', 'ㅂㅏㅇㅅㅗㅇㄱㅜㄱ', 'ㅇㅚㄹㅗㅇㅝㅆㅇㅓ', 'ㅇㅣㅅㅇㅓㅇㅛ', 'ㄱㅐㅎㅕㄱ', 'ㅇㅛㄱㅊㅓ', 'ㅇㅏㄴㄴㅏ', 'ㅈㅣㄴㄹㅗㄹㅡㄹ', 'ㅇㅏㄴㅣㄴㄷㅔㄷㅗ', 'ㅅㅣㅍㅅㅡㅂㄴㅣㄷㅏ', 'ㅎㅏㄹㅁㅏㄹㅇㅣ', 'ㄷㅜㄷㅡㄹ', 'ㅇㅓㅄㅇㅓㅆㄷㅓㄴ', 'ㅇㅓㅄㄷㅓㄴㄷㅔ', 'ㄸㅜㅇㄸㅜㅇㅎㅏㄴ', 'ㄱㅗㅈㅏㄱ', 'ㅍㅗㄱㄹㅕㄱㅇㅔ', 'ㅇㅓㄴㄱㅡㅂ', 'ㄱㅕㅇㄱㅣ', 'ㅎㅏㄱㅣㄷㅗ', 'ㅊㅏㅇㅍㅣㅎㅐㅆㅇㅓ', 'ㅅㅣㅁㅈㅣㅇㅓ', 'ㅈㅡㅇㅁㅏㄹ', 'ㄴㅏㅇㅗㄹㄲㅏ', 'ㄱㅏㅌㅈㅣㄷㅗ', 'ㄴㅗㄹㅇㅏ', 'ㄱㅕㅇㅇㅜㄱㅏ', 'ㄷㅡㄹㅈㅣ', 'ㄷㅡㄹㅇㅡㄹㅓ', 'ㄱㅡㄸㅏㄴ', 'ㄱㅣㄹㅕㄱㅇㅣ', 'ㅈㅏㄱㄱㅗ', 'ㅁㅗㄱㅈㅓㄱㅇㅣ', 'ㅇㅗㄱㅗ', 'ㅂㅏㄱㄱㅡㄴㅎㅖ', 'ㄷㅏㄴㅣㄱㅣ', 'ㅎㅏㅅㅣㄴㄱㅓ', 'ㅁㅗㄹㅡㄴㅣ', 'ㅇㅕㅇㅅㅏㅇㅇㅡㄴ', 'ㅂㅜㄴㅇㅡㄴ', 'ㅇㅏㅁㅜㄴㅏ', 'ㅅㅏㄱㅣ']\n"
          ]
        }
      ]
    },
    {
      "cell_type": "code",
      "source": [
        "# fasttext api설명 https://nodoudt.tistory.com/55\n",
        "ft_model.get_sentence_vector('ㄷㅐㅎㅏㄱ')"
      ],
      "metadata": {
        "colab": {
          "base_uri": "https://localhost:8080/"
        },
        "id": "OFoOsonrrlN1",
        "outputId": "d2f26b82-e30c-40c7-f9ce-62753a8feecf"
      },
      "execution_count": 36,
      "outputs": [
        {
          "output_type": "execute_result",
          "data": {
            "text/plain": [
              "array([ 0.01324056,  0.00580734, -0.08664867, -0.17019963,  0.16887508,\n",
              "       -0.07869152, -0.03167704,  0.01322292,  0.1361508 ,  0.2070557 ,\n",
              "       -0.10869481,  0.03515778, -0.09198602, -0.03679711, -0.0209198 ,\n",
              "        0.15279567, -0.1131694 ,  0.13841309, -0.01095998, -0.0136619 ,\n",
              "       -0.02808256,  0.08644884,  0.05041374, -0.20632719,  0.00311497,\n",
              "       -0.05439674, -0.08410746, -0.03875487, -0.02194262,  0.07261845,\n",
              "        0.0354588 ,  0.14057828,  0.02704811, -0.15029638, -0.02713206,\n",
              "       -0.00334003, -0.03311166,  0.07718796, -0.16876212,  0.18929045,\n",
              "        0.11011752, -0.11711889,  0.22883749,  0.06884044, -0.11692058,\n",
              "       -0.15137048, -0.08184246,  0.02491824, -0.05123064, -0.07143852,\n",
              "        0.18881813, -0.05072917,  0.04362598, -0.00250375, -0.01656044,\n",
              "       -0.00626639, -0.1175679 ,  0.13039884, -0.00133363, -0.09688377,\n",
              "        0.07041819,  0.13640255,  0.02406656,  0.10992698,  0.01849504,\n",
              "       -0.10002455, -0.10025406, -0.10220017, -0.00636648,  0.15242624,\n",
              "        0.09117826, -0.09649878, -0.15693983, -0.05454279, -0.04281623,\n",
              "       -0.17977673,  0.22303715,  0.03158482,  0.03861824, -0.08378887,\n",
              "       -0.04067608, -0.08479217, -0.02177683,  0.11606932,  0.08892123,\n",
              "        0.01737332,  0.07921647, -0.07476934, -0.06289934,  0.02899454,\n",
              "       -0.01344486, -0.00351837,  0.00461024,  0.10883501, -0.1303808 ,\n",
              "        0.03557759,  0.00443237,  0.15435095,  0.0444107 , -0.22790055],\n",
              "      dtype=float32)"
            ]
          },
          "metadata": {},
          "execution_count": 36
        }
      ]
    },
    {
      "cell_type": "markdown",
      "source": [
        "**임베딩**"
      ],
      "metadata": {
        "id": "E6Y1az5wvsSt"
      }
    },
    {
      "cell_type": "code",
      "source": [
        "from tqdm.notebook import tqdm"
      ],
      "metadata": {
        "id": "kAmpQ4de0WlP"
      },
      "execution_count": 37,
      "outputs": []
    },
    {
      "cell_type": "code",
      "source": [
        "train_vec = []\n",
        "sentence_number = 25    # 25개 초과 단어는 제거해서 25로 설정\n",
        "\n",
        "for sen in tqdm(train_df.Sentence.values):\n",
        "  word_list_vec = []\n",
        "  sen_split = sen.split()\n",
        "  for w_index in range(sentence_number):\n",
        "    if w_index < len(sen_split):\n",
        "      word_list_vec.append(ft_model[sen_split[w_index]])\n",
        "    else:\n",
        "      word_list_vec.append(np.array([0]*100))\n",
        "  word_list_vec = np.array(word_list_vec)\n",
        "  train_vec.append(word_list_vec)\n",
        "\n",
        "train_vec = np.array(train_vec)\n",
        "train_vec.shape"
      ],
      "metadata": {
        "colab": {
          "base_uri": "https://localhost:8080/",
          "height": 67,
          "referenced_widgets": [
            "57657ccea84f4c01a58414ef3339433e",
            "e0d2354335ef4e8b8518b360eec1db6b",
            "aebc3ecf35984994820c6e45c7ad496e",
            "04f95c6668104e1aa84bc6c16f3150f5",
            "36e5693911df4bbebeae726f77f2b2b0",
            "12bb6d5897d04fff9c672623bce4244a",
            "28a0e8ad99894133aae43bbd94b97ed5",
            "9d98efae852d4134ab47f43f24c2e7ac",
            "aa6ab1b8bd7a4d38a80906d04e297005",
            "badbaade301f4115b3b78113f5004fee",
            "68d5cf74a44b4de2a34cfdbae9242fbc"
          ]
        },
        "id": "8YEWX863vvPZ",
        "outputId": "c1a940b7-45e1-46da-cbc4-6c7e8f31d0ef"
      },
      "execution_count": 38,
      "outputs": [
        {
          "output_type": "display_data",
          "data": {
            "text/plain": [
              "  0%|          | 0/14282 [00:00<?, ?it/s]"
            ],
            "application/vnd.jupyter.widget-view+json": {
              "version_major": 2,
              "version_minor": 0,
              "model_id": "57657ccea84f4c01a58414ef3339433e"
            }
          },
          "metadata": {}
        },
        {
          "output_type": "execute_result",
          "data": {
            "text/plain": [
              "(14282, 25, 100)"
            ]
          },
          "metadata": {},
          "execution_count": 38
        }
      ]
    },
    {
      "cell_type": "code",
      "source": [
        "test_vec = []\n",
        "sentence_number = 25\n",
        "\n",
        "for sen in tqdm(test_df.Sentence.values):\n",
        "  word_list_vec = []\n",
        "  sen_split = sen.split()\n",
        "  for w_index in range(sentence_number):\n",
        "    if w_index < len(sen_split):\n",
        "      word_list_vec.append(ft_model[sen_split[w_index]])\n",
        "    else:\n",
        "      word_list_vec.append(np.array([0]*100))\n",
        "  word_list_vec = np.array(word_list_vec)\n",
        "  test_vec.append(word_list_vec)\n",
        "\n",
        "test_vec = np.array(test_vec)"
      ],
      "metadata": {
        "colab": {
          "base_uri": "https://localhost:8080/",
          "height": 49,
          "referenced_widgets": [
            "adeeb7015a4d4e7f9cb4928c1e02d87b",
            "1ce9522ab058422484796bc145cfa649",
            "e77c73254a604b3a83fe4cccd6e52db0",
            "ba27685ddbda494bbb2087f3c33d0d74",
            "5df80dee3d4f4c90bd1d8b7ec3411c83",
            "b8dcf957f9a546068af4570069228aea",
            "aa9db3b79c3642c2a362f72e6e99c72c",
            "5e946e2b64fd46819af413286fd91ff8",
            "34dfd16111eb499d82d3439f44f843c5",
            "44f3f72c0a984a3c9e575b6e856b20fe",
            "c8d4072e529f484187bceb734fef02ad"
          ]
        },
        "id": "dLh59SnWh3NR",
        "outputId": "e3824891-220b-4fa2-8ab7-331849d4d516"
      },
      "execution_count": 40,
      "outputs": [
        {
          "output_type": "display_data",
          "data": {
            "text/plain": [
              "  0%|          | 0/3600 [00:00<?, ?it/s]"
            ],
            "application/vnd.jupyter.widget-view+json": {
              "version_major": 2,
              "version_minor": 0,
              "model_id": "adeeb7015a4d4e7f9cb4928c1e02d87b"
            }
          },
          "metadata": {}
        }
      ]
    },
    {
      "cell_type": "markdown",
      "source": [
        "**Y(label) get_dummies(원핫인코딩)**"
      ],
      "metadata": {
        "id": "8bttguYyTg93"
      }
    },
    {
      "cell_type": "code",
      "source": [
        "y_train = pd.get_dummies(train_df['label']).values"
      ],
      "metadata": {
        "id": "VRMH38A84KjB"
      },
      "execution_count": 41,
      "outputs": []
    },
    {
      "cell_type": "code",
      "source": [
        "y_test = pd.get_dummies(test_df['label']).values"
      ],
      "metadata": {
        "id": "ydKB7P-qiM8H"
      },
      "execution_count": 43,
      "outputs": []
    },
    {
      "cell_type": "code",
      "source": [
        "X_train = train_vec"
      ],
      "metadata": {
        "id": "Ff8ByUAJZHkX"
      },
      "execution_count": 44,
      "outputs": []
    },
    {
      "cell_type": "code",
      "source": [
        "X_test = test_vec"
      ],
      "metadata": {
        "id": "lv6KhpYxiTB2"
      },
      "execution_count": 45,
      "outputs": []
    },
    {
      "cell_type": "code",
      "source": [
        "import tensorflow as tf"
      ],
      "metadata": {
        "id": "9oQUiTQnbMLX"
      },
      "execution_count": 47,
      "outputs": []
    },
    {
      "cell_type": "markdown",
      "source": [
        "**모델링**"
      ],
      "metadata": {
        "id": "kupP_1WFLWhW"
      }
    },
    {
      "cell_type": "code",
      "source": [
        "model = Sequential()\n",
        "model.add(LSTM(units=10, input_shape=(25, 100)))\n",
        "model.add(Dense(3, activation='sigmoid'))\n",
        "model.compile( optimizer = tf.keras.optimizers.RMSprop( learning_rate = 0.001 ), loss = 'categorical_crossentropy', metrics = ['accuracy'])\n",
        "\n",
        "model.summary()"
      ],
      "metadata": {
        "colab": {
          "base_uri": "https://localhost:8080/"
        },
        "id": "zInJYMTYZc0v",
        "outputId": "aa199729-04e7-4cbb-f614-86aa3061c51f"
      },
      "execution_count": 48,
      "outputs": [
        {
          "output_type": "stream",
          "name": "stdout",
          "text": [
            "Model: \"sequential\"\n",
            "_________________________________________________________________\n",
            " Layer (type)                Output Shape              Param #   \n",
            "=================================================================\n",
            " lstm (LSTM)                 (None, 10)                4440      \n",
            "                                                                 \n",
            " dense (Dense)               (None, 3)                 33        \n",
            "                                                                 \n",
            "=================================================================\n",
            "Total params: 4,473\n",
            "Trainable params: 4,473\n",
            "Non-trainable params: 0\n",
            "_________________________________________________________________\n"
          ]
        }
      ]
    },
    {
      "cell_type": "code",
      "source": [
        "model.fit(X_train, y_train, epochs = 30, callbacks=tf.keras.callbacks.EarlyStopping('val_loss',patience=5),validation_split=0.2)"
      ],
      "metadata": {
        "colab": {
          "base_uri": "https://localhost:8080/"
        },
        "id": "9Fl48-Qkb_s_",
        "outputId": "80b6b8bb-6172-4599-f65d-76b86bbfe256"
      },
      "execution_count": 49,
      "outputs": [
        {
          "output_type": "stream",
          "name": "stdout",
          "text": [
            "Epoch 1/30\n",
            "358/358 [==============================] - 8s 15ms/step - loss: 0.7377 - accuracy: 0.6551 - val_loss: 0.6486 - val_accuracy: 0.6867\n",
            "Epoch 2/30\n",
            "358/358 [==============================] - 5s 13ms/step - loss: 0.5298 - accuracy: 0.7910 - val_loss: 0.4263 - val_accuracy: 0.8547\n",
            "Epoch 3/30\n",
            "358/358 [==============================] - 5s 13ms/step - loss: 0.3895 - accuracy: 0.8675 - val_loss: 0.4060 - val_accuracy: 0.8551\n",
            "Epoch 4/30\n",
            "358/358 [==============================] - 5s 13ms/step - loss: 0.3335 - accuracy: 0.8902 - val_loss: 0.3213 - val_accuracy: 0.8866\n",
            "Epoch 5/30\n",
            "358/358 [==============================] - 5s 13ms/step - loss: 0.2972 - accuracy: 0.9007 - val_loss: 0.3555 - val_accuracy: 0.8736\n",
            "Epoch 6/30\n",
            "358/358 [==============================] - 5s 13ms/step - loss: 0.2721 - accuracy: 0.9097 - val_loss: 0.2841 - val_accuracy: 0.8978\n",
            "Epoch 7/30\n",
            "358/358 [==============================] - 5s 13ms/step - loss: 0.2537 - accuracy: 0.9143 - val_loss: 0.3313 - val_accuracy: 0.8880\n",
            "Epoch 8/30\n",
            "358/358 [==============================] - 5s 13ms/step - loss: 0.2397 - accuracy: 0.9190 - val_loss: 0.2837 - val_accuracy: 0.9016\n",
            "Epoch 9/30\n",
            "358/358 [==============================] - 5s 13ms/step - loss: 0.2277 - accuracy: 0.9219 - val_loss: 0.2638 - val_accuracy: 0.9048\n",
            "Epoch 10/30\n",
            "358/358 [==============================] - 5s 13ms/step - loss: 0.2173 - accuracy: 0.9255 - val_loss: 0.2612 - val_accuracy: 0.9100\n",
            "Epoch 11/30\n",
            "358/358 [==============================] - 5s 13ms/step - loss: 0.2075 - accuracy: 0.9289 - val_loss: 0.2712 - val_accuracy: 0.9044\n",
            "Epoch 12/30\n",
            "358/358 [==============================] - 5s 13ms/step - loss: 0.1998 - accuracy: 0.9307 - val_loss: 0.2492 - val_accuracy: 0.9100\n",
            "Epoch 13/30\n",
            "358/358 [==============================] - 6s 16ms/step - loss: 0.1911 - accuracy: 0.9337 - val_loss: 0.2681 - val_accuracy: 0.9048\n",
            "Epoch 14/30\n",
            "358/358 [==============================] - 5s 13ms/step - loss: 0.1841 - accuracy: 0.9367 - val_loss: 0.2598 - val_accuracy: 0.9132\n",
            "Epoch 15/30\n",
            "358/358 [==============================] - 5s 13ms/step - loss: 0.1764 - accuracy: 0.9398 - val_loss: 0.2568 - val_accuracy: 0.9090\n",
            "Epoch 16/30\n",
            "358/358 [==============================] - 5s 13ms/step - loss: 0.1713 - accuracy: 0.9428 - val_loss: 0.2986 - val_accuracy: 0.9030\n",
            "Epoch 17/30\n",
            "358/358 [==============================] - 4s 13ms/step - loss: 0.1646 - accuracy: 0.9445 - val_loss: 0.2616 - val_accuracy: 0.9114\n"
          ]
        },
        {
          "output_type": "execute_result",
          "data": {
            "text/plain": [
              "<keras.callbacks.History at 0x7fbe92d43f90>"
            ]
          },
          "metadata": {},
          "execution_count": 49
        }
      ]
    },
    {
      "cell_type": "code",
      "source": [
        "loss, acc = model.evaluate(X_test, y_test)\n",
        "\n",
        "print('Test loss:', loss)\n",
        "print('Test accuracy:', acc)"
      ],
      "metadata": {
        "colab": {
          "base_uri": "https://localhost:8080/"
        },
        "id": "IlzMWruwiyzu",
        "outputId": "e09e6d1a-aea0-4da1-d4ba-28abae6ea94b"
      },
      "execution_count": 50,
      "outputs": [
        {
          "output_type": "stream",
          "name": "stdout",
          "text": [
            "113/113 [==============================] - 0s 4ms/step - loss: 0.2648 - accuracy: 0.9128\n",
            "Test loss: 0.2648204267024994\n",
            "Test accuracy: 0.9127777814865112\n"
          ]
        }
      ]
    },
    {
      "cell_type": "code",
      "source": [
        "model.save('Kor_NLP_LSTM.h5')"
      ],
      "metadata": {
        "id": "GuIyV25P2AD5"
      },
      "execution_count": 51,
      "outputs": []
    },
    {
      "cell_type": "markdown",
      "source": [
        "**모델 테스트**"
      ],
      "metadata": {
        "id": "AU36UkuEb7nu"
      }
    },
    {
      "cell_type": "code",
      "source": [
        "def model_test(s, fasttext_model, lstm_model):\n",
        "  test_word = j2hcj(h2j(s)) + ' '\n",
        "  test_word_split = test_word.split()\n",
        "  fast_vec = []\n",
        "  for index in range(sentence_number):\n",
        "    if index < len(test_word_split):\n",
        "      fast_vec.append(fasttext_model[test_word_split[index]])\n",
        "    else:\n",
        "      fast_vec.append(np.array([0]*100))\n",
        "\n",
        "  fast_vec = np.array(fast_vec)  \n",
        "  fast_vec = fast_vec.reshape(1, fast_vec.shape[0], fast_vec.shape[1])        # 3차원으로 크기 조절\n",
        "\n",
        "  test_pre = model.predict([fast_vec]).argmax()\n",
        "\n",
        "  if test_pre == 0:\n",
        "    return '긍정'\n",
        "  elif test_pre == 1:\n",
        "    return '부정'\n",
        "  elif test_pre == 2:\n",
        "    return '욕설'"
      ],
      "metadata": {
        "id": "GA7QZ7x6KkpR"
      },
      "execution_count": 53,
      "outputs": []
    },
    {
      "cell_type": "code",
      "source": [
        "while True:\n",
        "  comment = input('댓글 입력 : ')\n",
        "  if comment == 'gg':\n",
        "    break\n",
        "  \n",
        "  predict = '댓글이 ' + model_test(comment, ft_model, model) + '의미가 있음.\\n'\n",
        "  print(predict)"
      ],
      "metadata": {
        "colab": {
          "base_uri": "https://localhost:8080/"
        },
        "id": "4vm_ase6UW5d",
        "outputId": "700a49b6-c510-4ce3-a7a3-565099504c43"
      },
      "execution_count": 59,
      "outputs": [
        {
          "name": "stdout",
          "output_type": "stream",
          "text": [
            "댓글 입력 : 재미없음\n",
            "댓글이 욕설의미가 있음.\n",
            "\n",
            "댓글 입력 : 노잼임\n",
            "댓글이 욕설의미가 있음.\n",
            "\n",
            "댓글 입력 : gg\n"
          ]
        }
      ]
    }
  ]
}